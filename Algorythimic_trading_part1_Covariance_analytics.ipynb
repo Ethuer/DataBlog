{
 "cells": [
  {
   "cell_type": "code",
   "execution_count": null,
   "metadata": {},
   "outputs": [],
   "source": [
    "import pandas as pd\n",
    "import numpy as np\n",
    "\n",
    "\n",
    "# pymc3 with theano backend\n",
    "import pymc3 as pm\n",
    "import theano.tensor as tt\n",
    "\n",
    "import scipy.stats as stats\n",
    "import matplotlib.pyplot as plt\n",
    "\n",
    "import datetime\n",
    "import collections\n",
    "\n",
    "# finance data from yahoo finance\n",
    "import yfinance as yf\n"
   ]
  },
  {
   "cell_type": "code",
   "execution_count": null,
   "metadata": {},
   "outputs": [],
   "source": [
    "# modify figure size\n",
    "from IPython.core.pylabtools import figsize\n",
    "\n",
    "# define fonts\n",
    "\n",
    "font = {'family' : 'normal',\n",
    "        'weight' : 'bold',\n",
    "        'size'   : 19}\n",
    "\n",
    "plt.rc('font', **font)"
   ]
  },
  {
   "cell_type": "markdown",
   "metadata": {},
   "source": [
    "# Stock information\n",
    "\n",
    "https://www.nasdaq.com/market-activity/stocks/screener"
   ]
  },
  {
   "cell_type": "code",
   "execution_count": null,
   "metadata": {},
   "outputs": [],
   "source": [
    "# finance\n",
    "fin = [\"IDCBY\",\n",
    "\"HSBC\",\n",
    "\"C\",\n",
    "\"V\",\n",
    "\"JPM\",\n",
    "\"MA\",\n",
    "\"BAC\",\n",
    "\"IDCBF\"]\n",
    "\n",
    "# Healthcare\n",
    "health = [\"JNJ\",\n",
    "\"RHHVF\",\n",
    "\"NVS\",\n",
    "\"MRK\",\n",
    "\"PFE\",\n",
    "\"ABT\",\n",
    "\"BMY\",\n",
    "\"MDT\" ]\n",
    "\n",
    "# Consumer goods\n",
    "cons = [\"AAPL\",\n",
    "\"NSRGF\",\n",
    "\"PG\",\n",
    "\"PEP\",\n",
    "\"TSM\",\n",
    "\"INTC\",\n",
    "\"KO\",\n",
    "\"LVMUY\"]\n",
    "\n",
    "# Services\n",
    "srv = [\"AMZN\",\n",
    "\"NFLX\",\n",
    "\"WMT\",\n",
    "\"UNH\",\n",
    "\"HD\",\n",
    "\"DIS\",\n",
    "\"CMCSA\",\n",
    "\"CHLKF\"]\n",
    "\n",
    "# Utilities\n",
    "util = [\"CVX\",\n",
    "\"NEE\",\n",
    "\"IBDRY\",\n",
    "\"OJSCY\",\n",
    "\"DUK\",\n",
    "\"D\",\n",
    "\"SO\",\n",
    "\"AEP\"]\n",
    "\n",
    "#TECH\n",
    "tech = [\"MSFT\",\n",
    "\"GOOGL\",\n",
    "\"FB\",\n",
    "\"VOD\",\n",
    "\"ACN\",\n",
    "\"T\",\n",
    "\"CHT\",\n",
    "\"VZ\"]\n",
    "\n",
    "# Industrial goods\n",
    "ind = [\"UTX\",\n",
    "\"HON\",\n",
    "\"LMT\",\n",
    "\"EADSY\",\n",
    "\"GE\",\n",
    "\"SIEGY\",\n",
    "\"MMM\",\n",
    "\"CAT\"]\n",
    "\n",
    "# Random\n",
    "others = [\"XOM\",\n",
    "\"BUD\",\n",
    "\"NVO\",\n",
    "\"BA\",\n",
    "\"USB\",\n",
    "\"IBM\",\n",
    "\"ORCL\",\n",
    "\"WFC\"]"
   ]
  },
  {
   "cell_type": "code",
   "execution_count": null,
   "metadata": {},
   "outputs": [],
   "source": [
    "# combine stock information\n",
    "stocks = fin+health+srv+ind+cons+util+tech+others\n",
    "\n",
    "stock_dict = {'HEALTH':health,'IND':ind, 'UTIL':util,'FINANCE':fin,'TECH':tech,'SERVICE':srv,'CONSUM':cons,'OTHERS':others}\n",
    "\n",
    "# choose colors for the plots\n",
    "colors = [\"#348ABD\", \"#A60628\", \"#7A68A6\", \"#467821\",\"#345eeb\", \"#eb8f34\", \"#57514b\", \"#10d4de\"]"
   ]
  },
  {
   "cell_type": "code",
   "execution_count": null,
   "metadata": {},
   "outputs": [],
   "source": [
    "enddate = \"2019-02-22\" #  ends one year ago \n",
    "startdate = '2014-1-1'"
   ]
  },
  {
   "cell_type": "code",
   "execution_count": null,
   "metadata": {},
   "outputs": [],
   "source": [
    "n_observations = 100 "
   ]
  },
  {
   "cell_type": "code",
   "execution_count": null,
   "metadata": {},
   "outputs": [],
   "source": [
    "# fetch stock information\n",
    "for stock in stocks:\n",
    "    tickerData = yf.Ticker(stock)\n",
    "    x = tickerData.history(period='1d', start=startdate, end=enddate)\n",
    "    stock_series = pd.Series(x['Close'].astype(float), name=stock)\n",
    "    stock_closes[stock] = stock_series"
   ]
  },
  {
   "cell_type": "code",
   "execution_count": null,
   "metadata": {},
   "outputs": [],
   "source": [
    "# normalization by delta percentage\n",
    "stock_returns = stock_closes.pct_change()[1:][-n_observations:]\n",
    "\n",
    "# list the stock indices\n",
    "stock_returns.columns"
   ]
  },
  {
   "cell_type": "code",
   "execution_count": null,
   "metadata": {},
   "outputs": [],
   "source": [
    "# reduce autocorrelation by thinning data \n",
    "blocks = 5\n",
    "block_dict = {}\n",
    "for n in range(blocks):\n",
    "    idx = [(it * blocks)+n for it in range(stock_returns.shape[0]// blocks) ]\n",
    "    \n",
    "    block_dict[n] = stock_closes.iloc[idx]"
   ]
  },
  {
   "cell_type": "code",
   "execution_count": null,
   "metadata": {},
   "outputs": [],
   "source": [
    "# choose a block for preparation\n",
    "prep_stock = block_dict[2]"
   ]
  },
  {
   "cell_type": "code",
   "execution_count": null,
   "metadata": {},
   "outputs": [],
   "source": [
    "def cov_to_corr(A):\n",
    "    \"\"\"\n",
    "    Transform covariance to correlation\n",
    "    \"\"\"\n",
    "    d = np.sqrt(A.diagonal())\n",
    "    A = ((A.T/d).T)/d\n",
    "    return A"
   ]
  },
  {
   "cell_type": "code",
   "execution_count": null,
   "metadata": {},
   "outputs": [],
   "source": [
    "# plot the \n",
    "#plt.subplot(1,2,1)\n",
    "figsize(20,20)\n",
    "\n",
    "plt.imshow(cov_to_corr(np.asarray(prep_stock.cov())) , interpolation=\"none\", \n",
    "                cmap = \"Reds\") \n",
    "plt.xticks(np.arange(64), stock_returns.columns)\n",
    "plt.yticks(np.arange(64), stock_returns.columns)\n",
    "plt.colorbar(orientation=\"vertical\")\n",
    "plt.title(\"Mittlere ( PRIOR) Korrelations Matrix\")\n",
    "\n",
    "plt.tight_layout();"
   ]
  },
  {
   "cell_type": "code",
   "execution_count": null,
   "metadata": {},
   "outputs": [],
   "source": [
    "# estimate topical priors\n",
    "prior_expectations = {}\n",
    "for ind, stocks in stock_dict.items():#[health,ind, util,fin,tech,srv,cons,others]:\n",
    "    prior_expectations[ind] = (stock_returns[stocks].mean(axis=1).mean() , stock_returns[stocks].mean(axis=1).std())\n",
    "    "
   ]
  },
  {
   "cell_type": "code",
   "execution_count": null,
   "metadata": {},
   "outputs": [],
   "source": [
    "figsize(20,10)\n",
    "\n",
    "x = np.linspace(-0.05, 0.05, 100)\n",
    "\n",
    "\n",
    "\n",
    "for i, (name, params) in enumerate(prior_expectations.items()):\n",
    "    plt.subplot(2, 4, i+1)\n",
    "    y = stats.norm.pdf(x, params[0], scale = params[1])\n",
    "    #plt.plot( x, y, c = colors[i] )\n",
    "    plt.fill_between(x, 0, y, color = colors[i], linewidth=2,\n",
    "                     edgecolor = colors[i], alpha = 0.6)\n",
    "    plt.title(name + \" prior\")\n",
    "    plt.vlines(0, 0, y.max(), \"k\",\"--\", linewidth = 0.5)\n",
    "    plt.xlim(-0.05, 0.05)\n",
    "plt.tight_layout()"
   ]
  },
  {
   "cell_type": "code",
   "execution_count": null,
   "metadata": {},
   "outputs": [],
   "source": [
    "import random\n",
    "def select_stocks(returnrandom = True, combination = [0,0,0,0,0,0,0,0]  ):\n",
    "    \"\"\"\n",
    "    Choose either a random set of stocks from each category\n",
    "    Or feed a combinationlist\n",
    "    \"\"\"\n",
    "    stock_chosen = []\n",
    "    priormus = [] #np.array([x[0] for x in expert_prior_params.values()])\n",
    "    priorstd = [] #np.array([x[1] for x in expert_prior_params.values()])\n",
    "    \n",
    "    if returnrandom:\n",
    "        selected_stock = []\n",
    "        for key, val in stock_dict.items():\n",
    "            #print(key,prior_expectations[key], random.choice(val) )\n",
    "            choice = random.choice(val)\n",
    "            selected_stock.append(choice)\n",
    "            stock_chosen.append(choice)\n",
    "            priormus.append(prior_expectations[key][0])\n",
    "            priorstd.append(prior_expectations[key][1])\n",
    "        stock_relevant = stock_returns[stock_chosen]\n",
    "        covar = stock_relevant.cov()\n",
    "    \n",
    "    \n",
    "    else:\n",
    "        for i, (key, val) in enumerate(stock_dict.items()):\n",
    "            stock_chosen.append(val[combination[i] ])\n",
    "            priormus.append(prior_expectations[key][0])\n",
    "            priorstd.append(prior_expectations[key][1])\n",
    "        \n",
    "        stock_relevant = stock_returns[stock_chosen]\n",
    "        covar = stock_relevant.cov()\n",
    "        return stock_relevant, np.asarray(covar), np.array(priormus), np.array(priorstd)\n",
    "        \n",
    "    \n",
    "    \n",
    "    return stock_relevant, np.asarray(covar), np.array(priormus), np.array(priorstd), selected_stock"
   ]
  },
  {
   "cell_type": "code",
   "execution_count": null,
   "metadata": {},
   "outputs": [],
   "source": [
    "stocks_chosen, init, prior_mu, prior_std = select_stocks(returnrandom = False,combination =[0,0,0,0,0,0,0,0])"
   ]
  },
  {
   "cell_type": "code",
   "execution_count": null,
   "metadata": {},
   "outputs": [],
   "source": [
    "\n",
    "# plot timelines for stock behavior\n",
    "figsize(20,10)\n",
    "cum_returns = np.cumprod(1 + stocks_chosen) - 1\n",
    "cum_returns.index = stocks_chosen.index\n",
    "cum_returns.plot()"
   ]
  },
  {
   "cell_type": "code",
   "execution_count": null,
   "metadata": {},
   "outputs": [],
   "source": [
    "# analyze posterior \n",
    "with pm.Model() as model:\n",
    "    \n",
    "    covar = pm.WishartBartlett('covar', np.diag(prior_std**2), nu=20, testval=init)\n",
    "    \n",
    "    mu = pm.Normal('returns', mu=prior_mu, sd=1, shape= prior_mu.shape[0] )\n",
    "\n",
    "    obs = pm.MvNormal('observed returns', mu=mu, cov = covar, observed=stocks_chosen)\n",
    "    \n",
    "    step = pm.NUTS()\n",
    "    trace = pm.sample(5000, step=step)\n"
   ]
  },
  {
   "cell_type": "code",
   "execution_count": null,
   "metadata": {},
   "outputs": [],
   "source": [
    "# Visualize posterior\n",
    "\n",
    "figsize(14,6)\n",
    "\n",
    "#examine the mean return first.\n",
    "mu_samples = trace[\"returns\"]\n",
    "\n",
    "for i in range(8):\n",
    "    plt.hist(mu_samples[:,i], alpha = 0.8 - 0.05*i, bins = 30,\n",
    "             histtype=\"stepfilled\", normed=True, \n",
    "             label = \"%s\" % stock_returns.columns[i])\n",
    "\n",
    "plt.vlines(mu_samples.mean(axis=0), 0, 500, linestyle=\"--\", linewidth = .5)\n",
    "\n",
    "plt.title(\"Posteriore Verteilung des $\\mu$ pro Woche \")\n",
    "plt.legend();"
   ]
  },
  {
   "cell_type": "code",
   "execution_count": null,
   "metadata": {},
   "outputs": [],
   "source": [
    "# posterior divergence\n",
    "figsize(11.0,3)\n",
    "for i in range(8):\n",
    "    plt.subplot(2,4,i+1)\n",
    "    plt.hist(mu_samples[:,i], alpha = 0.8 - 0.05*i, bins = 30,\n",
    "             histtype=\"stepfilled\", normed=True, color = colors[i],\n",
    "             label = \"%s\" % stock_returns.columns[i])\n",
    "    plt.title(\"%s\" % stock_returns.columns[i])\n",
    "    plt.xlim(-0.15, 0.15)\n",
    "    \n",
    "plt.suptitle(\"Posterior distribution of daily stock returns\")\n",
    "plt.tight_layout()"
   ]
  }
 ],
 "metadata": {
  "kernelspec": {
   "display_name": "Python 3",
   "language": "python",
   "name": "python3"
  },
  "language_info": {
   "codemirror_mode": {
    "name": "ipython",
    "version": 3
   },
   "file_extension": ".py",
   "mimetype": "text/x-python",
   "name": "python",
   "nbconvert_exporter": "python",
   "pygments_lexer": "ipython3",
   "version": "3.7.5"
  }
 },
 "nbformat": 4,
 "nbformat_minor": 2
}
