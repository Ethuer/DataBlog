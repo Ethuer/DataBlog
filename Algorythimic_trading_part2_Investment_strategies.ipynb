{
 "cells": [
  {
   "cell_type": "code",
   "execution_count": 1,
   "metadata": {},
   "outputs": [],
   "source": [
    "import pandas as pd\n",
    "import numpy as np\n",
    "\n",
    "\n",
    "# pymc3 with theano backend\n",
    "import pymc3 as pm\n",
    "import theano.tensor as tt\n",
    "\n",
    "import scipy.stats as stats\n",
    "import matplotlib.pyplot as plt\n",
    "\n",
    "import datetime\n",
    "import collections\n",
    "\n",
    "# finance data from yahoo finance\n",
    "import yfinance as yf\n",
    "\n",
    "# silence warnings\n",
    "import warnings\n",
    "warnings.filterwarnings('ignore')"
   ]
  },
  {
   "cell_type": "code",
   "execution_count": 2,
   "metadata": {},
   "outputs": [],
   "source": [
    "# modify figure size\n",
    "from IPython.core.pylabtools import figsize\n",
    "\n",
    "# define fonts\n",
    "\n",
    "font = {'family' : 'normal',\n",
    "        'weight' : 'bold',\n",
    "        'size'   : 19}\n",
    "\n",
    "plt.rc('font', **font)"
   ]
  },
  {
   "cell_type": "code",
   "execution_count": null,
   "metadata": {},
   "outputs": [],
   "source": []
  },
  {
   "cell_type": "code",
   "execution_count": 118,
   "metadata": {},
   "outputs": [],
   "source": [
    "# same stock as previously\n",
    "\n",
    "# finance\n",
    "fin = [\"IDCBY\",\n",
    "\"HSBC\",\n",
    "\"C\",\n",
    "\"V\",\n",
    "\"JPM\",\n",
    "\"MA\",\n",
    "\"BAC\",\n",
    "\"IDCBF\"]\n",
    "\n",
    "# Healthcare\n",
    "health = [\"JNJ\",\n",
    "\"RHHVF\",\n",
    "\"NVS\",\n",
    "\"MRK\",\n",
    "\"PFE\",\n",
    "\"ABT\",\n",
    "\"BMY\",\n",
    "\"MDT\" ]\n",
    "\n",
    "# Consumer goods\n",
    "cons = [\"AAPL\",\n",
    "\"NSRGF\",\n",
    "\"PG\",\n",
    "\"PEP\",\n",
    "\"TSM\",\n",
    "\"INTC\",\n",
    "\"KO\",\n",
    "\"LVMUY\"]\n",
    "\n",
    "# Services\n",
    "srv = [\"AMZN\",\n",
    "\"NFLX\",\n",
    "\"WMT\",\n",
    "\"UNH\",\n",
    "\"HD\",\n",
    "\"DIS\",\n",
    "\"CMCSA\",\n",
    "\"CHLKF\"]\n",
    "\n",
    "# Utilities\n",
    "util = [\"CVX\",\n",
    "\"NEE\",\n",
    "\"IBDRY\",\n",
    "\"OJSCY\",\n",
    "\"DUK\",\n",
    "\"D\",\n",
    "\"SO\",\n",
    "\"AEP\"]\n",
    "\n",
    "#TECH\n",
    "tech = [\"MSFT\",\n",
    "\"GOOGL\",\n",
    "\"FB\",\n",
    "\"VOD\",\n",
    "\"ACN\",\n",
    "\"T\",\n",
    "\"CHT\",\n",
    "\"VZ\"]\n",
    "\n",
    "# Industrial goods\n",
    "ind = [\"UTX\",\n",
    "\"HON\",\n",
    "\"LMT\",\n",
    "\"EADSY\",\n",
    "\"GE\",\n",
    "\"SIEGY\",\n",
    "\"MMM\",\n",
    "\"CAT\"]\n",
    "\n",
    "# Random\n",
    "others = [\"XOM\",\n",
    "\"BUD\",\n",
    "\"NVO\",\n",
    "\"BA\",\n",
    "\"USB\",\n",
    "\"IBM\",\n",
    "\"ORCL\",\n",
    "\"WFC\"]"
   ]
  },
  {
   "cell_type": "code",
   "execution_count": 119,
   "metadata": {},
   "outputs": [],
   "source": [
    "# combine stock information\n",
    "stocks = fin+health+srv+ind+cons+util+tech+others\n",
    "\n",
    "stock_dict = {'HEALTH':health,'IND':ind, 'UTIL':util,'FINANCE':fin,'TECH':tech,'SERVICE':srv,'CONSUM':cons,'OTHERS':others}\n",
    "\n",
    "# back tranlation\n",
    "stock_2_theme = {}\n",
    "for key, val in stock_dict.items():\n",
    "    for v in val:\n",
    "        stock_2_theme[v] = key\n",
    "    \n",
    "# choose colors for the plots\n",
    "colors = [\"#348ABD\", \"#A60628\", \"#7A68A6\", \"#467821\",\"#345eeb\", \"#eb8f34\", \"#57514b\", \"#10d4de\"]\n",
    "\n",
    "stock_closes = pd.DataFrame()\n",
    "\n",
    "enddate = \"2019-02-22\" #  ends one year ago \n",
    "startdate = '2014-1-1'"
   ]
  },
  {
   "cell_type": "code",
   "execution_count": 9,
   "metadata": {},
   "outputs": [],
   "source": [
    "n_observations = 100 "
   ]
  },
  {
   "cell_type": "code",
   "execution_count": 10,
   "metadata": {},
   "outputs": [],
   "source": [
    "# fetch stock information\n",
    "for stock in stocks:\n",
    "    tickerData = yf.Ticker(stock)\n",
    "    x = tickerData.history(period='1d', start=startdate, end=enddate)\n",
    "    stock_series = pd.Series(x['Close'].astype(float), name=stock)\n",
    "    stock_closes[stock] = stock_series"
   ]
  },
  {
   "cell_type": "code",
   "execution_count": 11,
   "metadata": {},
   "outputs": [
    {
     "data": {
      "text/plain": [
       "Index(['IDCBY', 'HSBC', 'C', 'V', 'JPM', 'MA', 'BAC', 'IDCBF', 'JNJ', 'RHHVF',\n",
       "       'NVS', 'MRK', 'PFE', 'ABT', 'BMY', 'MDT', 'AMZN', 'NFLX', 'WMT', 'UNH',\n",
       "       'HD', 'DIS', 'CMCSA', 'CHLKF', 'UTX', 'HON', 'LMT', 'EADSY', 'GE',\n",
       "       'SIEGY', 'MMM', 'CAT', 'AAPL', 'NSRGF', 'PG', 'PEP', 'TSM', 'INTC',\n",
       "       'KO', 'LVMUY', 'CVX', 'NEE', 'IBDRY', 'OJSCY', 'DUK', 'D', 'SO', 'AEP',\n",
       "       'MSFT', 'GOOGL', 'FB', 'VOD', 'ACN', 'T', 'CHT', 'VZ', 'XOM', 'BUD',\n",
       "       'NVO', 'BA', 'USB', 'IBM', 'ORCL', 'WFC'],\n",
       "      dtype='object')"
      ]
     },
     "execution_count": 11,
     "metadata": {},
     "output_type": "execute_result"
    }
   ],
   "source": [
    "stock_closes.columns"
   ]
  },
  {
   "cell_type": "code",
   "execution_count": 12,
   "metadata": {},
   "outputs": [
    {
     "data": {
      "text/plain": [
       "Index(['IDCBY', 'HSBC', 'C', 'V', 'JPM', 'MA', 'BAC', 'IDCBF', 'JNJ', 'RHHVF',\n",
       "       'NVS', 'MRK', 'PFE', 'ABT', 'BMY', 'MDT', 'AMZN', 'NFLX', 'WMT', 'UNH',\n",
       "       'HD', 'DIS', 'CMCSA', 'CHLKF', 'UTX', 'HON', 'LMT', 'EADSY', 'GE',\n",
       "       'SIEGY', 'MMM', 'CAT', 'AAPL', 'NSRGF', 'PG', 'PEP', 'TSM', 'INTC',\n",
       "       'KO', 'LVMUY', 'CVX', 'NEE', 'IBDRY', 'OJSCY', 'DUK', 'D', 'SO', 'AEP',\n",
       "       'MSFT', 'GOOGL', 'FB', 'VOD', 'ACN', 'T', 'CHT', 'VZ', 'XOM', 'BUD',\n",
       "       'NVO', 'BA', 'USB', 'IBM', 'ORCL', 'WFC'],\n",
       "      dtype='object')"
      ]
     },
     "execution_count": 12,
     "metadata": {},
     "output_type": "execute_result"
    }
   ],
   "source": [
    "# normalization by delta percentage\n",
    "stock_returns = stock_closes.pct_change()[1:][-n_observations:]\n",
    "\n",
    "# list the stock indices\n",
    "stock_returns.columns"
   ]
  },
  {
   "cell_type": "code",
   "execution_count": 13,
   "metadata": {},
   "outputs": [],
   "source": [
    "# reduce autocorrelation by thinning data \n",
    "blocks = 5\n",
    "block_dict = {}\n",
    "for n in range(blocks):\n",
    "    idx = [(it * blocks)+n for it in range(stock_returns.shape[0]// blocks) ]\n",
    "    \n",
    "    block_dict[n] = stock_closes.iloc[idx] # use stock close data\n",
    "    \n",
    "    block_dict[n] = block_dict[n].pct_change()[1:][-n_observations:] # convert to weekwise delta"
   ]
  },
  {
   "cell_type": "code",
   "execution_count": 14,
   "metadata": {},
   "outputs": [],
   "source": [
    "# choose a block for preparation\n",
    "prep_stock = block_dict[2]"
   ]
  },
  {
   "cell_type": "code",
   "execution_count": 15,
   "metadata": {},
   "outputs": [],
   "source": [
    "def cov_to_corr(A):\n",
    "    \"\"\"\n",
    "    Transform covariance to correlation\n",
    "    \"\"\"\n",
    "    d = np.sqrt(A.diagonal())\n",
    "    A = ((A.T/d).T)/d\n",
    "    return A"
   ]
  },
  {
   "cell_type": "code",
   "execution_count": 16,
   "metadata": {},
   "outputs": [],
   "source": [
    "# choose a stock to begin with\n",
    "# we will use the stock with the highest average return per day.\n",
    "seed_share = pd.DataFrame(stock_returns.sum().sort_values(ascending=False) ).iloc[0].name\n",
    "\n",
    "# For the time period chosen that was PG, which is in the group Consumer goods"
   ]
  },
  {
   "cell_type": "code",
   "execution_count": 17,
   "metadata": {},
   "outputs": [],
   "source": [
    "stem_shares =  pd.DataFrame(stock_returns  \n",
    "                            .corr()[seed_share] # correlation to the seed\n",
    "                            .sort_values()) # sort"
   ]
  },
  {
   "cell_type": "code",
   "execution_count": 19,
   "metadata": {},
   "outputs": [],
   "source": [
    "stem_shares = stem_shares.index.to_series().map(stock_2_theme) # add information on group\n",
    "\n",
    "stem_shares = pd.DataFrame(stem_shares.drop_duplicates()) # remove additional shares"
   ]
  },
  {
   "cell_type": "code",
   "execution_count": 21,
   "metadata": {},
   "outputs": [],
   "source": [
    "# the most highly correlated shares by subject group\n",
    "stem_shares = stem_shares.loc[stem_shares[0] != stock_2_theme[seed_share]]"
   ]
  },
  {
   "cell_type": "code",
   "execution_count": 22,
   "metadata": {},
   "outputs": [],
   "source": [
    "test_portfolio = stem_shares.index.tolist() + [seed_share ] # extend by seed"
   ]
  },
  {
   "cell_type": "code",
   "execution_count": 23,
   "metadata": {},
   "outputs": [
    {
     "data": {
      "text/plain": [
       "['IDCBF', 'CHLKF', 'OJSCY', 'EADSY', 'CHT', 'NVO', 'BMY', 'PG']"
      ]
     },
     "execution_count": 23,
     "metadata": {},
     "output_type": "execute_result"
    }
   ],
   "source": [
    "test_portfolio"
   ]
  },
  {
   "cell_type": "code",
   "execution_count": 33,
   "metadata": {},
   "outputs": [],
   "source": [
    "def generate_portfolio(seed, exclusions = []):\n",
    "    \n",
    "    \"\"\"\n",
    "    Seed STR :  stock index to base the portfolio upon\n",
    "    exlusions LIST :list of stock options disregarded from sampling\n",
    "    \n",
    "    returns:\n",
    "    list of stock options\n",
    "    \"\"\"\n",
    "    \n",
    "    stem_shares =  pd.DataFrame(stock_returns  \n",
    "                            .corr()[seed_share] # correlation to the seed\n",
    "                            .sort_values()) # sort\n",
    "    \n",
    "    stem_shares = stem_shares.index.to_series().map(stock_2_theme) # add information on group\n",
    "    \n",
    "    stem_shares = stem_shares.loc[~ stem_shares.index.to_series().isin(exclusions)]# remove forbidden shares\n",
    "    \n",
    "    stem_shares = pd.DataFrame(stem_shares.drop_duplicates()) # remove additional shares\n",
    "    \n",
    "    \n",
    "    # the most highly correlated shares by subject group\n",
    "    stem_shares = stem_shares.loc[stem_shares[0] != stock_2_theme[seed_share]]\n",
    "    \n",
    "    return stem_shares.index.tolist() + [seed_share ]\n",
    "\n",
    "def specific_stock(combination):\n",
    "    \n",
    "    \"\"\"\n",
    "    combination LIST: list of specific stock options\n",
    "    \"\"\"\n",
    "    \n",
    "    \n",
    "    priormus = [] \n",
    "    priorstd = []\n",
    "    \n",
    "    for i, (key, val) in enumerate(stock_dict.items()):\n",
    "        priormus.append(prior_expectations[key][0])\n",
    "        priorstd.append(prior_expectations[key][1])\n",
    "        \n",
    "    stock_relevant = stock_returns[combination]\n",
    "    covar = stock_relevant.cov()\n",
    "    return stock_relevant, np.asarray(covar), np.array(priormus), np.array(priorstd)\n",
    "\n",
    "def calculate_posterior(portfolio ):\n",
    "    \"\"\"\n",
    "    create posterior mu and covariance \n",
    "    \"\"\"\n",
    "    \n",
    "    blocktrace = {}\n",
    "\n",
    "    # we have 5 subsets to analyze the data on after thinning the data above\n",
    "    for block, block_data in block_dict.items():\n",
    "\n",
    "        stock_returns = pd.DataFrame(block_data)\n",
    "\n",
    "        stocks_chosen, init, prior_mu, prior_std = specific_stock(test_portfolio)\n",
    "\n",
    "        with pm.Model() as model:\n",
    "    \n",
    "            covar = pm.WishartBartlett('covar', np.diag(prior_std**2), nu=16, testval=init)\n",
    "    \n",
    "            mu = pm.Normal('returns', mu=prior_mu, sd=1, shape= prior_mu.shape[0] )\n",
    "\n",
    "            obs = pm.MvNormal('observed returns', mu=mu, cov = covar, observed=stocks_chosen)\n",
    "    \n",
    "            step = pm.NUTS()\n",
    "            trace = pm.sample(10000, step=step)\n",
    "        \n",
    "            blocktrace[block] = trace\n",
    "        \n",
    "    return blocktrace"
   ]
  },
  {
   "cell_type": "code",
   "execution_count": 25,
   "metadata": {},
   "outputs": [],
   "source": [
    "# again we need priors\n",
    "prior_expectations = {}\n",
    "for ind, stocks in stock_dict.items():#[health,ind, util,fin,tech,srv,cons,others]:\n",
    "    prior_expectations[ind] = (stock_returns[stocks].mean(axis=1).mean() , stock_returns[stocks].mean(axis=1).std())\n",
    "    #print(ind, stock_returns[stocks].mean(axis=1).mean() , stock_returns[stocks].mean(axis=1).std()  )"
   ]
  },
  {
   "cell_type": "code",
   "execution_count": 34,
   "metadata": {},
   "outputs": [
    {
     "name": "stderr",
     "output_type": "stream",
     "text": [
      "Added new variable covar_c to model diagonal of Wishart.\n",
      "Added new variable covar_z to model off-diagonals of Wishart.\n",
      "Multiprocess sampling (4 chains in 4 jobs)\n",
      "NUTS: [returns, covar_z, covar_c]\n",
      "Sampling 4 chains, 0 divergences: 100%|██████████| 42000/42000 [01:14<00:00, 563.74draws/s]\n",
      "Added new variable covar_c to model diagonal of Wishart.\n",
      "Added new variable covar_z to model off-diagonals of Wishart.\n",
      "Multiprocess sampling (4 chains in 4 jobs)\n",
      "NUTS: [returns, covar_z, covar_c]\n",
      "Sampling 4 chains, 1 divergences: 100%|██████████| 42000/42000 [01:14<00:00, 562.42draws/s]\n",
      "There was 1 divergence after tuning. Increase `target_accept` or reparameterize.\n",
      "Added new variable covar_c to model diagonal of Wishart.\n",
      "Added new variable covar_z to model off-diagonals of Wishart.\n",
      "Multiprocess sampling (4 chains in 4 jobs)\n",
      "NUTS: [returns, covar_z, covar_c]\n",
      "Sampling 4 chains, 0 divergences: 100%|██████████| 42000/42000 [01:16<00:00, 548.16draws/s]\n",
      "Added new variable covar_c to model diagonal of Wishart.\n",
      "Added new variable covar_z to model off-diagonals of Wishart.\n",
      "Multiprocess sampling (4 chains in 4 jobs)\n",
      "NUTS: [returns, covar_z, covar_c]\n",
      "Sampling 4 chains, 0 divergences: 100%|██████████| 42000/42000 [01:16<00:00, 550.32draws/s]\n",
      "Added new variable covar_c to model diagonal of Wishart.\n",
      "Added new variable covar_z to model off-diagonals of Wishart.\n",
      "Multiprocess sampling (4 chains in 4 jobs)\n",
      "NUTS: [returns, covar_z, covar_c]\n",
      "Sampling 4 chains, 0 divergences: 100%|██████████| 42000/42000 [01:13<00:00, 571.62draws/s]\n"
     ]
    }
   ],
   "source": [
    "blocktrace = calculate_posterior(test_portfolio)"
   ]
  },
  {
   "cell_type": "code",
   "execution_count": 99,
   "metadata": {},
   "outputs": [],
   "source": [
    "\n",
    "def combine_blocktrace(blocktrace):\n",
    "    # burn 50 % and combine the blocks of mu\n",
    "    mu_samples = [trace[\"returns\"][:int(trace[\"returns\"].shape[0]/2)] for block, trace in blocktrace.items()]\n",
    "    mu_samples = np.concatenate(mu_samples, axis=0)\n",
    "    \n",
    "    # and covar\n",
    "    cov_samples = [trace[\"covar\"][:int(trace[\"covar\"].shape[0]/2)] for block, trace in blocktrace.items()]\n",
    "    cov_samples = np.concatenate(cov_samples, axis=0)\n",
    "    \n",
    "    return mu_samples, cov_samples"
   ]
  },
  {
   "cell_type": "code",
   "execution_count": 81,
   "metadata": {},
   "outputs": [],
   "source": [
    "\n"
   ]
  },
  {
   "cell_type": "code",
   "execution_count": 105,
   "metadata": {},
   "outputs": [],
   "source": [
    "\n",
    "def plot_mus(mu_samples):\n",
    "\n",
    "    figsize(14,6)\n",
    "\n",
    "    #examine the mean return first.\n",
    "    \n",
    "    for i in range(8):\n",
    "        plt.hist(mu_samples[:,i], alpha = 0.8 - 0.05*i, bins = 30,\n",
    "                histtype=\"stepfilled\", normed=True, \n",
    "             label = \"%s\" % test_portfolio[i])\n",
    "\n",
    "    plt.vlines(mu_samples.mean(axis=0), 0, 150, linestyle=\"--\", linewidth = .5 )\n",
    "    plt.title(\"Posteriore Verteilung des $\\mu$ pro Woche \")\n",
    "    plt.legend();\n",
    "    \n",
    "def plot_covar(cov_samples):\n",
    "    figsize(20,7)\n",
    "    \n",
    "    mean_covariance_matrix = cov_samples.mean(axis=0)\n",
    "\n",
    "    correlation = cov_to_corr(mean_covariance_matrix)\n",
    "\n",
    "    plt.subplot(1,2,1)\n",
    "    plt.imshow(correlation , interpolation=\"none\", \n",
    "                cmap = \"Reds\") \n",
    "    plt.xticks(np.arange(8), test_portfolio,rotation='vertical')\n",
    "    plt.yticks(np.arange(8), test_portfolio)\n",
    "    plt.colorbar(orientation=\"vertical\")\n",
    "    plt.title(\"Mittlere ( posteriore) Korrelationsmatrix\")\n",
    "\n",
    "    plt.subplot(1,2,2)\n",
    "    plt.bar(np.arange(8), np.sqrt(np.diag(mean_covariance_matrix)),\n",
    "        color = colors[2], alpha = 0.7)\n",
    "    plt.xticks(np.arange(8) + 0.5, test_portfolio,rotation='vertical');\n",
    "    plt.title(\"Mittlere ( posteriore) Standardabweichung der wöchentlichen Änderungen\")\n",
    "\n",
    "    plt.tight_layout();"
   ]
  },
  {
   "cell_type": "code",
   "execution_count": 106,
   "metadata": {},
   "outputs": [
    {
     "data": {
      "image/png": "[encoded data removed]",
      "text/plain": [
       "<Figure size 1008x432 with 1 Axes>"
      ]
     },
     "metadata": {
      "needs_background": "light"
     },
     "output_type": "display_data"
    }
   ],
   "source": [
    "plot_mus(mu_samples)"
   ]
  },
  {
   "cell_type": "code",
   "execution_count": null,
   "metadata": {},
   "outputs": [],
   "source": [
    "np.stack([trace[\"covar\"] for block, trace in blocktrace.items()] ).shape"
   ]
  },
  {
   "cell_type": "code",
   "execution_count": 88,
   "metadata": {},
   "outputs": [
    {
     "data": {
      "text/plain": [
       "(100000, 8, 8)"
      ]
     },
     "execution_count": 88,
     "metadata": {},
     "output_type": "execute_result"
    }
   ],
   "source": [
    "cov_samples.shape"
   ]
  },
  {
   "cell_type": "code",
   "execution_count": 112,
   "metadata": {},
   "outputs": [],
   "source": [
    "def replace_highest_corr(covariance_matrix, portfolio):\n",
    "    \"\"\"\n",
    "    find the stock with the highest covariance and replace it\n",
    "    \"\"\"\n",
    "    \n",
    "    mean_covariance_matrix = covariance_matrix.mean(axis=0)\n",
    "    # first fill the diagonals with 0\n",
    "    np.fill_diagonal(mean_covariance_matrix, 0)\n",
    "    \n",
    "    # choose lowest covariance\n",
    "    lowest_covar = np.where(mean_covariance_matrix == np.amax(mean_covariance_matrix))\n",
    "\n",
    "    # covatiance is between pairs. so replace the entity with lower mean \n",
    "    lowest_mean = np.mean(mu_samples[[lowest_covar]] , axis=2)\n",
    "    \n",
    "    # find highest offender, return\n",
    "    return portfolio[ lowest_covar[np.where(lowest_mean == np.amin(lowest_mean))[0][0]][0] ] # np.mean(mu_samples[[lowest_covar]] , axis=2)"
   ]
  },
  {
   "cell_type": "code",
   "execution_count": 96,
   "metadata": {},
   "outputs": [],
   "source": [
    "replace_highest_corr(cov_samples)"
   ]
  },
  {
   "cell_type": "code",
   "execution_count": 113,
   "metadata": {},
   "outputs": [],
   "source": [
    "excluded = []"
   ]
  },
  {
   "cell_type": "code",
   "execution_count": 329,
   "metadata": {},
   "outputs": [],
   "source": [
    "seed_share = 'PG'"
   ]
  },
  {
   "cell_type": "code",
   "execution_count": 330,
   "metadata": {},
   "outputs": [
    {
     "data": {
      "text/plain": [
       "['FB', 'NFLX', 'IDCBF', 'NEE', 'LMT', 'ABT', 'USB', 'PG']"
      ]
     },
     "execution_count": 330,
     "metadata": {},
     "output_type": "execute_result"
    }
   ],
   "source": [
    "generate_portfolio(seed_share ,excluded)"
   ]
  },
  {
   "cell_type": "code",
   "execution_count": null,
   "metadata": {
    "scrolled": false
   },
   "outputs": [
    {
     "name": "stdout",
     "output_type": "stream",
     "text": [
      "['NVO', 'EADSY', 'BAC', 'PFE', 'PG', 'BUD', 'RHHVF', 'MDT']\n"
     ]
    },
    {
     "name": "stderr",
     "output_type": "stream",
     "text": [
      "Added new variable covar_c to model diagonal of Wishart.\n",
      "Added new variable covar_z to model off-diagonals of Wishart.\n",
      "Multiprocess sampling (4 chains in 4 jobs)\n",
      "NUTS: [returns, covar_z, covar_c]\n",
      "Sampling 4 chains, 0 divergences: 100%|██████████| 42000/42000 [01:15<00:00, 557.49draws/s]\n",
      "Added new variable covar_c to model diagonal of Wishart.\n",
      "Added new variable covar_z to model off-diagonals of Wishart.\n",
      "Multiprocess sampling (4 chains in 4 jobs)\n",
      "NUTS: [returns, covar_z, covar_c]\n",
      "Sampling 4 chains, 0 divergences: 100%|██████████| 42000/42000 [01:14<00:00, 560.35draws/s]\n",
      "Added new variable covar_c to model diagonal of Wishart.\n",
      "Added new variable covar_z to model off-diagonals of Wishart.\n",
      "Multiprocess sampling (4 chains in 4 jobs)\n",
      "NUTS: [returns, covar_z, covar_c]\n",
      "Sampling 4 chains, 0 divergences: 100%|██████████| 42000/42000 [01:14<00:00, 566.67draws/s]\n",
      "Added new variable covar_c to model diagonal of Wishart.\n",
      "Added new variable covar_z to model off-diagonals of Wishart.\n",
      "Multiprocess sampling (4 chains in 4 jobs)\n",
      "NUTS: [returns, covar_z, covar_c]\n",
      "Sampling 4 chains, 0 divergences:  27%|██▋       | 11269/42000 [00:25<00:48, 639.89draws/s]"
     ]
    }
   ],
   "source": [
    "mu_development = []\n",
    "cov_development = []\n",
    "\n",
    "for count , n in enumerate(range(3)):\n",
    "    print(excluded)\n",
    "    \n",
    "    portfolio = generate_portfolio(seed_share ,excluded)\n",
    "    \n",
    "    blocktrace = calculate_posterior(portfolio)\n",
    "    \n",
    "    mu_samples, cov_samples = combine_blocktrace(blocktrace)\n",
    "    \n",
    "    excluded.append(replace_highest_corr(cov_samples,portfolio))\n",
    "    \n",
    "    \n",
    "    \n",
    "    #plot_mus(mu_samples)\n",
    "    #plot_covar(cov_samples)\n",
    "    \n",
    "    print(f\"iteration {count} \")\n",
    "    print(portfolio)\n",
    "    \n",
    "    mu_development.append(mu_samples)\n",
    "    cov_development.append(cov_samples)\n"
   ]
  },
  {
   "cell_type": "code",
   "execution_count": null,
   "metadata": {},
   "outputs": [],
   "source": [
    "portfolio = ['FB', 'NFLX', 'BAC', 'NEE', 'PFE', 'LMT', 'BUD', 'PG']\n"
   ]
  },
  {
   "cell_type": "code",
   "execution_count": null,
   "metadata": {},
   "outputs": [],
   "source": [
    "# optimize the investment\n",
    "import scipy.optimize as opt\n",
    "\n",
    "def optweight(wealth):\n",
    "    risk = 2\n",
    "    return 1/8 * np.sum(np.matrix(mus).T * wealth  - (0.6* np.sum( wealth* covars , axis=0 ) ) )\n"
   ]
  },
  {
   "cell_type": "code",
   "execution_count": 293,
   "metadata": {},
   "outputs": [],
   "source": [
    "mus = mu_samples.mean(axis=0)\n",
    "covars = cov_samples.mean(axis=0)"
   ]
  },
  {
   "cell_type": "code",
   "execution_count": 294,
   "metadata": {},
   "outputs": [],
   "source": [
    "wealth = mus*100 # initialize wealth with the posterior mu ratio"
   ]
  },
  {
   "cell_type": "code",
   "execution_count": 295,
   "metadata": {},
   "outputs": [],
   "source": [
    "# define constraint: sum(weights) = 1\n",
    "fconst = lambda w: 1 - sum(w)\n",
    "cons   = ({'type':'eq','fun':fconst})\n",
    "\n",
    "# set bounds\n",
    "bounds = [(0,0.6) for n in range(8)]\n",
    "\n"
   ]
  },
  {
   "cell_type": "code",
   "execution_count": 296,
   "metadata": {},
   "outputs": [],
   "source": [
    "optimized = opt.minimize(optweight, x0=wealth, bounds= bounds, constraints = cons)"
   ]
  },
  {
   "cell_type": "code",
   "execution_count": 297,
   "metadata": {},
   "outputs": [
    {
     "data": {
      "text/plain": [
       "<matplotlib.axes._subplots.AxesSubplot at 0x7f5cf8a6c0d0>"
      ]
     },
     "execution_count": 297,
     "metadata": {},
     "output_type": "execute_result"
    },
    {
     "data": {
      "image/png": "[encoded data removed]",
      "text/plain": [
       "<Figure size 1440x504 with 1 Axes>"
      ]
     },
     "metadata": {
      "needs_background": "light"
     },
     "output_type": "display_data"
    }
   ],
   "source": [
    "pd.DataFrame(optimized.x * 10000, index=portfolio ).plot(kind='bar')"
   ]
  },
  {
   "cell_type": "code",
   "execution_count": 298,
   "metadata": {},
   "outputs": [],
   "source": [
    "invest = optimized.x * 10000"
   ]
  },
  {
   "cell_type": "code",
   "execution_count": 299,
   "metadata": {},
   "outputs": [
    {
     "data": {
      "text/plain": [
       "array([6.66546618e+02, 4.09505330e+02, 1.99899776e-13, 1.00976565e+03,\n",
       "       0.00000000e+00, 5.99113128e+03, 1.92305111e+03, 0.00000000e+00])"
      ]
     },
     "execution_count": 299,
     "metadata": {},
     "output_type": "execute_result"
    }
   ],
   "source": [
    "invest"
   ]
  },
  {
   "cell_type": "code",
   "execution_count": 300,
   "metadata": {},
   "outputs": [],
   "source": [
    "#portfolio_ret = portfolio_ret.pct_change()[1:]"
   ]
  },
  {
   "cell_type": "code",
   "execution_count": 301,
   "metadata": {},
   "outputs": [],
   "source": [
    "#portfolio_delta_2019 = portfolio_ret.sum() "
   ]
  },
  {
   "cell_type": "code",
   "execution_count": 302,
   "metadata": {
    "scrolled": true
   },
   "outputs": [
    {
     "data": {
      "text/plain": [
       "FB      0.276223\n",
       "NFLX   -0.053591\n",
       "BAC     0.228521\n",
       "NEE     0.292652\n",
       "PFE    -0.030910\n",
       "LMT     0.282310\n",
       "BUD     0.107071\n",
       "PG      0.255651\n",
       "dtype: float64"
      ]
     },
     "execution_count": 302,
     "metadata": {},
     "output_type": "execute_result"
    }
   ],
   "source": [
    "portfolio_delta_2019"
   ]
  },
  {
   "cell_type": "code",
   "execution_count": 303,
   "metadata": {},
   "outputs": [
    {
     "data": {
      "text/plain": [
       "2354.9374239073477"
      ]
     },
     "execution_count": 303,
     "metadata": {},
     "output_type": "execute_result"
    }
   ],
   "source": [
    "(portfolio_delta_2019*invest).sum()"
   ]
  },
  {
   "cell_type": "code",
   "execution_count": 304,
   "metadata": {},
   "outputs": [
    {
     "data": {
      "text/plain": [
       "1697.4093554778503"
      ]
     },
     "execution_count": 304,
     "metadata": {},
     "output_type": "execute_result"
    }
   ],
   "source": [
    "(portfolio_delta_2019 *(10000 / 8) ).sum()"
   ]
  },
  {
   "cell_type": "code",
   "execution_count": null,
   "metadata": {},
   "outputs": [],
   "source": []
  },
  {
   "cell_type": "code",
   "execution_count": 306,
   "metadata": {},
   "outputs": [],
   "source": [
    "# one more iteration without the uncalled shares\n",
    "excluded = ['NVO', 'EADSY', 'BAC', 'PFE', 'PG']\n",
    "\n",
    "# new seed \n",
    "seed_share='LMT'"
   ]
  },
  {
   "cell_type": "code",
   "execution_count": 307,
   "metadata": {},
   "outputs": [
    {
     "name": "stdout",
     "output_type": "stream",
     "text": [
      "['NVO', 'EADSY', 'BAC', 'PFE', 'PG']\n"
     ]
    },
    {
     "name": "stderr",
     "output_type": "stream",
     "text": [
      "Added new variable covar_c to model diagonal of Wishart.\n",
      "Added new variable covar_z to model off-diagonals of Wishart.\n",
      "Multiprocess sampling (4 chains in 4 jobs)\n",
      "NUTS: [returns, covar_z, covar_c]\n",
      "Sampling 4 chains, 1 divergences: 100%|██████████| 42000/42000 [01:12<00:00, 577.45draws/s]\n",
      "There was 1 divergence after tuning. Increase `target_accept` or reparameterize.\n",
      "Added new variable covar_c to model diagonal of Wishart.\n",
      "Added new variable covar_z to model off-diagonals of Wishart.\n",
      "Multiprocess sampling (4 chains in 4 jobs)\n",
      "NUTS: [returns, covar_z, covar_c]\n",
      "Sampling 4 chains, 0 divergences: 100%|██████████| 42000/42000 [01:12<00:00, 580.67draws/s]\n",
      "Added new variable covar_c to model diagonal of Wishart.\n",
      "Added new variable covar_z to model off-diagonals of Wishart.\n",
      "Multiprocess sampling (4 chains in 4 jobs)\n",
      "NUTS: [returns, covar_z, covar_c]\n",
      "Sampling 4 chains, 0 divergences: 100%|██████████| 42000/42000 [01:13<00:00, 572.51draws/s]\n",
      "Added new variable covar_c to model diagonal of Wishart.\n",
      "Added new variable covar_z to model off-diagonals of Wishart.\n",
      "Multiprocess sampling (4 chains in 4 jobs)\n",
      "NUTS: [returns, covar_z, covar_c]\n",
      "Sampling 4 chains, 0 divergences: 100%|██████████| 42000/42000 [01:14<00:00, 565.26draws/s]\n",
      "Added new variable covar_c to model diagonal of Wishart.\n",
      "Added new variable covar_z to model off-diagonals of Wishart.\n",
      "Multiprocess sampling (4 chains in 4 jobs)\n",
      "NUTS: [returns, covar_z, covar_c]\n",
      "Sampling 4 chains, 0 divergences: 100%|██████████| 42000/42000 [01:13<00:00, 575.06draws/s]\n"
     ]
    },
    {
     "name": "stdout",
     "output_type": "stream",
     "text": [
      "iteration 0 \n",
      "['PEP', 'VZ', 'DUK', 'NFLX', 'IDCBY', 'BUD', 'RHHVF', 'LMT']\n",
      "['NVO', 'EADSY', 'BAC', 'PFE', 'PG', 'BUD']\n"
     ]
    },
    {
     "name": "stderr",
     "output_type": "stream",
     "text": [
      "Added new variable covar_c to model diagonal of Wishart.\n",
      "Added new variable covar_z to model off-diagonals of Wishart.\n",
      "Multiprocess sampling (4 chains in 4 jobs)\n",
      "NUTS: [returns, covar_z, covar_c]\n",
      "Sampling 4 chains, 0 divergences: 100%|██████████| 42000/42000 [01:13<00:00, 572.13draws/s]\n",
      "Added new variable covar_c to model diagonal of Wishart.\n",
      "Added new variable covar_z to model off-diagonals of Wishart.\n",
      "Multiprocess sampling (4 chains in 4 jobs)\n",
      "NUTS: [returns, covar_z, covar_c]\n",
      "Sampling 4 chains, 0 divergences: 100%|██████████| 42000/42000 [01:14<00:00, 561.00draws/s]\n",
      "Added new variable covar_c to model diagonal of Wishart.\n",
      "Added new variable covar_z to model off-diagonals of Wishart.\n",
      "Multiprocess sampling (4 chains in 4 jobs)\n",
      "NUTS: [returns, covar_z, covar_c]\n",
      "Sampling 4 chains, 0 divergences: 100%|██████████| 42000/42000 [01:14<00:00, 563.92draws/s]\n",
      "Added new variable covar_c to model diagonal of Wishart.\n",
      "Added new variable covar_z to model off-diagonals of Wishart.\n",
      "Multiprocess sampling (4 chains in 4 jobs)\n",
      "NUTS: [returns, covar_z, covar_c]\n",
      "Sampling 4 chains, 0 divergences: 100%|██████████| 42000/42000 [01:14<00:00, 565.37draws/s]\n",
      "Added new variable covar_c to model diagonal of Wishart.\n",
      "Added new variable covar_z to model off-diagonals of Wishart.\n",
      "Multiprocess sampling (4 chains in 4 jobs)\n",
      "NUTS: [returns, covar_z, covar_c]\n",
      "Sampling 4 chains, 0 divergences: 100%|██████████| 42000/42000 [01:16<00:00, 550.34draws/s]\n"
     ]
    },
    {
     "name": "stdout",
     "output_type": "stream",
     "text": [
      "iteration 1 \n",
      "['PEP', 'VZ', 'DUK', 'NFLX', 'IDCBY', 'RHHVF', 'USB', 'LMT']\n",
      "['NVO', 'EADSY', 'BAC', 'PFE', 'PG', 'BUD', 'RHHVF']\n"
     ]
    },
    {
     "name": "stderr",
     "output_type": "stream",
     "text": [
      "Added new variable covar_c to model diagonal of Wishart.\n",
      "Added new variable covar_z to model off-diagonals of Wishart.\n",
      "Multiprocess sampling (4 chains in 4 jobs)\n",
      "NUTS: [returns, covar_z, covar_c]\n",
      "Sampling 4 chains, 0 divergences: 100%|██████████| 42000/42000 [01:15<00:00, 553.50draws/s]\n",
      "Added new variable covar_c to model diagonal of Wishart.\n",
      "Added new variable covar_z to model off-diagonals of Wishart.\n",
      "Multiprocess sampling (4 chains in 4 jobs)\n",
      "NUTS: [returns, covar_z, covar_c]\n",
      "Sampling 4 chains, 0 divergences: 100%|██████████| 42000/42000 [01:15<00:00, 558.74draws/s]\n",
      "Added new variable covar_c to model diagonal of Wishart.\n",
      "Added new variable covar_z to model off-diagonals of Wishart.\n",
      "Multiprocess sampling (4 chains in 4 jobs)\n",
      "NUTS: [returns, covar_z, covar_c]\n",
      "Sampling 4 chains, 0 divergences: 100%|██████████| 42000/42000 [01:17<00:00, 540.84draws/s]\n",
      "Added new variable covar_c to model diagonal of Wishart.\n",
      "Added new variable covar_z to model off-diagonals of Wishart.\n",
      "Multiprocess sampling (4 chains in 4 jobs)\n",
      "NUTS: [returns, covar_z, covar_c]\n",
      "Sampling 4 chains, 0 divergences: 100%|██████████| 42000/42000 [01:17<00:00, 539.76draws/s]\n",
      "Added new variable covar_c to model diagonal of Wishart.\n",
      "Added new variable covar_z to model off-diagonals of Wishart.\n",
      "Multiprocess sampling (4 chains in 4 jobs)\n",
      "NUTS: [returns, covar_z, covar_c]\n",
      "Sampling 4 chains, 0 divergences: 100%|██████████| 42000/42000 [01:18<00:00, 537.88draws/s]\n"
     ]
    },
    {
     "name": "stdout",
     "output_type": "stream",
     "text": [
      "iteration 2 \n",
      "['PEP', 'VZ', 'DUK', 'NFLX', 'IDCBY', 'MDT', 'USB', 'LMT']\n"
     ]
    }
   ],
   "source": [
    "mu_development = []\n",
    "cov_development = []\n",
    "\n",
    "for count , n in enumerate(range(3)):\n",
    "    print(excluded)\n",
    "    \n",
    "    portfolio = generate_portfolio(seed_share ,excluded)\n",
    "    \n",
    "    blocktrace = calculate_posterior(portfolio)\n",
    "    \n",
    "    mu_samples, cov_samples = combine_blocktrace(blocktrace)\n",
    "    \n",
    "    excluded.append(replace_highest_corr(cov_samples,portfolio))\n",
    "    \n",
    "    \n",
    "    \n",
    "    #plot_mus(mu_samples)\n",
    "    #plot_covar(cov_samples)\n",
    "    \n",
    "    print(f\"iteration {count} \")\n",
    "    print(portfolio)\n",
    "    \n",
    "    mu_development.append(mu_samples)\n",
    "    cov_development.append(cov_samples)\n"
   ]
  },
  {
   "cell_type": "code",
   "execution_count": 308,
   "metadata": {},
   "outputs": [],
   "source": [
    "final_portfolio =  ['PEP', 'VZ', 'DUK', 'NFLX', 'IDCBY', 'MDT', 'USB', 'LMT']"
   ]
  },
  {
   "cell_type": "code",
   "execution_count": 309,
   "metadata": {},
   "outputs": [],
   "source": [
    "portfolio_ret = stock_closes_test[final_portfolio]"
   ]
  },
  {
   "cell_type": "code",
   "execution_count": 311,
   "metadata": {},
   "outputs": [],
   "source": [
    "portfolio_ret = portfolio_ret.pct_change()[1:]"
   ]
  },
  {
   "cell_type": "code",
   "execution_count": 312,
   "metadata": {},
   "outputs": [],
   "source": [
    "portfolio_delta_2019 = portfolio_ret.sum() "
   ]
  },
  {
   "cell_type": "code",
   "execution_count": 313,
   "metadata": {},
   "outputs": [
    {
     "data": {
      "text/plain": [
       "1404.5122414569028"
      ]
     },
     "execution_count": 313,
     "metadata": {},
     "output_type": "execute_result"
    }
   ],
   "source": [
    "(portfolio_delta_2019 *(10000 / 8) ).sum()"
   ]
  },
  {
   "cell_type": "code",
   "execution_count": 321,
   "metadata": {},
   "outputs": [],
   "source": [
    "mus = mu_development[-1].mean(axis=0)\n",
    "covars = cov_development[-1].mean(axis=0)"
   ]
  },
  {
   "cell_type": "code",
   "execution_count": 322,
   "metadata": {},
   "outputs": [],
   "source": [
    "wealth = mus*100 # initialize wealth with the posterior mu ratio"
   ]
  },
  {
   "cell_type": "code",
   "execution_count": 323,
   "metadata": {},
   "outputs": [],
   "source": [
    "optimized = opt.minimize(optweight, x0=wealth, bounds= bounds, constraints = cons)"
   ]
  },
  {
   "cell_type": "code",
   "execution_count": 328,
   "metadata": {},
   "outputs": [
    {
     "data": {
      "text/plain": [
       "     fun: -0.0025047493465647943\n",
       "     jac: array([-0.00222216, -0.00203447, -0.0017689 , -0.00241504, -0.00107874,\n",
       "       -0.00245131, -0.00291889, -0.00108638])\n",
       " message: 'Optimization terminated successfully.'\n",
       "    nfev: 90\n",
       "     nit: 9\n",
       "    njev: 9\n",
       "  status: 0\n",
       " success: True\n",
       "       x: array([0.06596103, 0.04212934, 0.        , 0.10085323, 0.        ,\n",
       "       0.59905522, 0.19200118, 0.        ])"
      ]
     },
     "execution_count": 328,
     "metadata": {},
     "output_type": "execute_result"
    }
   ],
   "source": [
    "optimized"
   ]
  },
  {
   "cell_type": "code",
   "execution_count": 326,
   "metadata": {},
   "outputs": [
    {
     "data": {
      "text/plain": [
       "<matplotlib.axes._subplots.AxesSubplot at 0x7f5ceb54f450>"
      ]
     },
     "execution_count": 326,
     "metadata": {},
     "output_type": "execute_result"
    },
    {
     "data": {
      "image/png": "[encoded data removed]",
      "text/plain": [
       "<Figure size 1440x504 with 1 Axes>"
      ]
     },
     "metadata": {
      "needs_background": "light"
     },
     "output_type": "display_data"
    }
   ],
   "source": [
    "pd.DataFrame(optimized.x * 10000, index=final_portfolio ).plot(kind='bar')"
   ]
  },
  {
   "cell_type": "code",
   "execution_count": 327,
   "metadata": {},
   "outputs": [
    {
     "data": {
      "text/plain": [
       "1897.814843595707"
      ]
     },
     "execution_count": 327,
     "metadata": {},
     "output_type": "execute_result"
    }
   ],
   "source": [
    "(portfolio_delta_2019*invest).sum()"
   ]
  },
  {
   "cell_type": "code",
   "execution_count": null,
   "metadata": {},
   "outputs": [],
   "source": []
  },
  {
   "cell_type": "markdown",
   "metadata": {},
   "source": [
    "# testing the portfolio"
   ]
  },
  {
   "cell_type": "code",
   "execution_count": null,
   "metadata": {},
   "outputs": [],
   "source": [
    "# lets get the data for 2019"
   ]
  },
  {
   "cell_type": "code",
   "execution_count": 122,
   "metadata": {},
   "outputs": [],
   "source": [
    "final_portfolio = ['FB', 'NFLX', 'BAC', 'NEE', 'PFE', 'LMT', 'BUD', 'PG']"
   ]
  },
  {
   "cell_type": "code",
   "execution_count": 120,
   "metadata": {},
   "outputs": [],
   "source": [
    "startdate = \"2019-02-22\" #  starts one year ago \n",
    "enddate = '2020-01-01' # ends beginning of the year\n",
    "stock_closes_test = pd.DataFrame()\n",
    "\n",
    "# fetch stock information\n",
    "for stock in stocks:\n",
    "    tickerData = yf.Ticker(stock)\n",
    "    x = tickerData.history(period='1d', start=startdate, end=enddate)\n",
    "    stock_series = pd.Series(x['Close'].astype(float), name=stock)\n",
    "    stock_closes_test[stock] = stock_series"
   ]
  },
  {
   "cell_type": "code",
   "execution_count": 270,
   "metadata": {},
   "outputs": [],
   "source": [
    "portfolio_ret = stock_closes_test[final_portfolio]"
   ]
  },
  {
   "cell_type": "code",
   "execution_count": 151,
   "metadata": {},
   "outputs": [],
   "source": [
    "portfolio = portfolio.pct_change()[1:]"
   ]
  },
  {
   "cell_type": "code",
   "execution_count": 152,
   "metadata": {},
   "outputs": [
    {
     "data": {
      "text/plain": [
       "FB      0.276223\n",
       "NFLX   -0.053591\n",
       "BAC     0.228521\n",
       "NEE     0.292652\n",
       "PFE    -0.030910\n",
       "LMT     0.282310\n",
       "BUD     0.107071\n",
       "PG      0.255651\n",
       "dtype: float64"
      ]
     },
     "execution_count": 152,
     "metadata": {},
     "output_type": "execute_result"
    }
   ],
   "source": [
    "portfolio.sum()"
   ]
  },
  {
   "cell_type": "code",
   "execution_count": null,
   "metadata": {},
   "outputs": [],
   "source": []
  }
 ],
 "metadata": {
  "kernelspec": {
   "display_name": "Python 3",
   "language": "python",
   "name": "python3"
  },
  "language_info": {
   "codemirror_mode": {
    "name": "ipython",
    "version": 3
   },
   "file_extension": ".py",
   "mimetype": "text/x-python",
   "name": "python",
   "nbconvert_exporter": "python",
   "pygments_lexer": "ipython3",
   "version": "3.7.5"
  }
 },
 "nbformat": 4,
 "nbformat_minor": 2
}
