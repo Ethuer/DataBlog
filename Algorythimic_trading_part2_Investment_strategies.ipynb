{
 "cells": [
  {
   "cell_type": "code",
   "execution_count": 119,
   "metadata": {},
   "outputs": [],
   "source": [
    "import pandas as pd\n",
    "import numpy as np\n",
    "\n",
    "\n",
    "# pymc3 with theano backend\n",
    "import pymc3 as pm\n",
    "import theano.tensor as tt\n",
    "\n",
    "import scipy.stats as stats\n",
    "import matplotlib.pyplot as plt\n",
    "\n",
    "import datetime\n",
    "import collections\n",
    "\n",
    "# finance data from yahoo finance\n",
    "import yfinance as yf\n",
    "\n",
    "# silence warnings\n",
    "import warnings\n",
    "warnings.filterwarnings('ignore')"
   ]
  },
  {
   "cell_type": "code",
   "execution_count": 120,
   "metadata": {},
   "outputs": [],
   "source": [
    "# modify figure size\n",
    "from IPython.core.pylabtools import figsize\n",
    "\n",
    "# define fonts\n",
    "\n",
    "font = {'family' : 'normal',\n",
    "        'weight' : 'bold',\n",
    "        'size'   : 19}\n",
    "\n",
    "plt.rc('font', **font)"
   ]
  },
  {
   "cell_type": "code",
   "execution_count": 121,
   "metadata": {},
   "outputs": [],
   "source": [
    "# same stock as previously\n",
    "\n",
    "# finance\n",
    "fin = [\"IDCBY\",\n",
    "\"HSBC\",\n",
    "\"C\",\n",
    "\"V\",\n",
    "\"JPM\",\n",
    "\"MA\",\n",
    "\"BAC\",\n",
    "\"IDCBF\"]\n",
    "\n",
    "# Healthcare\n",
    "health = [\"JNJ\",\n",
    "\"RHHVF\",\n",
    "\"NVS\",\n",
    "\"MRK\",\n",
    "\"PFE\",\n",
    "\"ABT\",\n",
    "\"BMY\",\n",
    "\"MDT\" ]\n",
    "\n",
    "# Consumer goods\n",
    "cons = [\"AAPL\",\n",
    "\"NSRGF\",\n",
    "\"PG\",\n",
    "\"PEP\",\n",
    "\"TSM\",\n",
    "\"INTC\",\n",
    "\"KO\",\n",
    "\"LVMUY\"]\n",
    "\n",
    "# Services\n",
    "srv = [\"AMZN\",\n",
    "\"NFLX\",\n",
    "\"WMT\",\n",
    "\"UNH\",\n",
    "\"HD\",\n",
    "\"DIS\",\n",
    "\"CMCSA\",\n",
    "\"CHLKF\"]\n",
    "\n",
    "# Utilities\n",
    "util = [\"CVX\",\n",
    "\"NEE\",\n",
    "\"IBDRY\",\n",
    "\"OJSCY\",\n",
    "\"DUK\",\n",
    "\"D\",\n",
    "\"SO\",\n",
    "\"AEP\"]\n",
    "\n",
    "#TECH\n",
    "tech = [\"MSFT\",\n",
    "\"GOOGL\",\n",
    "\"FB\",\n",
    "\"VOD\",\n",
    "\"ACN\",\n",
    "\"T\",\n",
    "\"CHT\",\n",
    "\"VZ\"]\n",
    "\n",
    "# Industrial goods\n",
    "ind = [\"UTX\",\n",
    "\"HON\",\n",
    "\"LMT\",\n",
    "\"EADSY\",\n",
    "\"GE\",\n",
    "\"SIEGY\",\n",
    "\"MMM\",\n",
    "\"CAT\"]\n",
    "\n",
    "# Random\n",
    "others = [\"XOM\",\n",
    "\"BUD\",\n",
    "\"NVO\",\n",
    "\"BA\",\n",
    "\"USB\",\n",
    "\"IBM\",\n",
    "\"ORCL\",\n",
    "\"WFC\"]"
   ]
  },
  {
   "cell_type": "code",
   "execution_count": 122,
   "metadata": {},
   "outputs": [],
   "source": [
    "# combine stock information\n",
    "stocks = fin+health+srv+ind+cons+util+tech+others\n",
    "\n",
    "stock_dict = {'HEALTH':health,'IND':ind, 'UTIL':util,'FINANCE':fin,'TECH':tech,'SERVICE':srv,'CONSUM':cons,'OTHERS':others}\n",
    "\n",
    "# back tranlation\n",
    "stock_2_theme = {}\n",
    "for key, val in stock_dict.items():\n",
    "    for v in val:\n",
    "        stock_2_theme[v] = key\n",
    "    \n",
    "# choose colors for the plots\n",
    "colors = [\"#348ABD\", \"#A60628\", \"#7A68A6\", \"#467821\",\"#345eeb\", \"#eb8f34\", \"#57514b\", \"#10d4de\"]\n",
    "\n",
    "stock_closes = pd.DataFrame()\n",
    "\n",
    "enddate = \"2019-02-22\" #  ends one year ago \n",
    "startdate = '2014-1-1'"
   ]
  },
  {
   "cell_type": "code",
   "execution_count": 123,
   "metadata": {},
   "outputs": [],
   "source": [
    "n_observations = 100 "
   ]
  },
  {
   "cell_type": "code",
   "execution_count": 124,
   "metadata": {},
   "outputs": [],
   "source": [
    "# fetch stock information\n",
    "for stock in stocks:\n",
    "    tickerData = yf.Ticker(stock)\n",
    "    x = tickerData.history(period='1d', start=startdate, end=enddate)\n",
    "    stock_series = pd.Series(x['Close'].astype(float), name=stock)\n",
    "    stock_closes[stock] = stock_series"
   ]
  },
  {
   "cell_type": "code",
   "execution_count": 126,
   "metadata": {},
   "outputs": [
    {
     "data": {
      "text/plain": [
       "Index(['IDCBY', 'HSBC', 'C', 'V', 'JPM', 'MA', 'BAC', 'IDCBF', 'JNJ', 'RHHVF',\n",
       "       'NVS', 'MRK', 'PFE', 'ABT', 'BMY', 'MDT', 'AMZN', 'NFLX', 'WMT', 'UNH',\n",
       "       'HD', 'DIS', 'CMCSA', 'CHLKF', 'UTX', 'HON', 'LMT', 'EADSY', 'GE',\n",
       "       'SIEGY', 'MMM', 'CAT', 'AAPL', 'NSRGF', 'PG', 'PEP', 'TSM', 'INTC',\n",
       "       'KO', 'LVMUY', 'CVX', 'NEE', 'IBDRY', 'OJSCY', 'DUK', 'D', 'SO', 'AEP',\n",
       "       'MSFT', 'GOOGL', 'FB', 'VOD', 'ACN', 'T', 'CHT', 'VZ', 'XOM', 'BUD',\n",
       "       'NVO', 'BA', 'USB', 'IBM', 'ORCL', 'WFC'],\n",
       "      dtype='object')"
      ]
     },
     "execution_count": 126,
     "metadata": {},
     "output_type": "execute_result"
    }
   ],
   "source": [
    "stock_closes.columns"
   ]
  },
  {
   "cell_type": "code",
   "execution_count": 127,
   "metadata": {},
   "outputs": [
    {
     "data": {
      "text/plain": [
       "Index(['IDCBY', 'HSBC', 'C', 'V', 'JPM', 'MA', 'BAC', 'IDCBF', 'JNJ', 'RHHVF',\n",
       "       'NVS', 'MRK', 'PFE', 'ABT', 'BMY', 'MDT', 'AMZN', 'NFLX', 'WMT', 'UNH',\n",
       "       'HD', 'DIS', 'CMCSA', 'CHLKF', 'UTX', 'HON', 'LMT', 'EADSY', 'GE',\n",
       "       'SIEGY', 'MMM', 'CAT', 'AAPL', 'NSRGF', 'PG', 'PEP', 'TSM', 'INTC',\n",
       "       'KO', 'LVMUY', 'CVX', 'NEE', 'IBDRY', 'OJSCY', 'DUK', 'D', 'SO', 'AEP',\n",
       "       'MSFT', 'GOOGL', 'FB', 'VOD', 'ACN', 'T', 'CHT', 'VZ', 'XOM', 'BUD',\n",
       "       'NVO', 'BA', 'USB', 'IBM', 'ORCL', 'WFC'],\n",
       "      dtype='object')"
      ]
     },
     "execution_count": 127,
     "metadata": {},
     "output_type": "execute_result"
    }
   ],
   "source": [
    "# normalization by delta percentage\n",
    "stock_returns = stock_closes.pct_change()[1:][-n_observations:]\n",
    "\n",
    "# list the stock indices\n",
    "stock_returns.columns"
   ]
  },
  {
   "cell_type": "code",
   "execution_count": 128,
   "metadata": {},
   "outputs": [],
   "source": [
    "# reduce autocorrelation by thinning data \n",
    "blocks = 5\n",
    "block_dict = {}\n",
    "for n in range(blocks):\n",
    "    idx = [(it * blocks)+n for it in range(stock_returns.shape[0]// blocks) ]\n",
    "    \n",
    "    block_dict[n] = stock_closes.iloc[idx] # use stock close data\n",
    "    \n",
    "    block_dict[n] = block_dict[n].pct_change()[1:][-n_observations:] # convert to weekwise delta"
   ]
  },
  {
   "cell_type": "code",
   "execution_count": 109,
   "metadata": {},
   "outputs": [],
   "source": [
    "# choose a block for preparation\n",
    "prep_stock = block_dict[2]"
   ]
  },
  {
   "cell_type": "code",
   "execution_count": 10,
   "metadata": {},
   "outputs": [],
   "source": [
    "def cov_to_corr(A):\n",
    "    \"\"\"\n",
    "    Transform covariance to correlation\n",
    "    \"\"\"\n",
    "    d = np.sqrt(A.diagonal())\n",
    "    A = ((A.T/d).T)/d\n",
    "    return A"
   ]
  },
  {
   "cell_type": "code",
   "execution_count": 28,
   "metadata": {},
   "outputs": [],
   "source": [
    "# choose a stock to begin with\n",
    "# Try \"PG\"\n",
    "seed_share = pd.DataFrame(stock_returns.sum().sort_values(ascending=False) ).iloc[0].name\n",
    "\n",
    "# For the time period chosen that was PG, which is in the group Consumer goods"
   ]
  },
  {
   "cell_type": "code",
   "execution_count": 58,
   "metadata": {},
   "outputs": [],
   "source": [
    "stem_shares =  pd.DataFrame(stock_returns  \n",
    "                            .corr()[seed_share] # correlation to the seed\n",
    "                            .sort_values()) # sort"
   ]
  },
  {
   "cell_type": "code",
   "execution_count": 65,
   "metadata": {},
   "outputs": [],
   "source": [
    "stem_shares = stem_shares.index.to_series().map(stock_2_theme) # add information on group"
   ]
  },
  {
   "cell_type": "code",
   "execution_count": 67,
   "metadata": {},
   "outputs": [],
   "source": [
    "stem_shares = pd.DataFrame(stem_shares.drop_duplicates()) # remove additional shares"
   ]
  },
  {
   "cell_type": "code",
   "execution_count": 70,
   "metadata": {},
   "outputs": [],
   "source": [
    "# the most highly correlated shares by subject group\n",
    "stem_shares = stem_shares.loc[stem_shares[0] != stock_2_theme[seed_share]]"
   ]
  },
  {
   "cell_type": "code",
   "execution_count": 74,
   "metadata": {},
   "outputs": [],
   "source": [
    "test_portfolio = stem_shares.index.tolist() + [seed_share ]"
   ]
  },
  {
   "cell_type": "code",
   "execution_count": 75,
   "metadata": {},
   "outputs": [
    {
     "data": {
      "text/plain": [
       "['IDCBF', 'CHLKF', 'OJSCY', 'EADSY', 'CHT', 'NVO', 'BMY', 'PG']"
      ]
     },
     "execution_count": 75,
     "metadata": {},
     "output_type": "execute_result"
    }
   ],
   "source": [
    "test_portfolio"
   ]
  },
  {
   "cell_type": "code",
   "execution_count": 76,
   "metadata": {},
   "outputs": [],
   "source": [
    "# again we need priors\n",
    "prior_expectations = {}\n",
    "for ind, stocks in stock_dict.items():#[health,ind, util,fin,tech,srv,cons,others]:\n",
    "    prior_expectations[ind] = (stock_returns[stocks].mean(axis=1).mean() , stock_returns[stocks].mean(axis=1).std())\n",
    "    #print(ind, stock_returns[stocks].mean(axis=1).mean() , stock_returns[stocks].mean(axis=1).std()  )"
   ]
  },
  {
   "cell_type": "code",
   "execution_count": 84,
   "metadata": {},
   "outputs": [],
   "source": [
    "def specific_stock(combination):\n",
    "    \n",
    "    priormus = [] \n",
    "    priorstd = []\n",
    "    \n",
    "    for i, (key, val) in enumerate(stock_dict.items()):\n",
    "        priormus.append(prior_expectations[key][0])\n",
    "        priorstd.append(prior_expectations[key][1])\n",
    "        \n",
    "    stock_relevant = stock_returns[combination]\n",
    "    covar = stock_relevant.cov()\n",
    "    return stock_relevant, np.asarray(covar), np.array(priormus), np.array(priorstd)"
   ]
  },
  {
   "cell_type": "code",
   "execution_count": 89,
   "metadata": {},
   "outputs": [],
   "source": []
  },
  {
   "cell_type": "code",
   "execution_count": 118,
   "metadata": {},
   "outputs": [
    {
     "data": {
      "text/html": [
       "<div>\n",
       "<style scoped>\n",
       "    .dataframe tbody tr th:only-of-type {\n",
       "        vertical-align: middle;\n",
       "    }\n",
       "\n",
       "    .dataframe tbody tr th {\n",
       "        vertical-align: top;\n",
       "    }\n",
       "\n",
       "    .dataframe thead th {\n",
       "        text-align: right;\n",
       "    }\n",
       "</style>\n",
       "<table border=\"1\" class=\"dataframe\">\n",
       "  <thead>\n",
       "    <tr style=\"text-align: right;\">\n",
       "      <th></th>\n",
       "      <th>XOM</th>\n",
       "      <th>BUD</th>\n",
       "      <th>NVO</th>\n",
       "      <th>BA</th>\n",
       "      <th>USB</th>\n",
       "      <th>IBM</th>\n",
       "      <th>ORCL</th>\n",
       "      <th>WFC</th>\n",
       "    </tr>\n",
       "    <tr>\n",
       "      <th>Date</th>\n",
       "      <th></th>\n",
       "      <th></th>\n",
       "      <th></th>\n",
       "      <th></th>\n",
       "      <th></th>\n",
       "      <th></th>\n",
       "      <th></th>\n",
       "      <th></th>\n",
       "    </tr>\n",
       "  </thead>\n",
       "  <tbody>\n",
       "    <tr>\n",
       "      <th>2014-01-08</th>\n",
       "      <td>-0.004502</td>\n",
       "      <td>-0.014334</td>\n",
       "      <td>0.02493</td>\n",
       "      <td>0.031704</td>\n",
       "      <td>0.017241</td>\n",
       "      <td>0.002123</td>\n",
       "      <td>-0.011204</td>\n",
       "      <td>0.011482</td>\n",
       "    </tr>\n",
       "    <tr>\n",
       "      <th>2014-01-15</th>\n",
       "      <td>-0.019470</td>\n",
       "      <td>-0.017313</td>\n",
       "      <td>0.01581</td>\n",
       "      <td>-0.001423</td>\n",
       "      <td>0.009887</td>\n",
       "      <td>-0.001230</td>\n",
       "      <td>0.018303</td>\n",
       "      <td>0.010560</td>\n",
       "    </tr>\n",
       "    <tr>\n",
       "      <th>2014-01-23</th>\n",
       "      <td>-0.018319</td>\n",
       "      <td>-0.006695</td>\n",
       "      <td>-0.00449</td>\n",
       "      <td>0.004947</td>\n",
       "      <td>-0.018741</td>\n",
       "      <td>-0.026681</td>\n",
       "      <td>-0.006562</td>\n",
       "      <td>-0.001306</td>\n",
       "    </tr>\n",
       "  </tbody>\n",
       "</table>\n",
       "</div>"
      ],
      "text/plain": [
       "                 XOM       BUD      NVO        BA       USB       IBM  \\\n",
       "Date                                                                    \n",
       "2014-01-08 -0.004502 -0.014334  0.02493  0.031704  0.017241  0.002123   \n",
       "2014-01-15 -0.019470 -0.017313  0.01581 -0.001423  0.009887 -0.001230   \n",
       "2014-01-23 -0.018319 -0.006695 -0.00449  0.004947 -0.018741 -0.026681   \n",
       "\n",
       "                ORCL       WFC  \n",
       "Date                            \n",
       "2014-01-08 -0.011204  0.011482  \n",
       "2014-01-15  0.018303  0.010560  \n",
       "2014-01-23 -0.006562 -0.001306  "
      ]
     },
     "execution_count": 118,
     "metadata": {},
     "output_type": "execute_result"
    }
   ],
   "source": [
    "block_dict[0]"
   ]
  },
  {
   "cell_type": "code",
   "execution_count": 129,
   "metadata": {},
   "outputs": [
    {
     "name": "stderr",
     "output_type": "stream",
     "text": [
      "Added new variable covar_c to model diagonal of Wishart.\n",
      "Added new variable covar_z to model off-diagonals of Wishart.\n",
      "Multiprocess sampling (4 chains in 4 jobs)\n",
      "NUTS: [returns, covar_z, covar_c]\n",
      "Sampling 4 chains, 0 divergences: 100%|██████████| 42000/42000 [01:14<00:00, 561.24draws/s]\n",
      "Added new variable covar_c to model diagonal of Wishart.\n",
      "Added new variable covar_z to model off-diagonals of Wishart.\n",
      "Multiprocess sampling (4 chains in 4 jobs)\n",
      "NUTS: [returns, covar_z, covar_c]\n",
      "Sampling 4 chains, 0 divergences: 100%|██████████| 42000/42000 [01:14<00:00, 562.36draws/s]\n",
      "Added new variable covar_c to model diagonal of Wishart.\n",
      "Added new variable covar_z to model off-diagonals of Wishart.\n",
      "Multiprocess sampling (4 chains in 4 jobs)\n",
      "NUTS: [returns, covar_z, covar_c]\n",
      "Sampling 4 chains, 0 divergences: 100%|██████████| 42000/42000 [01:17<00:00, 542.08draws/s]\n",
      "Added new variable covar_c to model diagonal of Wishart.\n",
      "Added new variable covar_z to model off-diagonals of Wishart.\n",
      "Multiprocess sampling (4 chains in 4 jobs)\n",
      "NUTS: [returns, covar_z, covar_c]\n",
      "Sampling 4 chains, 0 divergences: 100%|██████████| 42000/42000 [01:15<00:00, 553.11draws/s]\n",
      "Added new variable covar_c to model diagonal of Wishart.\n",
      "Added new variable covar_z to model off-diagonals of Wishart.\n",
      "Multiprocess sampling (4 chains in 4 jobs)\n",
      "NUTS: [returns, covar_z, covar_c]\n",
      "Sampling 4 chains, 0 divergences: 100%|██████████| 42000/42000 [01:09<00:00, 603.59draws/s]\n"
     ]
    }
   ],
   "source": [
    "# analyze the stock\n",
    "\n",
    "# we have 5 subsets to analyze the data on after thinning the data above\n",
    "\n",
    "blocktrace = {}\n",
    "\n",
    "for block, block_data in block_dict.items():\n",
    "\n",
    "    stock_returns = pd.DataFrame(block_data)\n",
    "\n",
    "    stocks_chosen, init, prior_mu, prior_std = specific_stock(test_portfolio)\n",
    "\n",
    "    with pm.Model() as model:\n",
    "    \n",
    "        covar = pm.WishartBartlett('covar', np.diag(prior_std**2), nu=16, testval=init)\n",
    "    \n",
    "        mu = pm.Normal('returns', mu=prior_mu, sd=1, shape= prior_mu.shape[0] )\n",
    "\n",
    "        obs = pm.MvNormal('observed returns', mu=mu, cov = covar, observed=stocks_chosen)\n",
    "    \n",
    "        step = pm.NUTS()\n",
    "        trace = pm.sample(10000, step=step)\n",
    "        \n",
    "        blocktrace[block] = trace\n",
    "        "
   ]
  },
  {
   "cell_type": "code",
   "execution_count": 130,
   "metadata": {},
   "outputs": [],
   "source": [
    "mu_samples = [trace[\"returns\"] for block, trace in blocktrace.items()]"
   ]
  },
  {
   "cell_type": "code",
   "execution_count": 137,
   "metadata": {},
   "outputs": [
    {
     "data": {
      "image/png": "[encoded data removed]",
      "text/plain": [
       "<Figure size 1008x432 with 1 Axes>"
      ]
     },
     "metadata": {
      "needs_background": "light"
     },
     "output_type": "display_data"
    }
   ],
   "source": [
    "\n",
    "figsize(14,6)\n",
    "\n",
    "#examine the mean return first.\n",
    "mu_samples = trace[\"returns\"]\n",
    "\n",
    "for i in range(8):\n",
    "    plt.hist(mu_samples[:,i], alpha = 0.8 - 0.05*i, bins = 30,\n",
    "             histtype=\"stepfilled\", normed=True, \n",
    "             label = \"%s\" % test_portfolio[i])\n",
    "\n",
    "plt.vlines(mu_samples.mean(axis=0), 0, 500, linestyle=\"--\", linewidth = .5)\n",
    "\n",
    "plt.title(\"Posteriore Verteilung des $\\mu$ pro Woche \")\n",
    "plt.legend();"
   ]
  },
  {
   "cell_type": "code",
   "execution_count": 144,
   "metadata": {},
   "outputs": [
    {
     "data": {
      "text/plain": [
       "(40000, 5, 8, 8)"
      ]
     },
     "execution_count": 144,
     "metadata": {},
     "output_type": "execute_result"
    }
   ],
   "source": [
    "np.stack([trace[\"covar\"] for block, trace in blocktrace.items()] ).shape"
   ]
  },
  {
   "cell_type": "code",
   "execution_count": 145,
   "metadata": {},
   "outputs": [
    {
     "ename": "TypeError",
     "evalue": "'MultiTrace' object cannot be interpreted as an integer",
     "output_type": "error",
     "traceback": [
      "\u001b[0;31m---------------------------------------------------------------------------\u001b[0m",
      "\u001b[0;31mTypeError\u001b[0m                                 Traceback (most recent call last)",
      "\u001b[0;32m<ipython-input-145-d83155f14763>\u001b[0m in \u001b[0;36m<module>\u001b[0;34m\u001b[0m\n\u001b[0;32m----> 1\u001b[0;31m \u001b[0mnp\u001b[0m\u001b[0;34m.\u001b[0m\u001b[0mconcatenate\u001b[0m\u001b[0;34m(\u001b[0m\u001b[0mblocktrace\u001b[0m\u001b[0;34m[\u001b[0m\u001b[0;36m0\u001b[0m\u001b[0;34m]\u001b[0m\u001b[0;34m,\u001b[0m \u001b[0mblocktrace\u001b[0m\u001b[0;34m[\u001b[0m\u001b[0;36m1\u001b[0m\u001b[0;34m]\u001b[0m\u001b[0;34m)\u001b[0m\u001b[0;34m\u001b[0m\u001b[0;34m\u001b[0m\u001b[0m\n\u001b[0m",
      "\u001b[0;32m<__array_function__ internals>\u001b[0m in \u001b[0;36mconcatenate\u001b[0;34m(*args, **kwargs)\u001b[0m\n",
      "\u001b[0;31mTypeError\u001b[0m: 'MultiTrace' object cannot be interpreted as an integer"
     ]
    }
   ],
   "source": [
    "np.concatenate(blocktrace[0], blocktrace[1])"
   ]
  },
  {
   "cell_type": "code",
   "execution_count": 147,
   "metadata": {},
   "outputs": [
    {
     "data": {
      "image/png": "[encoded data removed]",
      "text/plain": [
       "<Figure size 1440x504 with 3 Axes>"
      ]
     },
     "metadata": {
      "needs_background": "light"
     },
     "output_type": "display_data"
    }
   ],
   "source": [
    "figsize(20,7)\n",
    "cov_samples = blocktrace[1][\"covar\"]\n",
    "mean_covariance_matrix = cov_samples.mean(axis=0)\n",
    "\n",
    "def cov2corr(A):\n",
    "    \"\"\"\n",
    "    covariance matrix to correlation matrix.\n",
    "    \"\"\"\n",
    "    d = np.sqrt(A.diagonal())\n",
    "    A = ((A.T/d).T)/d\n",
    "    #A[ np.diag_indices(A.shape[0]) ] = np.ones( A.shape[0] )\n",
    "    return A\n",
    "\n",
    "\n",
    "plt.subplot(1,2,1)\n",
    "plt.imshow(cov2corr(mean_covariance_matrix) , interpolation=\"none\", \n",
    "                cmap = \"Reds\") \n",
    "plt.xticks(np.arange(8), test_portfolio,rotation='vertical')\n",
    "plt.yticks(np.arange(8), test_portfolio)\n",
    "plt.colorbar(orientation=\"vertical\")\n",
    "plt.title(\"Mittlere ( posteriore) Korrelationsmatrix\")\n",
    "\n",
    "plt.subplot(1,2,2)\n",
    "plt.bar(np.arange(8), np.sqrt(np.diag(mean_covariance_matrix)),\n",
    "        color = colors[2], alpha = 0.7)\n",
    "plt.xticks(np.arange(8) + 0.5, test_portfolio,rotation='vertical');\n",
    "plt.title(\"Mittlere ( posteriore) Standardabweichung der wöchentlichen Änderungen\")\n",
    "\n",
    "plt.tight_layout();"
   ]
  },
  {
   "cell_type": "code",
   "execution_count": 149,
   "metadata": {},
   "outputs": [
    {
     "data": {
      "text/plain": [
       "(8, 8)"
      ]
     },
     "execution_count": 149,
     "metadata": {},
     "output_type": "execute_result"
    }
   ],
   "source": [
    "# iteratively replace the worst stock\n",
    "mean_covariance_matrix.shape"
   ]
  },
  {
   "cell_type": "code",
   "execution_count": null,
   "metadata": {},
   "outputs": [],
   "source": []
  }
 ],
 "metadata": {
  "kernelspec": {
   "display_name": "Python 3",
   "language": "python",
   "name": "python3"
  },
  "language_info": {
   "codemirror_mode": {
    "name": "ipython",
    "version": 3
   },
   "file_extension": ".py",
   "mimetype": "text/x-python",
   "name": "python",
   "nbconvert_exporter": "python",
   "pygments_lexer": "ipython3",
   "version": "3.7.5"
  }
 },
 "nbformat": 4,
 "nbformat_minor": 2
}
