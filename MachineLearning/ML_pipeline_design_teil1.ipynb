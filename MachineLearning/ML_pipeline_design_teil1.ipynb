{
 "cells": [
  {
   "cell_type": "code",
   "execution_count": 232,
   "metadata": {},
   "outputs": [],
   "source": [
    "import numpy as np\n",
    "import pandas as pd\n",
    "\n",
    "import matplotlib.pyplot as plt\n",
    "import seaborn as sns\n",
    "# sklearn pipelines\n",
    "from sklearn.pipeline import Pipeline\n",
    "\n",
    "# A few classifiers\n",
    "from sklearn.ensemble import GradientBoostingClassifier\n",
    "from sklearn.ensemble import RandomForestClassifier,AdaBoostClassifier\n",
    "from sklearn.svm import NuSVC\n",
    "from sklearn.svm import LinearSVC\n",
    "from sklearn.naive_bayes import GaussianNB\n",
    "from sklearn.neural_network import MLPClassifier\n",
    "# available list of all classifiers https://scikit-learn.org/stable/auto_examples/classification/plot_classifier_comparison.html\n",
    "\n",
    "#prerprocessing \n",
    "from sklearn.preprocessing import StandardScaler\n",
    "\n",
    "# evaluation metrics\n",
    "from sklearn.metrics import confusion_matrix\n",
    "from sklearn.model_selection import cross_val_score\n",
    "\n",
    "# combinatory techniques\n",
    "from sklearn.ensemble import VotingClassifier\n",
    "\n",
    "# hyperparameter\n",
    "from sklearn.utils.fixes import loguniform\n",
    "from scipy import stats\n",
    "\n",
    "\n",
    "# grid and randomized searches\n",
    "from sklearn.model_selection import GridSearchCV, RandomizedSearchCV\n",
    "\n",
    "from sklearn.calibration import CalibratedClassifierCV"
   ]
  },
  {
   "cell_type": "code",
   "execution_count": 2,
   "metadata": {},
   "outputs": [],
   "source": [
    "from utils.samplegenerator import UserDataGenerator"
   ]
  },
  {
   "cell_type": "code",
   "execution_count": 6,
   "metadata": {},
   "outputs": [],
   "source": []
  },
  {
   "cell_type": "code",
   "execution_count": 3,
   "metadata": {},
   "outputs": [],
   "source": [
    "# unbalanced label distribution \n",
    "label_frequency=[0.1,0.2,0.1,0.5,0.1]\n",
    "colnames=['click_a','click_b','amount','purchased_stock','response_time','retrieved'],\n",
    "column_types=['binom','binom','norm','categorical','chisquare','norm'], \n",
    "n_labels=5, \n",
    "\n",
    "ug2 = UserDataGenerator(n_labels=5, label_frequency=label_frequency)\n",
    "\n",
    "                 "
   ]
  },
  {
   "cell_type": "code",
   "execution_count": 4,
   "metadata": {},
   "outputs": [
    {
     "name": "stdout",
     "output_type": "stream",
     "text": [
      "CPU times: user 11.6 s, sys: 0 ns, total: 11.6 s\n",
      "Wall time: 11.6 s\n"
     ]
    }
   ],
   "source": [
    "%time train_data = ug2.generate_user_df(10000)\n",
    "test_data = ug2.generate_user_df(5000)"
   ]
  },
  {
   "cell_type": "code",
   "execution_count": 5,
   "metadata": {},
   "outputs": [
    {
     "data": {
      "image/png": "[encoded data removed]",
      "text/plain": [
       "<Figure size 432x288 with 1 Axes>"
      ]
     },
     "metadata": {
      "needs_background": "light"
     },
     "output_type": "display_data"
    }
   ],
   "source": [
    "ax = train_data.groupby('label').size().plot(kind='bar') # overrepresenting label d\n",
    "ax.set_label('Verteilung der Klassen')"
   ]
  },
  {
   "cell_type": "code",
   "execution_count": 6,
   "metadata": {},
   "outputs": [
    {
     "data": {
      "text/plain": [
       "Index(['label', 'click_a', 'click_b', 'amount', 'purchased_stock',\n",
       "       'response_time', 'retrieved'],\n",
       "      dtype='object')"
      ]
     },
     "execution_count": 6,
     "metadata": {},
     "output_type": "execute_result"
    }
   ],
   "source": [
    "train_data.columns"
   ]
  },
  {
   "cell_type": "code",
   "execution_count": 12,
   "metadata": {},
   "outputs": [],
   "source": [
    "onehot_purchase = pd.get_dummies(train_data.purchased_stock )\n",
    "x_train = pd.concat( [ train_data[['click_a', 'click_b', 'amount','response_time', 'retrieved']],onehot_purchase ] \n",
    "                    , axis = 1)\n",
    "\n",
    "y_train = train_data['label']\n",
    "\n",
    "onehot_purchase = pd.get_dummies(test_data.purchased_stock )\n",
    "x_test = pd.concat( [ test_data[['click_a', 'click_b', 'amount','response_time', 'retrieved']],onehot_purchase ] \n",
    "                    , axis = 1)\n",
    "\n",
    "y_test = test_data['label']"
   ]
  },
  {
   "cell_type": "code",
   "execution_count": 13,
   "metadata": {},
   "outputs": [],
   "source": [
    "rfc = RandomForestClassifier(oob_score=True)"
   ]
  },
  {
   "cell_type": "code",
   "execution_count": 14,
   "metadata": {},
   "outputs": [
    {
     "data": {
      "text/plain": [
       "RandomForestClassifier(bootstrap=True, ccp_alpha=0.0, class_weight=None,\n",
       "                       criterion='gini', max_depth=None, max_features='auto',\n",
       "                       max_leaf_nodes=None, max_samples=None,\n",
       "                       min_impurity_decrease=0.0, min_impurity_split=None,\n",
       "                       min_samples_leaf=1, min_samples_split=2,\n",
       "                       min_weight_fraction_leaf=0.0, n_estimators=100,\n",
       "                       n_jobs=None, oob_score=True, random_state=None,\n",
       "                       verbose=0, warm_start=False)"
      ]
     },
     "execution_count": 14,
     "metadata": {},
     "output_type": "execute_result"
    }
   ],
   "source": [
    "rfc.fit(X=x_train, y=y_train)"
   ]
  },
  {
   "cell_type": "code",
   "execution_count": 22,
   "metadata": {},
   "outputs": [
    {
     "name": "stdout",
     "output_type": "stream",
     "text": [
      "The out of bag estimate performance is 0.8195\n"
     ]
    }
   ],
   "source": [
    "# out of bag estimate\n",
    "print(f'The out of bag estimate performance is {rfc.oob_score_}')"
   ]
  },
  {
   "cell_type": "code",
   "execution_count": 24,
   "metadata": {},
   "outputs": [
    {
     "name": "stdout",
     "output_type": "stream",
     "text": [
      "The validation set score is 0.8144\n"
     ]
    }
   ],
   "source": [
    "# test _ score\n",
    "\n",
    "print(f'The validation set score is {rfc.score(x_test, y_test )}')"
   ]
  },
  {
   "cell_type": "code",
   "execution_count": 37,
   "metadata": {},
   "outputs": [],
   "source": [
    "y_pred = rfc.predict(x_test)\n",
    "y_true = np.asarray(y_test)"
   ]
  },
  {
   "cell_type": "code",
   "execution_count": 42,
   "metadata": {},
   "outputs": [],
   "source": [
    "c_mat = confusion_matrix(y_true=y_true, y_pred=y_pred)"
   ]
  },
  {
   "cell_type": "code",
   "execution_count": 55,
   "metadata": {},
   "outputs": [
    {
     "data": {
      "text/plain": [
       "Text(0.5, 1.0, 'Confusion Matrix')"
      ]
     },
     "execution_count": 55,
     "metadata": {},
     "output_type": "execute_result"
    },
    {
     "data": {
      "image/png": "[encoded data removed]",
      "text/plain": [
       "<Figure size 432x288 with 2 Axes>"
      ]
     },
     "metadata": {
      "needs_background": "light"
     },
     "output_type": "display_data"
    }
   ],
   "source": [
    "ax = sns.heatmap(c_mat, annot=True, cmap=\"YlGnBu\")\n",
    "ax.set_title('Confusion Matrix')"
   ]
  },
  {
   "cell_type": "code",
   "execution_count": 143,
   "metadata": {},
   "outputs": [],
   "source": [
    "rfc = RandomForestClassifier()\n",
    "ada = AdaBoostClassifier()\n",
    "gbc  = GradientBoostingClassifier()\n",
    "lsvc = LinearSVC(max_iter=2000)\n",
    "svc  = NuSVC(0.2)\n",
    "gnbc = GaussianNB()\n",
    "mlpc = MLPClassifier(max_iter=1000)\n",
    "\n",
    "classifiers = [(\"Randomforest\",rfc),\n",
    "               (\"AdaBoostClassifier\",ada),\n",
    "               (\"Gradientboosting\",gbc),\n",
    "               (\"LinearSVC\",lsvc),\n",
    "               (\"SVC\" ,svc),\n",
    "               (\"GaussianNB\", gnbc),\n",
    "               (\"MLPClassifier\", mlpc) ]"
   ]
  },
  {
   "cell_type": "code",
   "execution_count": 115,
   "metadata": {
    "scrolled": true
   },
   "outputs": [
    {
     "name": "stdout",
     "output_type": "stream",
     "text": [
      "Algorithmus Randomforest : validation score of 0.8134\n",
      "Algorithmus AdaBoostClassifier : validation score of 0.8046\n",
      "Algorithmus Gradientboosting : validation score of 0.8238\n"
     ]
    },
    {
     "name": "stderr",
     "output_type": "stream",
     "text": [
      "/home/ethuer/anaconda3/envs/tf2/lib/python3.7/site-packages/sklearn/svm/_base.py:947: ConvergenceWarning: Liblinear failed to converge, increase the number of iterations.\n",
      "  \"the number of iterations.\", ConvergenceWarning)\n"
     ]
    },
    {
     "name": "stdout",
     "output_type": "stream",
     "text": [
      "Algorithmus LinearSVC : validation score of 0.7338\n",
      "Algorithmus SVC : validation score of 0.7816\n",
      "Algorithmus GaussianNB : validation score of 0.8044\n",
      "Algorithmus MLPClassifier : validation score of 0.814\n"
     ]
    }
   ],
   "source": [
    "for name, classifier in classifiers:\n",
    "    classifier.fit(X=x_train, y=y_train)\n",
    "    print(f\"Algorithmus {name} : validation score of {classifier.score(x_test, y_test )}\" )"
   ]
  },
  {
   "cell_type": "code",
   "execution_count": null,
   "metadata": {},
   "outputs": [],
   "source": []
  },
  {
   "cell_type": "code",
   "execution_count": 116,
   "metadata": {},
   "outputs": [],
   "source": [
    "# add scaler\n",
    "stdscaler = StandardScaler()"
   ]
  },
  {
   "cell_type": "code",
   "execution_count": 117,
   "metadata": {},
   "outputs": [
    {
     "data": {
      "text/plain": [
       "StandardScaler(copy=True, with_mean=True, with_std=True)"
      ]
     },
     "execution_count": 117,
     "metadata": {},
     "output_type": "execute_result"
    }
   ],
   "source": [
    "# fit on train data\n",
    "stdscaler.fit(x_train)"
   ]
  },
  {
   "cell_type": "code",
   "execution_count": 118,
   "metadata": {},
   "outputs": [],
   "source": [
    "X_train_scaled = stdscaler.transform(x_train)\n",
    "x_test_scaled = stdscaler.transform(x_test)"
   ]
  },
  {
   "cell_type": "code",
   "execution_count": 119,
   "metadata": {},
   "outputs": [
    {
     "name": "stdout",
     "output_type": "stream",
     "text": [
      "Algorithmus Randomforest : validation score of 0.8114\n",
      "Algorithmus AdaBoostClassifier : validation score of 0.8046\n",
      "Algorithmus Gradientboosting : validation score of 0.824\n",
      "Algorithmus LinearSVC : validation score of 0.8194\n",
      "Algorithmus SVC : validation score of 0.798\n",
      "Algorithmus GaussianNB : validation score of 0.8044\n",
      "Algorithmus MLPClassifier : validation score of 0.8266\n"
     ]
    },
    {
     "name": "stderr",
     "output_type": "stream",
     "text": [
      "/home/ethuer/anaconda3/envs/tf2/lib/python3.7/site-packages/sklearn/neural_network/_multilayer_perceptron.py:571: ConvergenceWarning: Stochastic Optimizer: Maximum iterations (200) reached and the optimization hasn't converged yet.\n",
      "  % self.max_iter, ConvergenceWarning)\n"
     ]
    }
   ],
   "source": [
    "for (name, classifier) in classifiers:\n",
    "    classifier.fit(X=X_train_scaled, y=y_train)\n",
    "    print(f\"\"\" Algorithmus {name} \n",
    "                : validation score of {classifier.score(x_test_scaled, y_test )} \n",
    "                : crossvalidation score {cross_val_score(classifier, X=X_train_scaled, y=y_train).mean()}\" )"
   ]
  },
  {
   "cell_type": "code",
   "execution_count": 141,
   "metadata": {
    "scrolled": true
   },
   "outputs": [
    {
     "name": "stderr",
     "output_type": "stream",
     "text": [
      "/home/ethuer/anaconda3/envs/tf2/lib/python3.7/site-packages/sklearn/neural_network/_multilayer_perceptron.py:571: ConvergenceWarning: Stochastic Optimizer: Maximum iterations (200) reached and the optimization hasn't converged yet.\n",
      "  % self.max_iter, ConvergenceWarning)\n"
     ]
    },
    {
     "data": {
      "text/plain": [
       "VotingClassifier(estimators=[('AdaBoostClassifier',\n",
       "                              AdaBoostClassifier(algorithm='SAMME.R',\n",
       "                                                 base_estimator=None,\n",
       "                                                 learning_rate=1.0,\n",
       "                                                 n_estimators=50,\n",
       "                                                 random_state=None)),\n",
       "                             ('Gradientboosting',\n",
       "                              GradientBoostingClassifier(ccp_alpha=0.0,\n",
       "                                                         criterion='friedman_mse',\n",
       "                                                         init=None,\n",
       "                                                         learning_rate=0.1,\n",
       "                                                         loss='deviance',\n",
       "                                                         max_depth=3,\n",
       "                                                         max_features=None,\n",
       "                                                         max_leaf_nodes=None,\n",
       "                                                         min_im...\n",
       "                                            epsilon=1e-08,\n",
       "                                            hidden_layer_sizes=(100,),\n",
       "                                            learning_rate='constant',\n",
       "                                            learning_rate_init=0.001,\n",
       "                                            max_fun=15000, max_iter=200,\n",
       "                                            momentum=0.9, n_iter_no_change=10,\n",
       "                                            nesterovs_momentum=True,\n",
       "                                            power_t=0.5, random_state=None,\n",
       "                                            shuffle=True, solver='adam',\n",
       "                                            tol=0.0001, validation_fraction=0.1,\n",
       "                                            verbose=False, warm_start=False))],\n",
       "                 flatten_transform=True, n_jobs=None, voting='hard',\n",
       "                 weights=None)"
      ]
     },
     "execution_count": 141,
     "metadata": {},
     "output_type": "execute_result"
    }
   ],
   "source": [
    "voting = VotingClassifier(estimators= classifiers, voting='hard')\n",
    "voting.fit(X=X_train_scaled, y=y_train)"
   ]
  },
  {
   "cell_type": "code",
   "execution_count": 142,
   "metadata": {
    "scrolled": true
   },
   "outputs": [
    {
     "data": {
      "text/plain": [
       "0.8226"
      ]
     },
     "execution_count": 142,
     "metadata": {},
     "output_type": "execute_result"
    }
   ],
   "source": [
    "voting.score(x_test_scaled, y_test )"
   ]
  },
  {
   "cell_type": "code",
   "execution_count": 149,
   "metadata": {},
   "outputs": [],
   "source": [
    "rfc = RandomForestClassifier()\n",
    "ada = AdaBoostClassifier()\n",
    "gbc  = GradientBoostingClassifier()\n",
    "#lsvc = LinearSVC(max_iter=2000)\n",
    "svc  = NuSVC(0.2,probability=True)\n",
    "gnbc = GaussianNB()\n",
    "mlpc = MLPClassifier(max_iter=1000)\n",
    "\n",
    "classifiers = [(\"Randomforest\",rfc),\n",
    "               (\"AdaBoostClassifier\",ada),\n",
    "               (\"Gradientboosting\",gbc),\n",
    "               #(\"LinearSVC\",lsvc), # no predict probability method\n",
    "               (\"SVC\" ,svc),\n",
    "               (\"GaussianNB\", gnbc),\n",
    "               (\"MLPClassifier\", mlpc) ]"
   ]
  },
  {
   "cell_type": "code",
   "execution_count": 150,
   "metadata": {
    "scrolled": true
   },
   "outputs": [
    {
     "data": {
      "text/plain": [
       "VotingClassifier(estimators=[('Randomforest',\n",
       "                              RandomForestClassifier(bootstrap=True,\n",
       "                                                     ccp_alpha=0.0,\n",
       "                                                     class_weight=None,\n",
       "                                                     criterion='gini',\n",
       "                                                     max_depth=None,\n",
       "                                                     max_features='auto',\n",
       "                                                     max_leaf_nodes=None,\n",
       "                                                     max_samples=None,\n",
       "                                                     min_impurity_decrease=0.0,\n",
       "                                                     min_impurity_split=None,\n",
       "                                                     min_samples_leaf=1,\n",
       "                                                     min_samples_split=2,\n",
       "                                                     min_weight_fraction_leaf=0.0,\n",
       "                                                     n_estimators=100,\n",
       "                                                     n_jobs=None...\n",
       "                                            epsilon=1e-08,\n",
       "                                            hidden_layer_sizes=(100,),\n",
       "                                            learning_rate='constant',\n",
       "                                            learning_rate_init=0.001,\n",
       "                                            max_fun=15000, max_iter=1000,\n",
       "                                            momentum=0.9, n_iter_no_change=10,\n",
       "                                            nesterovs_momentum=True,\n",
       "                                            power_t=0.5, random_state=None,\n",
       "                                            shuffle=True, solver='adam',\n",
       "                                            tol=0.0001, validation_fraction=0.1,\n",
       "                                            verbose=False, warm_start=False))],\n",
       "                 flatten_transform=True, n_jobs=None, voting='soft',\n",
       "                 weights=None)"
      ]
     },
     "execution_count": 150,
     "metadata": {},
     "output_type": "execute_result"
    }
   ],
   "source": [
    "voting = VotingClassifier(estimators= classifiers, voting='soft')\n",
    "voting.fit(X=X_train_scaled, y=y_train)"
   ]
  },
  {
   "cell_type": "code",
   "execution_count": 151,
   "metadata": {},
   "outputs": [
    {
     "data": {
      "text/plain": [
       "0.827"
      ]
     },
     "execution_count": 151,
     "metadata": {},
     "output_type": "execute_result"
    }
   ],
   "source": [
    "voting.score(x_test_scaled, y_test )"
   ]
  },
  {
   "cell_type": "code",
   "execution_count": 179,
   "metadata": {},
   "outputs": [],
   "source": [
    "rfc = RandomForestClassifier()"
   ]
  },
  {
   "cell_type": "code",
   "execution_count": 188,
   "metadata": {},
   "outputs": [
    {
     "data": {
      "text/plain": [
       "dict_keys(['bootstrap', 'ccp_alpha', 'class_weight', 'criterion', 'max_depth', 'max_features', 'max_leaf_nodes', 'max_samples', 'min_impurity_decrease', 'min_impurity_split', 'min_samples_leaf', 'min_samples_split', 'min_weight_fraction_leaf', 'n_estimators', 'n_jobs', 'oob_score', 'random_state', 'verbose', 'warm_start'])"
      ]
     },
     "execution_count": 188,
     "metadata": {},
     "output_type": "execute_result"
    }
   ],
   "source": [
    "rfc.get_params().keys()"
   ]
  },
  {
   "cell_type": "code",
   "execution_count": 196,
   "metadata": {},
   "outputs": [],
   "source": [
    "param_grid = { 'max_depth': [ 6, 8, 10 ], 'n_estimators' :[10,50,100], 'class_weight' : [None,'balanced','balanced_subsample'] }\n",
    "search = GridSearchCV(rfc, param_grid, cv=5)"
   ]
  },
  {
   "cell_type": "code",
   "execution_count": 197,
   "metadata": {},
   "outputs": [],
   "source": [
    "search = GridSearchCV(rfc, param_grid, cv=5)"
   ]
  },
  {
   "cell_type": "code",
   "execution_count": 198,
   "metadata": {
    "scrolled": true
   },
   "outputs": [
    {
     "data": {
      "text/plain": [
       "GridSearchCV(cv=5, error_score=nan,\n",
       "             estimator=RandomForestClassifier(bootstrap=True, ccp_alpha=0.0,\n",
       "                                              class_weight=None,\n",
       "                                              criterion='gini', max_depth=None,\n",
       "                                              max_features='auto',\n",
       "                                              max_leaf_nodes=None,\n",
       "                                              max_samples=None,\n",
       "                                              min_impurity_decrease=0.0,\n",
       "                                              min_impurity_split=None,\n",
       "                                              min_samples_leaf=1,\n",
       "                                              min_samples_split=2,\n",
       "                                              min_weight_fraction_leaf=0.0,\n",
       "                                              n_estimators=100, n_jobs=None,\n",
       "                                              oob_score=False,\n",
       "                                              random_state=None, verbose=0,\n",
       "                                              warm_start=False),\n",
       "             iid='deprecated', n_jobs=None,\n",
       "             param_grid={'class_weight': [None, 'balanced',\n",
       "                                          'balanced_subsample'],\n",
       "                         'max_depth': [6, 8, 10],\n",
       "                         'n_estimators': [10, 50, 100]},\n",
       "             pre_dispatch='2*n_jobs', refit=True, return_train_score=False,\n",
       "             scoring=None, verbose=0)"
      ]
     },
     "execution_count": 198,
     "metadata": {},
     "output_type": "execute_result"
    }
   ],
   "source": [
    "search.fit(X_train_scaled, y_train)"
   ]
  },
  {
   "cell_type": "code",
   "execution_count": 195,
   "metadata": {},
   "outputs": [
    {
     "data": {
      "text/plain": [
       "RandomForestClassifier(bootstrap=True, ccp_alpha=0.0, class_weight=None,\n",
       "                       criterion='gini', max_depth=8, max_features='auto',\n",
       "                       max_leaf_nodes=None, max_samples=None,\n",
       "                       min_impurity_decrease=0.0, min_impurity_split=None,\n",
       "                       min_samples_leaf=1, min_samples_split=2,\n",
       "                       min_weight_fraction_leaf=0.0, n_estimators=50,\n",
       "                       n_jobs=None, oob_score=False, random_state=None,\n",
       "                       verbose=0, warm_start=False)"
      ]
     },
     "execution_count": 195,
     "metadata": {},
     "output_type": "execute_result"
    }
   ],
   "source": [
    "search.best_estimator_"
   ]
  },
  {
   "cell_type": "code",
   "execution_count": 202,
   "metadata": {},
   "outputs": [
    {
     "data": {
      "text/plain": [
       "0.8304"
      ]
     },
     "execution_count": 202,
     "metadata": {},
     "output_type": "execute_result"
    }
   ],
   "source": [
    "search.best_score_"
   ]
  },
  {
   "cell_type": "code",
   "execution_count": null,
   "metadata": {},
   "outputs": [],
   "source": [
    "search.fit(X, y)"
   ]
  },
  {
   "cell_type": "code",
   "execution_count": 211,
   "metadata": {},
   "outputs": [],
   "source": [
    "# random search\n",
    "rfc = RandomForestClassifier()"
   ]
  },
  {
   "cell_type": "code",
   "execution_count": 264,
   "metadata": {},
   "outputs": [],
   "source": [
    "distributions =  { 'max_depth': stats.uniform(loc=8, scale=8), \n",
    "                  'n_estimators' :[40,50,70], \n",
    "                  'class_weight' : [None,'balanced'],\n",
    "                 \"max_features\" : [ None, 'sqrt', 'log2' ,5,10,20]}\n",
    "\n",
    "ada_dist = {'n_estimators':[40,50,70] , \"learning_rate\": np.linspace(0.1, 1, num=10) }\n",
    "\n",
    "grad_dist = {'loss':['deviance'],\n",
    "             'learning_rate': np.linspace(0.1, 1, num=10), \n",
    "             'n_estimators':[70,100,120], \n",
    "             'subsample':[0.5,1], \n",
    "             'max_depth': stats.uniform(loc=8, scale=8),\n",
    "             'max_features' : [ None, 'sqrt', 'log2' ,5,10,20]}\n",
    "\n",
    "scv_dist = {\n",
    "    'nu':np.linspace(0.2, 0.4, num=10),\n",
    "    'gamma': ['scale', 'auto' ],\n",
    "    'decision_function_shape': ['ovo','ovr'],\n",
    "    'kernel':['rbf','poly','sigmoid'],\n",
    "    \n",
    "}\n",
    "\n",
    "gnb_dist = {\n",
    "    \"var_smoothing\":loguniform(1e-10, 1e-8)\n",
    "}\n",
    "\n",
    "mlp_dist = {\n",
    "    \"hidden_layer_sizes\":[80,100,200],\n",
    "    \"activation\":['identity', 'logistic', 'tanh', 'relu'],\n",
    "    \"solver\": ['lbfgs', 'sgd', 'adam'],\n",
    "    \"alpha\":loguniform(1e-5, 1e-2),\n",
    "    \"learning_rate\":['constant', 'invscaling', 'adaptive'],\n",
    "    \"learning_rate_init\":loguniform(1e-4, 1e-1),\n",
    "    'beta_1':np.linspace(0.9, 0.999, num=10),\n",
    "}"
   ]
  },
  {
   "cell_type": "code",
   "execution_count": 265,
   "metadata": {},
   "outputs": [],
   "source": [
    "rfc = RandomForestClassifier()\n",
    "ada = AdaBoostClassifier()\n",
    "gbc  = GradientBoostingClassifier()\n",
    "#lsvc = LinearSVC(max_iter=2000)\n",
    "svc  = NuSVC(0.2,probability=True)\n",
    "gnbc = GaussianNB()\n",
    "mlpc = MLPClassifier(max_iter=1000)\n",
    "\n",
    "classifiers = [(\"Randomforest\",rfc,distributions),\n",
    "               (\"AdaBoostClassifier\",ada,ada_dist),\n",
    "               (\"Gradientboosting\",gbc,grad_dist),\n",
    "               #(\"LinearSVC\",lsvc), # no predict probability method\n",
    "               (\"SVC\" ,svc,scv_dist),\n",
    "               (\"GaussianNB\", gnbc,gnb_dist),\n",
    "               (\"MLPClassifier\", mlpc,mlp_dist) ]"
   ]
  },
  {
   "cell_type": "code",
   "execution_count": 266,
   "metadata": {
    "scrolled": true
   },
   "outputs": [
    {
     "name": "stdout",
     "output_type": "stream",
     "text": [
      "Processing : Randomforest\n",
      "0.8324\n",
      "Processing : AdaBoostClassifier\n",
      "0.8229000000000001\n",
      "Processing : Gradientboosting\n"
     ]
    },
    {
     "name": "stderr",
     "output_type": "stream",
     "text": [
      "/home/ethuer/anaconda3/envs/tf2/lib/python3.7/site-packages/sklearn/model_selection/_validation.py:536: FitFailedWarning: Estimator fit failed. The score on this train-test partition for these parameters will be set to nan. Details: \n",
      "ValueError: max_features must be in (0, n_features]\n",
      "\n",
      "  FitFailedWarning)\n",
      "/home/ethuer/anaconda3/envs/tf2/lib/python3.7/site-packages/sklearn/model_selection/_validation.py:536: FitFailedWarning: Estimator fit failed. The score on this train-test partition for these parameters will be set to nan. Details: \n",
      "ValueError: max_features must be in (0, n_features]\n",
      "\n",
      "  FitFailedWarning)\n",
      "/home/ethuer/anaconda3/envs/tf2/lib/python3.7/site-packages/sklearn/model_selection/_validation.py:536: FitFailedWarning: Estimator fit failed. The score on this train-test partition for these parameters will be set to nan. Details: \n",
      "ValueError: max_features must be in (0, n_features]\n",
      "\n",
      "  FitFailedWarning)\n",
      "/home/ethuer/anaconda3/envs/tf2/lib/python3.7/site-packages/sklearn/model_selection/_validation.py:536: FitFailedWarning: Estimator fit failed. The score on this train-test partition for these parameters will be set to nan. Details: \n",
      "ValueError: max_features must be in (0, n_features]\n",
      "\n",
      "  FitFailedWarning)\n",
      "/home/ethuer/anaconda3/envs/tf2/lib/python3.7/site-packages/sklearn/model_selection/_validation.py:536: FitFailedWarning: Estimator fit failed. The score on this train-test partition for these parameters will be set to nan. Details: \n",
      "ValueError: max_features must be in (0, n_features]\n",
      "\n",
      "  FitFailedWarning)\n"
     ]
    },
    {
     "name": "stdout",
     "output_type": "stream",
     "text": [
      "0.8208\n",
      "Processing : SVC\n"
     ]
    },
    {
     "name": "stderr",
     "output_type": "stream",
     "text": [
      "/home/ethuer/anaconda3/envs/tf2/lib/python3.7/site-packages/sklearn/model_selection/_validation.py:536: FitFailedWarning: Estimator fit failed. The score on this train-test partition for these parameters will be set to nan. Details: \n",
      "ValueError: specified nu is infeasible\n",
      "\n",
      "  FitFailedWarning)\n",
      "/home/ethuer/anaconda3/envs/tf2/lib/python3.7/site-packages/sklearn/model_selection/_validation.py:536: FitFailedWarning: Estimator fit failed. The score on this train-test partition for these parameters will be set to nan. Details: \n",
      "ValueError: specified nu is infeasible\n",
      "\n",
      "  FitFailedWarning)\n",
      "/home/ethuer/anaconda3/envs/tf2/lib/python3.7/site-packages/sklearn/model_selection/_validation.py:536: FitFailedWarning: Estimator fit failed. The score on this train-test partition for these parameters will be set to nan. Details: \n",
      "ValueError: specified nu is infeasible\n",
      "\n",
      "  FitFailedWarning)\n",
      "/home/ethuer/anaconda3/envs/tf2/lib/python3.7/site-packages/sklearn/model_selection/_validation.py:536: FitFailedWarning: Estimator fit failed. The score on this train-test partition for these parameters will be set to nan. Details: \n",
      "ValueError: specified nu is infeasible\n",
      "\n",
      "  FitFailedWarning)\n",
      "/home/ethuer/anaconda3/envs/tf2/lib/python3.7/site-packages/sklearn/model_selection/_validation.py:536: FitFailedWarning: Estimator fit failed. The score on this train-test partition for these parameters will be set to nan. Details: \n",
      "ValueError: specified nu is infeasible\n",
      "\n",
      "  FitFailedWarning)\n",
      "/home/ethuer/anaconda3/envs/tf2/lib/python3.7/site-packages/sklearn/model_selection/_validation.py:536: FitFailedWarning: Estimator fit failed. The score on this train-test partition for these parameters will be set to nan. Details: \n",
      "ValueError: specified nu is infeasible\n",
      "\n",
      "  FitFailedWarning)\n",
      "/home/ethuer/anaconda3/envs/tf2/lib/python3.7/site-packages/sklearn/model_selection/_validation.py:536: FitFailedWarning: Estimator fit failed. The score on this train-test partition for these parameters will be set to nan. Details: \n",
      "ValueError: specified nu is infeasible\n",
      "\n",
      "  FitFailedWarning)\n",
      "/home/ethuer/anaconda3/envs/tf2/lib/python3.7/site-packages/sklearn/model_selection/_validation.py:536: FitFailedWarning: Estimator fit failed. The score on this train-test partition for these parameters will be set to nan. Details: \n",
      "ValueError: specified nu is infeasible\n",
      "\n",
      "  FitFailedWarning)\n",
      "/home/ethuer/anaconda3/envs/tf2/lib/python3.7/site-packages/sklearn/model_selection/_validation.py:536: FitFailedWarning: Estimator fit failed. The score on this train-test partition for these parameters will be set to nan. Details: \n",
      "ValueError: specified nu is infeasible\n",
      "\n",
      "  FitFailedWarning)\n",
      "/home/ethuer/anaconda3/envs/tf2/lib/python3.7/site-packages/sklearn/model_selection/_validation.py:536: FitFailedWarning: Estimator fit failed. The score on this train-test partition for these parameters will be set to nan. Details: \n",
      "ValueError: specified nu is infeasible\n",
      "\n",
      "  FitFailedWarning)\n",
      "/home/ethuer/anaconda3/envs/tf2/lib/python3.7/site-packages/sklearn/model_selection/_validation.py:536: FitFailedWarning: Estimator fit failed. The score on this train-test partition for these parameters will be set to nan. Details: \n",
      "ValueError: specified nu is infeasible\n",
      "\n",
      "  FitFailedWarning)\n",
      "/home/ethuer/anaconda3/envs/tf2/lib/python3.7/site-packages/sklearn/model_selection/_validation.py:536: FitFailedWarning: Estimator fit failed. The score on this train-test partition for these parameters will be set to nan. Details: \n",
      "ValueError: specified nu is infeasible\n",
      "\n",
      "  FitFailedWarning)\n",
      "/home/ethuer/anaconda3/envs/tf2/lib/python3.7/site-packages/sklearn/model_selection/_validation.py:536: FitFailedWarning: Estimator fit failed. The score on this train-test partition for these parameters will be set to nan. Details: \n",
      "ValueError: specified nu is infeasible\n",
      "\n",
      "  FitFailedWarning)\n",
      "/home/ethuer/anaconda3/envs/tf2/lib/python3.7/site-packages/sklearn/model_selection/_validation.py:536: FitFailedWarning: Estimator fit failed. The score on this train-test partition for these parameters will be set to nan. Details: \n",
      "ValueError: specified nu is infeasible\n",
      "\n",
      "  FitFailedWarning)\n",
      "/home/ethuer/anaconda3/envs/tf2/lib/python3.7/site-packages/sklearn/model_selection/_validation.py:536: FitFailedWarning: Estimator fit failed. The score on this train-test partition for these parameters will be set to nan. Details: \n",
      "ValueError: specified nu is infeasible\n",
      "\n",
      "  FitFailedWarning)\n",
      "/home/ethuer/anaconda3/envs/tf2/lib/python3.7/site-packages/sklearn/model_selection/_validation.py:536: FitFailedWarning: Estimator fit failed. The score on this train-test partition for these parameters will be set to nan. Details: \n",
      "ValueError: specified nu is infeasible\n",
      "\n",
      "  FitFailedWarning)\n",
      "/home/ethuer/anaconda3/envs/tf2/lib/python3.7/site-packages/sklearn/model_selection/_validation.py:536: FitFailedWarning: Estimator fit failed. The score on this train-test partition for these parameters will be set to nan. Details: \n",
      "ValueError: specified nu is infeasible\n",
      "\n",
      "  FitFailedWarning)\n",
      "/home/ethuer/anaconda3/envs/tf2/lib/python3.7/site-packages/sklearn/model_selection/_validation.py:536: FitFailedWarning: Estimator fit failed. The score on this train-test partition for these parameters will be set to nan. Details: \n",
      "ValueError: specified nu is infeasible\n",
      "\n",
      "  FitFailedWarning)\n",
      "/home/ethuer/anaconda3/envs/tf2/lib/python3.7/site-packages/sklearn/model_selection/_validation.py:536: FitFailedWarning: Estimator fit failed. The score on this train-test partition for these parameters will be set to nan. Details: \n",
      "ValueError: specified nu is infeasible\n",
      "\n",
      "  FitFailedWarning)\n",
      "/home/ethuer/anaconda3/envs/tf2/lib/python3.7/site-packages/sklearn/model_selection/_validation.py:536: FitFailedWarning: Estimator fit failed. The score on this train-test partition for these parameters will be set to nan. Details: \n",
      "ValueError: specified nu is infeasible\n",
      "\n",
      "  FitFailedWarning)\n",
      "/home/ethuer/anaconda3/envs/tf2/lib/python3.7/site-packages/sklearn/model_selection/_validation.py:536: FitFailedWarning: Estimator fit failed. The score on this train-test partition for these parameters will be set to nan. Details: \n",
      "ValueError: specified nu is infeasible\n",
      "\n",
      "  FitFailedWarning)\n",
      "/home/ethuer/anaconda3/envs/tf2/lib/python3.7/site-packages/sklearn/model_selection/_validation.py:536: FitFailedWarning: Estimator fit failed. The score on this train-test partition for these parameters will be set to nan. Details: \n",
      "ValueError: specified nu is infeasible\n",
      "\n",
      "  FitFailedWarning)\n",
      "/home/ethuer/anaconda3/envs/tf2/lib/python3.7/site-packages/sklearn/model_selection/_validation.py:536: FitFailedWarning: Estimator fit failed. The score on this train-test partition for these parameters will be set to nan. Details: \n",
      "ValueError: specified nu is infeasible\n",
      "\n",
      "  FitFailedWarning)\n",
      "/home/ethuer/anaconda3/envs/tf2/lib/python3.7/site-packages/sklearn/model_selection/_validation.py:536: FitFailedWarning: Estimator fit failed. The score on this train-test partition for these parameters will be set to nan. Details: \n",
      "ValueError: specified nu is infeasible\n",
      "\n",
      "  FitFailedWarning)\n",
      "/home/ethuer/anaconda3/envs/tf2/lib/python3.7/site-packages/sklearn/model_selection/_validation.py:536: FitFailedWarning: Estimator fit failed. The score on this train-test partition for these parameters will be set to nan. Details: \n",
      "ValueError: specified nu is infeasible\n",
      "\n",
      "  FitFailedWarning)\n"
     ]
    },
    {
     "name": "stdout",
     "output_type": "stream",
     "text": [
      "0.7887000000000001\n",
      "Processing : GaussianNB\n",
      "0.8144\n",
      "Processing : MLPClassifier\n"
     ]
    },
    {
     "name": "stderr",
     "output_type": "stream",
     "text": [
      "/home/ethuer/anaconda3/envs/tf2/lib/python3.7/site-packages/sklearn/neural_network/_multilayer_perceptron.py:470: ConvergenceWarning: lbfgs failed to converge (status=1):\n",
      "STOP: TOTAL NO. of ITERATIONS REACHED LIMIT.\n",
      "\n",
      "Increase the number of iterations (max_iter) or scale the data as shown in:\n",
      "    https://scikit-learn.org/stable/modules/preprocessing.html\n",
      "  self.n_iter_ = _check_optimize_result(\"lbfgs\", opt_res, self.max_iter)\n",
      "/home/ethuer/anaconda3/envs/tf2/lib/python3.7/site-packages/sklearn/neural_network/_multilayer_perceptron.py:470: ConvergenceWarning: lbfgs failed to converge (status=1):\n",
      "STOP: TOTAL NO. of ITERATIONS REACHED LIMIT.\n",
      "\n",
      "Increase the number of iterations (max_iter) or scale the data as shown in:\n",
      "    https://scikit-learn.org/stable/modules/preprocessing.html\n",
      "  self.n_iter_ = _check_optimize_result(\"lbfgs\", opt_res, self.max_iter)\n",
      "/home/ethuer/anaconda3/envs/tf2/lib/python3.7/site-packages/sklearn/neural_network/_multilayer_perceptron.py:470: ConvergenceWarning: lbfgs failed to converge (status=1):\n",
      "STOP: TOTAL NO. of ITERATIONS REACHED LIMIT.\n",
      "\n",
      "Increase the number of iterations (max_iter) or scale the data as shown in:\n",
      "    https://scikit-learn.org/stable/modules/preprocessing.html\n",
      "  self.n_iter_ = _check_optimize_result(\"lbfgs\", opt_res, self.max_iter)\n",
      "/home/ethuer/anaconda3/envs/tf2/lib/python3.7/site-packages/sklearn/neural_network/_multilayer_perceptron.py:470: ConvergenceWarning: lbfgs failed to converge (status=1):\n",
      "STOP: TOTAL NO. of ITERATIONS REACHED LIMIT.\n",
      "\n",
      "Increase the number of iterations (max_iter) or scale the data as shown in:\n",
      "    https://scikit-learn.org/stable/modules/preprocessing.html\n",
      "  self.n_iter_ = _check_optimize_result(\"lbfgs\", opt_res, self.max_iter)\n",
      "/home/ethuer/anaconda3/envs/tf2/lib/python3.7/site-packages/sklearn/neural_network/_multilayer_perceptron.py:470: ConvergenceWarning: lbfgs failed to converge (status=1):\n",
      "STOP: TOTAL NO. of ITERATIONS REACHED LIMIT.\n",
      "\n",
      "Increase the number of iterations (max_iter) or scale the data as shown in:\n",
      "    https://scikit-learn.org/stable/modules/preprocessing.html\n",
      "  self.n_iter_ = _check_optimize_result(\"lbfgs\", opt_res, self.max_iter)\n",
      "/home/ethuer/anaconda3/envs/tf2/lib/python3.7/site-packages/sklearn/neural_network/_multilayer_perceptron.py:470: ConvergenceWarning: lbfgs failed to converge (status=1):\n",
      "STOP: TOTAL NO. of ITERATIONS REACHED LIMIT.\n",
      "\n",
      "Increase the number of iterations (max_iter) or scale the data as shown in:\n",
      "    https://scikit-learn.org/stable/modules/preprocessing.html\n",
      "  self.n_iter_ = _check_optimize_result(\"lbfgs\", opt_res, self.max_iter)\n",
      "/home/ethuer/anaconda3/envs/tf2/lib/python3.7/site-packages/sklearn/neural_network/_multilayer_perceptron.py:470: ConvergenceWarning: lbfgs failed to converge (status=1):\n",
      "STOP: TOTAL NO. of ITERATIONS REACHED LIMIT.\n",
      "\n",
      "Increase the number of iterations (max_iter) or scale the data as shown in:\n",
      "    https://scikit-learn.org/stable/modules/preprocessing.html\n",
      "  self.n_iter_ = _check_optimize_result(\"lbfgs\", opt_res, self.max_iter)\n",
      "/home/ethuer/anaconda3/envs/tf2/lib/python3.7/site-packages/sklearn/neural_network/_multilayer_perceptron.py:470: ConvergenceWarning: lbfgs failed to converge (status=1):\n",
      "STOP: TOTAL NO. of ITERATIONS REACHED LIMIT.\n",
      "\n",
      "Increase the number of iterations (max_iter) or scale the data as shown in:\n",
      "    https://scikit-learn.org/stable/modules/preprocessing.html\n",
      "  self.n_iter_ = _check_optimize_result(\"lbfgs\", opt_res, self.max_iter)\n",
      "/home/ethuer/anaconda3/envs/tf2/lib/python3.7/site-packages/sklearn/neural_network/_multilayer_perceptron.py:470: ConvergenceWarning: lbfgs failed to converge (status=1):\n",
      "STOP: TOTAL NO. of ITERATIONS REACHED LIMIT.\n",
      "\n",
      "Increase the number of iterations (max_iter) or scale the data as shown in:\n",
      "    https://scikit-learn.org/stable/modules/preprocessing.html\n",
      "  self.n_iter_ = _check_optimize_result(\"lbfgs\", opt_res, self.max_iter)\n",
      "/home/ethuer/anaconda3/envs/tf2/lib/python3.7/site-packages/sklearn/neural_network/_multilayer_perceptron.py:470: ConvergenceWarning: lbfgs failed to converge (status=1):\n",
      "STOP: TOTAL NO. of ITERATIONS REACHED LIMIT.\n",
      "\n",
      "Increase the number of iterations (max_iter) or scale the data as shown in:\n",
      "    https://scikit-learn.org/stable/modules/preprocessing.html\n",
      "  self.n_iter_ = _check_optimize_result(\"lbfgs\", opt_res, self.max_iter)\n",
      "/home/ethuer/anaconda3/envs/tf2/lib/python3.7/site-packages/sklearn/neural_network/_multilayer_perceptron.py:470: ConvergenceWarning: lbfgs failed to converge (status=1):\n",
      "STOP: TOTAL NO. of ITERATIONS REACHED LIMIT.\n",
      "\n",
      "Increase the number of iterations (max_iter) or scale the data as shown in:\n",
      "    https://scikit-learn.org/stable/modules/preprocessing.html\n",
      "  self.n_iter_ = _check_optimize_result(\"lbfgs\", opt_res, self.max_iter)\n",
      "/home/ethuer/anaconda3/envs/tf2/lib/python3.7/site-packages/sklearn/neural_network/_multilayer_perceptron.py:470: ConvergenceWarning: lbfgs failed to converge (status=1):\n",
      "STOP: TOTAL NO. of ITERATIONS REACHED LIMIT.\n",
      "\n",
      "Increase the number of iterations (max_iter) or scale the data as shown in:\n",
      "    https://scikit-learn.org/stable/modules/preprocessing.html\n",
      "  self.n_iter_ = _check_optimize_result(\"lbfgs\", opt_res, self.max_iter)\n",
      "/home/ethuer/anaconda3/envs/tf2/lib/python3.7/site-packages/sklearn/neural_network/_multilayer_perceptron.py:470: ConvergenceWarning: lbfgs failed to converge (status=1):\n",
      "STOP: TOTAL NO. of ITERATIONS REACHED LIMIT.\n",
      "\n",
      "Increase the number of iterations (max_iter) or scale the data as shown in:\n",
      "    https://scikit-learn.org/stable/modules/preprocessing.html\n",
      "  self.n_iter_ = _check_optimize_result(\"lbfgs\", opt_res, self.max_iter)\n",
      "/home/ethuer/anaconda3/envs/tf2/lib/python3.7/site-packages/sklearn/neural_network/_multilayer_perceptron.py:470: ConvergenceWarning: lbfgs failed to converge (status=1):\n",
      "STOP: TOTAL NO. of ITERATIONS REACHED LIMIT.\n",
      "\n",
      "Increase the number of iterations (max_iter) or scale the data as shown in:\n",
      "    https://scikit-learn.org/stable/modules/preprocessing.html\n",
      "  self.n_iter_ = _check_optimize_result(\"lbfgs\", opt_res, self.max_iter)\n",
      "/home/ethuer/anaconda3/envs/tf2/lib/python3.7/site-packages/sklearn/neural_network/_multilayer_perceptron.py:470: ConvergenceWarning: lbfgs failed to converge (status=1):\n",
      "STOP: TOTAL NO. of ITERATIONS REACHED LIMIT.\n",
      "\n",
      "Increase the number of iterations (max_iter) or scale the data as shown in:\n",
      "    https://scikit-learn.org/stable/modules/preprocessing.html\n",
      "  self.n_iter_ = _check_optimize_result(\"lbfgs\", opt_res, self.max_iter)\n",
      "/home/ethuer/anaconda3/envs/tf2/lib/python3.7/site-packages/sklearn/neural_network/_multilayer_perceptron.py:470: ConvergenceWarning: lbfgs failed to converge (status=1):\n",
      "STOP: TOTAL NO. of ITERATIONS REACHED LIMIT.\n",
      "\n",
      "Increase the number of iterations (max_iter) or scale the data as shown in:\n",
      "    https://scikit-learn.org/stable/modules/preprocessing.html\n",
      "  self.n_iter_ = _check_optimize_result(\"lbfgs\", opt_res, self.max_iter)\n",
      "/home/ethuer/anaconda3/envs/tf2/lib/python3.7/site-packages/sklearn/neural_network/_multilayer_perceptron.py:470: ConvergenceWarning: lbfgs failed to converge (status=1):\n",
      "STOP: TOTAL NO. of ITERATIONS REACHED LIMIT.\n",
      "\n",
      "Increase the number of iterations (max_iter) or scale the data as shown in:\n",
      "    https://scikit-learn.org/stable/modules/preprocessing.html\n",
      "  self.n_iter_ = _check_optimize_result(\"lbfgs\", opt_res, self.max_iter)\n",
      "/home/ethuer/anaconda3/envs/tf2/lib/python3.7/site-packages/sklearn/neural_network/_multilayer_perceptron.py:470: ConvergenceWarning: lbfgs failed to converge (status=1):\n",
      "STOP: TOTAL NO. of ITERATIONS REACHED LIMIT.\n",
      "\n",
      "Increase the number of iterations (max_iter) or scale the data as shown in:\n",
      "    https://scikit-learn.org/stable/modules/preprocessing.html\n",
      "  self.n_iter_ = _check_optimize_result(\"lbfgs\", opt_res, self.max_iter)\n",
      "/home/ethuer/anaconda3/envs/tf2/lib/python3.7/site-packages/sklearn/neural_network/_multilayer_perceptron.py:470: ConvergenceWarning: lbfgs failed to converge (status=1):\n",
      "STOP: TOTAL NO. of ITERATIONS REACHED LIMIT.\n",
      "\n",
      "Increase the number of iterations (max_iter) or scale the data as shown in:\n",
      "    https://scikit-learn.org/stable/modules/preprocessing.html\n",
      "  self.n_iter_ = _check_optimize_result(\"lbfgs\", opt_res, self.max_iter)\n",
      "/home/ethuer/anaconda3/envs/tf2/lib/python3.7/site-packages/sklearn/neural_network/_multilayer_perceptron.py:470: ConvergenceWarning: lbfgs failed to converge (status=1):\n",
      "STOP: TOTAL NO. of ITERATIONS REACHED LIMIT.\n",
      "\n",
      "Increase the number of iterations (max_iter) or scale the data as shown in:\n",
      "    https://scikit-learn.org/stable/modules/preprocessing.html\n",
      "  self.n_iter_ = _check_optimize_result(\"lbfgs\", opt_res, self.max_iter)\n"
     ]
    },
    {
     "name": "stdout",
     "output_type": "stream",
     "text": [
      "0.8348000000000001\n"
     ]
    }
   ],
   "source": [
    "param_dict = {}\n",
    "\n",
    "for (name, classifier, dists) in classifiers:\n",
    "    \n",
    "    print(f\"Processing : {name}\")\n",
    "    search_random = RandomizedSearchCV(classifier, dists, random_state=0)\n",
    "    search_random.fit(X=X_train_scaled, y=y_train)\n",
    "    \n",
    "    print(search_random.best_score_)\n",
    "    param_dict[name] = search_random.best_params_\n",
    "    #classifier.fit(X=X_train_scaled, y=y_train)\n",
    "    #print(f\"\"\" Algorithmus {name} \n",
    "    #            : validation score of {classifier.score(x_test_scaled, y_test )} \n",
    "    #            : crossvalidation score {cross_val_score(classifier, X=X_train_scaled, y=y_train).mean()}\" )"
   ]
  },
  {
   "cell_type": "code",
   "execution_count": 267,
   "metadata": {},
   "outputs": [
    {
     "data": {
      "text/plain": [
       "{'Randomforest': {'class_weight': None,\n",
       "  'max_depth': 8.161747179522607,\n",
       "  'max_features': 5,\n",
       "  'n_estimators': 50},\n",
       " 'AdaBoostClassifier': {'n_estimators': 50, 'learning_rate': 0.4},\n",
       " 'Gradientboosting': {'learning_rate': 0.1,\n",
       "  'loss': 'deviance',\n",
       "  'max_depth': 12.656158336600857,\n",
       "  'max_features': 'sqrt',\n",
       "  'n_estimators': 70,\n",
       "  'subsample': 1},\n",
       " 'SVC': {'nu': 0.2888888888888889,\n",
       "  'kernel': 'rbf',\n",
       "  'gamma': 'auto',\n",
       "  'decision_function_shape': 'ovr'},\n",
       " 'GaussianNB': {'var_smoothing': 1.2520653814999461e-09},\n",
       " 'MLPClassifier': {'activation': 'identity',\n",
       "  'alpha': 0.0006005288202683083,\n",
       "  'beta_1': 0.9,\n",
       "  'hidden_layer_sizes': 100,\n",
       "  'learning_rate': 'invscaling',\n",
       "  'learning_rate_init': 0.0014228041454890739,\n",
       "  'solver': 'adam'}}"
      ]
     },
     "execution_count": 267,
     "metadata": {},
     "output_type": "execute_result"
    }
   ],
   "source": [
    "# best parameters\n",
    "param_dict"
   ]
  },
  {
   "cell_type": "code",
   "execution_count": 278,
   "metadata": {},
   "outputs": [],
   "source": [
    "rfc = RandomForestClassifier(class_weight= None,\n",
    "  max_depth= 8.161747179522607,\n",
    "  max_features= 5,\n",
    "  n_estimators= 50)\n",
    "\n",
    "ada = AdaBoostClassifier(n_estimators= 50, learning_rate= 0.4)\n",
    "gbc  = GradientBoostingClassifier(learning_rate= 0.1,\n",
    "  loss= 'deviance',\n",
    "  max_depth= 12.656158336600857,\n",
    "  max_features= 'sqrt',\n",
    "  n_estimators= 70,\n",
    "  subsample= 1)\n",
    "#lsvc = LinearSVC(max_iter=2000)\n",
    "svc  = NuSVC(nu= 0.2888888888888889,\n",
    "  kernel= 'rbf',\n",
    "  gamma= 'auto',\n",
    "  decision_function_shape= 'ovr',\n",
    "  probability=True)\n",
    "gnbc = GaussianNB(var_smoothing= 1.2520653814999461e-09)\n",
    "mlpc = MLPClassifier(activation= 'identity',\n",
    "  alpha= 0.0006005288202683083,\n",
    "  beta_1= 0.9,\n",
    "  hidden_layer_sizes= 100,\n",
    "  learning_rate= 'invscaling',\n",
    "  learning_rate_init= 0.0014228041454890739,\n",
    "  solver= 'adam')\n",
    "\n",
    "classifiers = [(\"Randomforest\",rfc),\n",
    "               (\"AdaBoostClassifier\",ada),\n",
    "               #(\"Gradientboosting\",gbc),\n",
    "               #(\"LinearSVC\",lsvc), # no predict probability method\n",
    "               #(\"SVC\" ,svc),\n",
    "               (\"GaussianNB\", gnbc),\n",
    "               (\"MLPClassifier\", mlpc) ]"
   ]
  },
  {
   "cell_type": "code",
   "execution_count": 279,
   "metadata": {},
   "outputs": [],
   "source": [
    "voting = VotingClassifier(estimators= classifiers, voting='soft')\n",
    "#voting.fit(X=X_train_scaled, y=y_train)"
   ]
  },
  {
   "cell_type": "code",
   "execution_count": 280,
   "metadata": {},
   "outputs": [
    {
     "data": {
      "text/plain": [
       "0.8309"
      ]
     },
     "execution_count": 280,
     "metadata": {},
     "output_type": "execute_result"
    }
   ],
   "source": [
    "cross_val_score(voting, X=X_train_scaled, y=y_train).mean()"
   ]
  },
  {
   "cell_type": "code",
   "execution_count": null,
   "metadata": {},
   "outputs": [],
   "source": []
  }
 ],
 "metadata": {
  "kernelspec": {
   "display_name": "Python 3",
   "language": "python",
   "name": "python3"
  },
  "language_info": {
   "codemirror_mode": {
    "name": "ipython",
    "version": 3
   },
   "file_extension": ".py",
   "mimetype": "text/x-python",
   "name": "python",
   "nbconvert_exporter": "python",
   "pygments_lexer": "ipython3",
   "version": "3.7.6"
  }
 },
 "nbformat": 4,
 "nbformat_minor": 4
}
