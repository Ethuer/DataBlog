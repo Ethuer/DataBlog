{
 "cells": [
  {
   "cell_type": "code",
   "execution_count": 210,
   "metadata": {},
   "outputs": [],
   "source": [
    "# same imports as part 1\n",
    "import numpy as np\n",
    "import pandas as pd\n",
    "from tqdm import tqdm\n",
    "\n",
    "import matplotlib.pyplot as plt\n",
    "import seaborn as sns\n",
    "# sklearn pipelines\n",
    "from sklearn.pipeline import Pipeline\n",
    "from sklearn.pipeline import make_pipeline # helper function\n",
    "\n",
    "# A few classifiers\n",
    "from sklearn.ensemble import GradientBoostingClassifier\n",
    "from sklearn.ensemble import RandomForestClassifier,AdaBoostClassifier\n",
    "from sklearn.svm import NuSVC\n",
    "from sklearn.svm import LinearSVC\n",
    "from sklearn.naive_bayes import GaussianNB\n",
    "from sklearn.neural_network import MLPClassifier\n",
    "# available list of all classifiers https://scikit-learn.org/stable/auto_examples/classification/plot_classifier_comparison.html\n",
    "\n",
    "#prerprocessing \n",
    "from sklearn.preprocessing import StandardScaler\n",
    "from sklearn.preprocessing import Binarizer\n",
    "\n",
    "# evaluation metrics\n",
    "from sklearn.metrics import confusion_matrix\n",
    "from sklearn.model_selection import cross_val_score\n",
    "\n",
    "# combinatory techniques\n",
    "from sklearn.ensemble import VotingClassifier\n",
    "\n",
    "# hyperparameter\n",
    "from sklearn.utils.fixes import loguniform\n",
    "from scipy import stats\n",
    "\n",
    "\n",
    "# grid and randomized searches\n",
    "from sklearn.model_selection import GridSearchCV, RandomizedSearchCV\n",
    "\n",
    "from sklearn.calibration import CalibratedClassifierCV"
   ]
  },
  {
   "cell_type": "code",
   "execution_count": 62,
   "metadata": {},
   "outputs": [],
   "source": [
    "from utils.samplegenerator import UserDataGenerator"
   ]
  },
  {
   "cell_type": "markdown",
   "metadata": {},
   "source": [
    "# Generating and testing the data"
   ]
  },
  {
   "cell_type": "code",
   "execution_count": 69,
   "metadata": {},
   "outputs": [],
   "source": [
    "# unbalanced label distribution \n",
    "label_frequency=[0.1,0.2,0.1,0.5,0.1]\n",
    "colnames=['click_a','click_b','click_c','click_d','click_e','click_f','purchased_stock','response_time','more_chi_square','retrieved']\n",
    "column_types=['binom','binom','binom','binom','binom','binom','categorical','chisquare','chisquare','norm']\n",
    "n_labels=5\n",
    "\n",
    "preset_spread = 60\n",
    "\n",
    "#print(len(colnames) == len(column_types) )          "
   ]
  },
  {
   "cell_type": "code",
   "execution_count": 70,
   "metadata": {},
   "outputs": [],
   "source": [
    "ug2 = UserDataGenerator(n_labels=n_labels, colnames=colnames, column_types=column_types, label_frequency=label_frequency, preset_spread=preset_spread)"
   ]
  },
  {
   "cell_type": "code",
   "execution_count": 154,
   "metadata": {},
   "outputs": [
    {
     "name": "stdout",
     "output_type": "stream",
     "text": [
      "CPU times: user 14.6 s, sys: 18.4 ms, total: 14.6 s\n",
      "Wall time: 14.6 s\n"
     ]
    }
   ],
   "source": [
    "# Generate Data\n",
    "%time train_data = ug2.generate_user_df(10000)\n",
    "test_data = ug2.generate_user_df(5000)"
   ]
  },
  {
   "cell_type": "code",
   "execution_count": 167,
   "metadata": {},
   "outputs": [],
   "source": [
    "# transfer categorical to one hot\n",
    "def to_one_hot(data, categorical_cols):\n",
    "    \"\"\"\n",
    "    extract categorical columns and change them to one hot encoding\n",
    "    \n",
    "    IN:\n",
    "    dataframe Pd.df\n",
    "    \n",
    "    OUT:\n",
    "    dataframe without labels\n",
    "    label column\n",
    "    \n",
    "    \n",
    "    \"\"\"\n",
    "    \n",
    "    y_train = data['label']\n",
    "    X_train = data[data.columns.tolist()[1:]]\n",
    "    \n",
    "    for element in categorical_cols:\n",
    "        \n",
    "        columns = X_train.columns.tolist()\n",
    "        \n",
    "        columns.remove(element)\n",
    "        onehot_purchase = pd.get_dummies(X_train[element] )\n",
    "        \n",
    "        # adapt the default names\n",
    "        newnames = { n : 'el'+ n for n in onehot_purchase.columns.tolist() }\n",
    "        onehot_purchase.rename(newnames, axis='columns')\n",
    "    \n",
    "        \n",
    "        X_train = pd.concat( [ X_train[columns],onehot_purchase ] \n",
    "                    , axis = 1)\n",
    "\n",
    "    return X_train, y_train\n"
   ]
  },
  {
   "cell_type": "code",
   "execution_count": 171,
   "metadata": {},
   "outputs": [],
   "source": [
    "X_train, y_train = to_one_hot(train_data, ['purchased_stock'])\n",
    "X_test, y_test = to_one_hot(test_data, ['purchased_stock'])"
   ]
  },
  {
   "cell_type": "code",
   "execution_count": 170,
   "metadata": {},
   "outputs": [
    {
     "data": {
      "image/png": "[encoded data removed]",
      "text/plain": [
       "<Figure size 432x288 with 1 Axes>"
      ]
     },
     "metadata": {
      "needs_background": "light"
     },
     "output_type": "display_data"
    }
   ],
   "source": [
    "# Distribution plot\n",
    "ax = train_data.groupby('label').size().plot(kind='bar') # overrepresenting label d\n",
    "ax.set_label('Verteilung der Klassen')"
   ]
  },
  {
   "cell_type": "markdown",
   "metadata": {},
   "source": [
    "# Scaling"
   ]
  },
  {
   "cell_type": "code",
   "execution_count": 172,
   "metadata": {},
   "outputs": [],
   "source": [
    "# add scaler\n",
    "stdscaler = StandardScaler()\n",
    "# fit on train data\n",
    "stdscaler.fit(X_train)\n",
    "\n",
    "# transform the data\n",
    "X_train_scaled = stdscaler.transform(X_train)\n",
    "x_test_scaled = stdscaler.transform(X_test)"
   ]
  },
  {
   "cell_type": "code",
   "execution_count": 173,
   "metadata": {},
   "outputs": [],
   "source": [
    "# Hyperparameter are specific to the data, since we create new data here, this has to be re-run\n",
    "# Bounds of the individual Hyperparameters are set here\n",
    "\n",
    "distributions =  { 'max_depth': stats.uniform(loc=8, scale=8), \n",
    "                  'n_estimators' :[40,50,70], \n",
    "                  'class_weight' : [None,'balanced'],\n",
    "                 \"max_features\" : [ None, 'sqrt', 'log2' ,5,10,20]}\n",
    "\n",
    "ada_dist = {'n_estimators':[40,50,70,100] , \"learning_rate\": np.linspace(0.1, 1, num=10) }\n",
    "\n",
    "grad_dist = {'loss':['deviance'],\n",
    "             'learning_rate': np.linspace(0.1, 1, num=10), \n",
    "             'n_estimators':[70,100,120], \n",
    "             'subsample':[0.5,1], \n",
    "             'max_depth': stats.uniform(loc=8, scale=8),\n",
    "             'max_features' : [ None, 'sqrt', 'log2' ,5,10,20]}\n",
    "\n",
    "scv_dist = {\n",
    "    'nu':np.linspace(0.2, 0.4, num=10),\n",
    "    'gamma': ['scale', 'auto' ],\n",
    "    'decision_function_shape': ['ovo','ovr'],\n",
    "    'kernel':['rbf','poly','sigmoid'],\n",
    "    \n",
    "}\n",
    "\n",
    "gnb_dist = {\n",
    "    \"var_smoothing\":loguniform(1e-10, 1e-8)\n",
    "}\n",
    "\n",
    "mlp_dist = {\n",
    "    \"hidden_layer_sizes\":[80,100,200],\n",
    "    \"activation\":['identity', 'logistic', 'tanh', 'relu'],\n",
    "    \"solver\": ['lbfgs', 'sgd', 'adam'],\n",
    "    \"alpha\":loguniform(1e-5, 1e-2),\n",
    "    \"learning_rate\":['constant', 'invscaling', 'adaptive'],\n",
    "    \"learning_rate_init\":loguniform(1e-4, 1e-1),\n",
    "    'beta_1':np.linspace(0.9, 0.999, num=10),\n",
    "}"
   ]
  },
  {
   "cell_type": "code",
   "execution_count": 174,
   "metadata": {},
   "outputs": [],
   "source": [
    "rfc = RandomForestClassifier()\n",
    "ada = AdaBoostClassifier()\n",
    "gbc  = GradientBoostingClassifier()\n",
    "#lsvc = LinearSVC(max_iter=2000)\n",
    "svc  = NuSVC(0.2,probability=True)\n",
    "gnbc = GaussianNB()\n",
    "mlpc = MLPClassifier(max_iter=1000)\n",
    "\n",
    "classifiers = [(\"Randomforest\",rfc,distributions),\n",
    "               #(\"AdaBoostClassifier\",ada,ada_dist),\n",
    "               (\"Gradientboosting\",gbc,grad_dist),\n",
    "               #(\"LinearSVC\",lsvc), # no predict probability method\n",
    "               #(\"SVC\" ,svc,scv_dist),\n",
    "               (\"GaussianNB\", gnbc,gnb_dist),\n",
    "               (\"MLPClassifier\", mlpc,mlp_dist) ]"
   ]
  },
  {
   "cell_type": "code",
   "execution_count": 175,
   "metadata": {},
   "outputs": [
    {
     "name": "stdout",
     "output_type": "stream",
     "text": [
      "Processing : Randomforest\n",
      "0.9454\n",
      "Processing : Gradientboosting\n"
     ]
    },
    {
     "name": "stderr",
     "output_type": "stream",
     "text": [
      "/home/ethuer/anaconda3/envs/tf2/lib/python3.7/site-packages/sklearn/model_selection/_validation.py:536: FitFailedWarning: Estimator fit failed. The score on this train-test partition for these parameters will be set to nan. Details: \n",
      "ValueError: max_features must be in (0, n_features]\n",
      "\n",
      "  FitFailedWarning)\n",
      "/home/ethuer/anaconda3/envs/tf2/lib/python3.7/site-packages/sklearn/model_selection/_validation.py:536: FitFailedWarning: Estimator fit failed. The score on this train-test partition for these parameters will be set to nan. Details: \n",
      "ValueError: max_features must be in (0, n_features]\n",
      "\n",
      "  FitFailedWarning)\n",
      "/home/ethuer/anaconda3/envs/tf2/lib/python3.7/site-packages/sklearn/model_selection/_validation.py:536: FitFailedWarning: Estimator fit failed. The score on this train-test partition for these parameters will be set to nan. Details: \n",
      "ValueError: max_features must be in (0, n_features]\n",
      "\n",
      "  FitFailedWarning)\n",
      "/home/ethuer/anaconda3/envs/tf2/lib/python3.7/site-packages/sklearn/model_selection/_validation.py:536: FitFailedWarning: Estimator fit failed. The score on this train-test partition for these parameters will be set to nan. Details: \n",
      "ValueError: max_features must be in (0, n_features]\n",
      "\n",
      "  FitFailedWarning)\n",
      "/home/ethuer/anaconda3/envs/tf2/lib/python3.7/site-packages/sklearn/model_selection/_validation.py:536: FitFailedWarning: Estimator fit failed. The score on this train-test partition for these parameters will be set to nan. Details: \n",
      "ValueError: max_features must be in (0, n_features]\n",
      "\n",
      "  FitFailedWarning)\n"
     ]
    },
    {
     "name": "stdout",
     "output_type": "stream",
     "text": [
      "0.9442\n",
      "Processing : GaussianNB\n",
      "0.9327000000000002\n",
      "Processing : MLPClassifier\n"
     ]
    },
    {
     "name": "stderr",
     "output_type": "stream",
     "text": [
      "/home/ethuer/anaconda3/envs/tf2/lib/python3.7/site-packages/sklearn/neural_network/_multilayer_perceptron.py:470: ConvergenceWarning: lbfgs failed to converge (status=1):\n",
      "STOP: TOTAL NO. of ITERATIONS REACHED LIMIT.\n",
      "\n",
      "Increase the number of iterations (max_iter) or scale the data as shown in:\n",
      "    https://scikit-learn.org/stable/modules/preprocessing.html\n",
      "  self.n_iter_ = _check_optimize_result(\"lbfgs\", opt_res, self.max_iter)\n",
      "/home/ethuer/anaconda3/envs/tf2/lib/python3.7/site-packages/sklearn/neural_network/_multilayer_perceptron.py:470: ConvergenceWarning: lbfgs failed to converge (status=1):\n",
      "STOP: TOTAL NO. of ITERATIONS REACHED LIMIT.\n",
      "\n",
      "Increase the number of iterations (max_iter) or scale the data as shown in:\n",
      "    https://scikit-learn.org/stable/modules/preprocessing.html\n",
      "  self.n_iter_ = _check_optimize_result(\"lbfgs\", opt_res, self.max_iter)\n",
      "/home/ethuer/anaconda3/envs/tf2/lib/python3.7/site-packages/sklearn/neural_network/_multilayer_perceptron.py:470: ConvergenceWarning: lbfgs failed to converge (status=1):\n",
      "STOP: TOTAL NO. of ITERATIONS REACHED LIMIT.\n",
      "\n",
      "Increase the number of iterations (max_iter) or scale the data as shown in:\n",
      "    https://scikit-learn.org/stable/modules/preprocessing.html\n",
      "  self.n_iter_ = _check_optimize_result(\"lbfgs\", opt_res, self.max_iter)\n",
      "/home/ethuer/anaconda3/envs/tf2/lib/python3.7/site-packages/sklearn/neural_network/_multilayer_perceptron.py:470: ConvergenceWarning: lbfgs failed to converge (status=1):\n",
      "STOP: TOTAL NO. of ITERATIONS REACHED LIMIT.\n",
      "\n",
      "Increase the number of iterations (max_iter) or scale the data as shown in:\n",
      "    https://scikit-learn.org/stable/modules/preprocessing.html\n",
      "  self.n_iter_ = _check_optimize_result(\"lbfgs\", opt_res, self.max_iter)\n",
      "/home/ethuer/anaconda3/envs/tf2/lib/python3.7/site-packages/sklearn/neural_network/_multilayer_perceptron.py:470: ConvergenceWarning: lbfgs failed to converge (status=1):\n",
      "STOP: TOTAL NO. of ITERATIONS REACHED LIMIT.\n",
      "\n",
      "Increase the number of iterations (max_iter) or scale the data as shown in:\n",
      "    https://scikit-learn.org/stable/modules/preprocessing.html\n",
      "  self.n_iter_ = _check_optimize_result(\"lbfgs\", opt_res, self.max_iter)\n",
      "/home/ethuer/anaconda3/envs/tf2/lib/python3.7/site-packages/sklearn/neural_network/_multilayer_perceptron.py:470: ConvergenceWarning: lbfgs failed to converge (status=1):\n",
      "STOP: TOTAL NO. of ITERATIONS REACHED LIMIT.\n",
      "\n",
      "Increase the number of iterations (max_iter) or scale the data as shown in:\n",
      "    https://scikit-learn.org/stable/modules/preprocessing.html\n",
      "  self.n_iter_ = _check_optimize_result(\"lbfgs\", opt_res, self.max_iter)\n",
      "/home/ethuer/anaconda3/envs/tf2/lib/python3.7/site-packages/sklearn/neural_network/_multilayer_perceptron.py:470: ConvergenceWarning: lbfgs failed to converge (status=1):\n",
      "STOP: TOTAL NO. of ITERATIONS REACHED LIMIT.\n",
      "\n",
      "Increase the number of iterations (max_iter) or scale the data as shown in:\n",
      "    https://scikit-learn.org/stable/modules/preprocessing.html\n",
      "  self.n_iter_ = _check_optimize_result(\"lbfgs\", opt_res, self.max_iter)\n",
      "/home/ethuer/anaconda3/envs/tf2/lib/python3.7/site-packages/sklearn/neural_network/_multilayer_perceptron.py:470: ConvergenceWarning: lbfgs failed to converge (status=1):\n",
      "STOP: TOTAL NO. of ITERATIONS REACHED LIMIT.\n",
      "\n",
      "Increase the number of iterations (max_iter) or scale the data as shown in:\n",
      "    https://scikit-learn.org/stable/modules/preprocessing.html\n",
      "  self.n_iter_ = _check_optimize_result(\"lbfgs\", opt_res, self.max_iter)\n",
      "/home/ethuer/anaconda3/envs/tf2/lib/python3.7/site-packages/sklearn/neural_network/_multilayer_perceptron.py:470: ConvergenceWarning: lbfgs failed to converge (status=1):\n",
      "STOP: TOTAL NO. of ITERATIONS REACHED LIMIT.\n",
      "\n",
      "Increase the number of iterations (max_iter) or scale the data as shown in:\n",
      "    https://scikit-learn.org/stable/modules/preprocessing.html\n",
      "  self.n_iter_ = _check_optimize_result(\"lbfgs\", opt_res, self.max_iter)\n",
      "/home/ethuer/anaconda3/envs/tf2/lib/python3.7/site-packages/sklearn/neural_network/_multilayer_perceptron.py:470: ConvergenceWarning: lbfgs failed to converge (status=1):\n",
      "STOP: TOTAL NO. of ITERATIONS REACHED LIMIT.\n",
      "\n",
      "Increase the number of iterations (max_iter) or scale the data as shown in:\n",
      "    https://scikit-learn.org/stable/modules/preprocessing.html\n",
      "  self.n_iter_ = _check_optimize_result(\"lbfgs\", opt_res, self.max_iter)\n",
      "/home/ethuer/anaconda3/envs/tf2/lib/python3.7/site-packages/sklearn/neural_network/_multilayer_perceptron.py:470: ConvergenceWarning: lbfgs failed to converge (status=1):\n",
      "STOP: TOTAL NO. of ITERATIONS REACHED LIMIT.\n",
      "\n",
      "Increase the number of iterations (max_iter) or scale the data as shown in:\n",
      "    https://scikit-learn.org/stable/modules/preprocessing.html\n",
      "  self.n_iter_ = _check_optimize_result(\"lbfgs\", opt_res, self.max_iter)\n",
      "/home/ethuer/anaconda3/envs/tf2/lib/python3.7/site-packages/sklearn/neural_network/_multilayer_perceptron.py:470: ConvergenceWarning: lbfgs failed to converge (status=1):\n",
      "STOP: TOTAL NO. of ITERATIONS REACHED LIMIT.\n",
      "\n",
      "Increase the number of iterations (max_iter) or scale the data as shown in:\n",
      "    https://scikit-learn.org/stable/modules/preprocessing.html\n",
      "  self.n_iter_ = _check_optimize_result(\"lbfgs\", opt_res, self.max_iter)\n",
      "/home/ethuer/anaconda3/envs/tf2/lib/python3.7/site-packages/sklearn/neural_network/_multilayer_perceptron.py:470: ConvergenceWarning: lbfgs failed to converge (status=1):\n",
      "STOP: TOTAL NO. of ITERATIONS REACHED LIMIT.\n",
      "\n",
      "Increase the number of iterations (max_iter) or scale the data as shown in:\n",
      "    https://scikit-learn.org/stable/modules/preprocessing.html\n",
      "  self.n_iter_ = _check_optimize_result(\"lbfgs\", opt_res, self.max_iter)\n",
      "/home/ethuer/anaconda3/envs/tf2/lib/python3.7/site-packages/sklearn/neural_network/_multilayer_perceptron.py:470: ConvergenceWarning: lbfgs failed to converge (status=1):\n",
      "STOP: TOTAL NO. of ITERATIONS REACHED LIMIT.\n",
      "\n",
      "Increase the number of iterations (max_iter) or scale the data as shown in:\n",
      "    https://scikit-learn.org/stable/modules/preprocessing.html\n",
      "  self.n_iter_ = _check_optimize_result(\"lbfgs\", opt_res, self.max_iter)\n",
      "/home/ethuer/anaconda3/envs/tf2/lib/python3.7/site-packages/sklearn/neural_network/_multilayer_perceptron.py:470: ConvergenceWarning: lbfgs failed to converge (status=1):\n",
      "STOP: TOTAL NO. of ITERATIONS REACHED LIMIT.\n",
      "\n",
      "Increase the number of iterations (max_iter) or scale the data as shown in:\n",
      "    https://scikit-learn.org/stable/modules/preprocessing.html\n",
      "  self.n_iter_ = _check_optimize_result(\"lbfgs\", opt_res, self.max_iter)\n"
     ]
    },
    {
     "name": "stdout",
     "output_type": "stream",
     "text": [
      "0.9530000000000001\n"
     ]
    }
   ],
   "source": [
    "param_dict = {}\n",
    "\n",
    "for (name, classifier, dists) in classifiers:\n",
    "    \n",
    "    print(f\"Processing : {name}\")\n",
    "    search_random = RandomizedSearchCV(classifier, dists, random_state=0)\n",
    "    search_random.fit(X=X_train_scaled, y=y_train)\n",
    "    \n",
    "    print(search_random.best_score_)\n",
    "    param_dict[name] = search_random.best_params_\n",
    "    #classifier.fit(X=X_train_scaled, y=y_train)\n",
    "    #print(f\"\"\" Algorithmus {name} \n",
    "    #            : validation score of {classifier.score(x_test_scaled, y_test )} \n",
    "    #            : crossvalidation score {cross_val_score(classifier, X=X_train_scaled, y=y_train).mean()}\" )"
   ]
  },
  {
   "cell_type": "code",
   "execution_count": 177,
   "metadata": {},
   "outputs": [
    {
     "data": {
      "text/plain": [
       "{'Randomforest': {'class_weight': 'balanced',\n",
       "  'max_depth': 14.393268513733789,\n",
       "  'max_features': 5,\n",
       "  'n_estimators': 50},\n",
       " 'Gradientboosting': {'learning_rate': 0.1,\n",
       "  'loss': 'deviance',\n",
       "  'max_depth': 12.656158336600857,\n",
       "  'max_features': 'sqrt',\n",
       "  'n_estimators': 70,\n",
       "  'subsample': 1},\n",
       " 'GaussianNB': {'var_smoothing': 1.2520653814999461e-09},\n",
       " 'MLPClassifier': {'activation': 'identity',\n",
       "  'alpha': 0.007780155576901415,\n",
       "  'beta_1': 0.911,\n",
       "  'hidden_layer_sizes': 200,\n",
       "  'learning_rate': 'adaptive',\n",
       "  'learning_rate_init': 0.00505980387466043,\n",
       "  'solver': 'sgd'}}"
      ]
     },
     "execution_count": 177,
     "metadata": {},
     "output_type": "execute_result"
    }
   ],
   "source": [
    "# best parameters\n",
    "param_dict"
   ]
  },
  {
   "cell_type": "code",
   "execution_count": 191,
   "metadata": {},
   "outputs": [],
   "source": [
    "rfc = RandomForestClassifier(class_weight=  'balanced',\n",
    "  max_depth= 14,\n",
    "  max_features= 5,\n",
    "  n_estimators= 50)\n",
    "\n",
    "ada = AdaBoostClassifier(n_estimators= 50, learning_rate= 0.5)\n",
    "gbc  = GradientBoostingClassifier(learning_rate= 0.1,\n",
    "  loss= 'deviance',\n",
    "  max_depth= 13,\n",
    "  max_features= 'sqrt',\n",
    "  n_estimators= 70,\n",
    "  subsample= 1)\n",
    "#lsvc = LinearSVC(max_iter=2000)\n",
    "svc  = NuSVC(nu= 0.2888888888888889,\n",
    "  kernel= 'rbf',\n",
    "  gamma= 'auto',\n",
    "  decision_function_shape= 'ovr',\n",
    "  probability=True)\n",
    "gnbc = GaussianNB(var_smoothing= 1.2520653814999461e-09)\n",
    "mlpc = MLPClassifier(activation= 'identity',\n",
    "  alpha= 0.007780155576901415,\n",
    "  beta_1= 0.911,\n",
    "  hidden_layer_sizes= 200,\n",
    "  learning_rate= 'adaptive',\n",
    "  learning_rate_init= 0.00505980387466043,\n",
    "  solver= 'sgd',\n",
    "                    max_iter = 1000)\n",
    "\n",
    "classifiers = [(\"Randomforest\",rfc),\n",
    "               #(\"AdaBoostClassifier\",ada),\n",
    "               (\"Gradientboosting\",gbc),\n",
    "               #(\"LinearSVC\",lsvc), # no predict probability method\n",
    "               #(\"SVC\" ,svc),\n",
    "               (\"GaussianNB\", gnbc),\n",
    "               (\"MLPClassifier\", mlpc) ]"
   ]
  },
  {
   "cell_type": "markdown",
   "metadata": {},
   "source": [
    "# Define the pipeline"
   ]
  },
  {
   "cell_type": "code",
   "execution_count": 207,
   "metadata": {
    "scrolled": true
   },
   "outputs": [],
   "source": [
    "# combine the classifiers and fit\n",
    "voting = VotingClassifier(estimators= classifiers, voting='soft')"
   ]
  },
  {
   "cell_type": "code",
   "execution_count": 208,
   "metadata": {},
   "outputs": [],
   "source": [
    "# set pipeline\n",
    "pipe = Pipeline(steps=[('scaling', stdscaler),('classifier',voting)])"
   ]
  },
  {
   "cell_type": "code",
   "execution_count": 194,
   "metadata": {
    "scrolled": true
   },
   "outputs": [
    {
     "data": {
      "text/plain": [
       "Pipeline(memory=None,\n",
       "         steps=[('scaling',\n",
       "                 StandardScaler(copy=True, with_mean=True, with_std=True)),\n",
       "                ('classifier',\n",
       "                 VotingClassifier(estimators=[('Randomforest',\n",
       "                                               RandomForestClassifier(bootstrap=True,\n",
       "                                                                      ccp_alpha=0.0,\n",
       "                                                                      class_weight='balanced',\n",
       "                                                                      criterion='gini',\n",
       "                                                                      max_depth=14,\n",
       "                                                                      max_features=5,\n",
       "                                                                      max_leaf_nodes=None,\n",
       "                                                                      max_samples=None,\n",
       "                                                                      min_impurity_decrease=0.0,\n",
       "                                                                      min_impurity...\n",
       "                                                             learning_rate='adaptive',\n",
       "                                                             learning_rate_init=0.00505980387466043,\n",
       "                                                             max_fun=15000,\n",
       "                                                             max_iter=1000,\n",
       "                                                             momentum=0.9,\n",
       "                                                             n_iter_no_change=10,\n",
       "                                                             nesterovs_momentum=True,\n",
       "                                                             power_t=0.5,\n",
       "                                                             random_state=None,\n",
       "                                                             shuffle=True,\n",
       "                                                             solver='sgd',\n",
       "                                                             tol=0.0001,\n",
       "                                                             validation_fraction=0.1,\n",
       "                                                             verbose=False,\n",
       "                                                             warm_start=False))],\n",
       "                                  flatten_transform=True, n_jobs=None,\n",
       "                                  voting='soft', weights=None))],\n",
       "         verbose=False)"
      ]
     },
     "execution_count": 194,
     "metadata": {},
     "output_type": "execute_result"
    }
   ],
   "source": [
    "# fit the pipeline directly\n",
    "pipe.fit(X_train,y_train)"
   ]
  },
  {
   "cell_type": "code",
   "execution_count": 197,
   "metadata": {},
   "outputs": [
    {
     "name": "stdout",
     "output_type": "stream",
     "text": [
      "The pipeline reaches a score of : 0.9458 \n"
     ]
    }
   ],
   "source": [
    "print(f'The pipeline reaches a score of : {cross_val_score(pipe, X=X_test, y=y_test).mean() } ' )"
   ]
  },
  {
   "cell_type": "code",
   "execution_count": 199,
   "metadata": {},
   "outputs": [],
   "source": [
    "y_pred = pipe.predict(X_test)\n",
    "y_true = np.asarray(y_test)\n",
    "c_mat = confusion_matrix(y_true=y_true, y_pred=y_pred)"
   ]
  },
  {
   "cell_type": "code",
   "execution_count": 200,
   "metadata": {},
   "outputs": [
    {
     "data": {
      "text/plain": [
       "Text(0.5, 1.0, 'Confusion Matrix')"
      ]
     },
     "execution_count": 200,
     "metadata": {},
     "output_type": "execute_result"
    },
    {
     "data": {
      "image/png": "[encoded data removed]",
      "text/plain": [
       "<Figure size 720x576 with 2 Axes>"
      ]
     },
     "metadata": {
      "needs_background": "light"
     },
     "output_type": "display_data"
    }
   ],
   "source": [
    "fig, ax = plt.subplots(figsize=(10,8))\n",
    "ax = sns.heatmap(c_mat, annot=True, cmap=\"YlGnBu\",ax=ax)\n",
    "ax.set_title('Confusion Matrix')"
   ]
  },
  {
   "cell_type": "markdown",
   "metadata": {},
   "source": [
    "# Test some performance metrics"
   ]
  },
  {
   "cell_type": "code",
   "execution_count": null,
   "metadata": {},
   "outputs": [],
   "source": [
    "# Generate testdata in ranges\n",
    "test_data = ug2.generate_user_df(5000)\n",
    "X_test, y_test = to_one_hot(test_data, ['purchased_stock'])"
   ]
  },
  {
   "cell_type": "code",
   "execution_count": 214,
   "metadata": {},
   "outputs": [
    {
     "data": {
      "text/plain": [
       "0    d\n",
       "0    d\n",
       "0    a\n",
       "0    e\n",
       "0    d\n",
       "    ..\n",
       "0    d\n",
       "0    b\n",
       "0    d\n",
       "0    b\n",
       "0    b\n",
       "Name: label, Length: 5000, dtype: object"
      ]
     },
     "execution_count": 214,
     "metadata": {},
     "output_type": "execute_result"
    }
   ],
   "source": [
    "y_test"
   ]
  },
  {
   "cell_type": "code",
   "execution_count": 38,
   "metadata": {},
   "outputs": [],
   "source": [
    "# what is the relationship between available data and performance for machine learning pipelines ?"
   ]
  },
  {
   "cell_type": "code",
   "execution_count": null,
   "metadata": {},
   "outputs": [
    {
     "name": "stderr",
     "output_type": "stream",
     "text": [
      "\n",
      "\n",
      "\n",
      "\n",
      "  0%|          | 0/99 [00:00<?, ?it/s]\u001b[A\u001b[A\u001b[A\u001b[A/home/ethuer/anaconda3/envs/tf2/lib/python3.7/site-packages/sklearn/model_selection/_split.py:667: UserWarning: The least populated class in y has only 2 members, which is less than n_splits=5.\n",
      "  % (min_groups, self.n_splits)), UserWarning)\n"
     ]
    },
    {
     "name": "stdout",
     "output_type": "stream",
     "text": [
      "(20, 14)\n",
      "20 0.7\n"
     ]
    }
   ],
   "source": [
    "# lets quantify by producing 500 samples in various sizes and testing them\n",
    "\n",
    "score_dict = {}\n",
    "\n",
    "for n in tqdm(range(1,100) ):\n",
    "    for replica in range(5):\n",
    "        user_number = n*20\n",
    "        \n",
    "        \n",
    "        \n",
    "        \n",
    "        \n",
    "        # reset pipeline \n",
    "        pipe = Pipeline(steps=[('scaling', stdscaler),('classifier',voting)])\n",
    "        \n",
    "        # generate new samples\n",
    "        train_data_iter = ug2.generate_user_df(user_number)\n",
    "        X_train, y_train = to_one_hot(train_data_iter, ['purchased_stock'])\n",
    "        \n",
    "        rdf2 = RandomForestClassifier()\n",
    "        rdf2.fit(X_train,y_train)\n",
    "        print(X_train.shape)\n",
    "        print(user_number,cross_val_score(rdf2, X=X_train, y=y_train).mean())\n",
    "        \n",
    "        # fit trainings set with optimized parameters\n",
    "        pipe.fit(X_train,y_train)\n",
    "        accuracy = cross_val_score(pipe, X=X_test, y=y_test).mean()\n",
    "        print(accuracy, X_train.shape )\n",
    "        # evaluate on test set\n",
    "        score_dict[f'{n}-{replica}'] = {'user':user_number, 'score':accuracy}"
   ]
  },
  {
   "cell_type": "code",
   "execution_count": 206,
   "metadata": {},
   "outputs": [
    {
     "data": {
      "text/plain": [
       "{'1-0': {'user': 100, 'score': 0.9448000000000001},\n",
       " '1-1': {'user': 100, 'score': 0.9454},\n",
       " '1-2': {'user': 100, 'score': 0.9456},\n",
       " '1-3': {'user': 100, 'score': 0.9468},\n",
       " '1-4': {'user': 100, 'score': 0.9461999999999999},\n",
       " '2-0': {'user': 200, 'score': 0.9458},\n",
       " '2-1': {'user': 200, 'score': 0.9463999999999999},\n",
       " '2-2': {'user': 200, 'score': 0.9452},\n",
       " '2-3': {'user': 200, 'score': 0.9466000000000001},\n",
       " '2-4': {'user': 200, 'score': 0.9465999999999999},\n",
       " '3-0': {'user': 300, 'score': 0.9456},\n",
       " '3-1': {'user': 300, 'score': 0.9461999999999999},\n",
       " '3-2': {'user': 300, 'score': 0.9446},\n",
       " '3-3': {'user': 300, 'score': 0.9458},\n",
       " '3-4': {'user': 300, 'score': 0.9451999999999998},\n",
       " '4-0': {'user': 400, 'score': 0.9443999999999999},\n",
       " '4-1': {'user': 400, 'score': 0.9453999999999999},\n",
       " '4-2': {'user': 400, 'score': 0.9471999999999999},\n",
       " '4-3': {'user': 400, 'score': 0.9461999999999999},\n",
       " '4-4': {'user': 400, 'score': 0.9453999999999999},\n",
       " '5-0': {'user': 500, 'score': 0.9453999999999999},\n",
       " '5-1': {'user': 500, 'score': 0.9452},\n",
       " '5-2': {'user': 500, 'score': 0.9469999999999998},\n",
       " '5-3': {'user': 500, 'score': 0.9452}}"
      ]
     },
     "execution_count": 206,
     "metadata": {},
     "output_type": "execute_result"
    }
   ],
   "source": [
    "score_dict"
   ]
  },
  {
   "cell_type": "code",
   "execution_count": null,
   "metadata": {},
   "outputs": [],
   "source": []
  }
 ],
 "metadata": {
  "kernelspec": {
   "display_name": "Python 3",
   "language": "python",
   "name": "python3"
  },
  "language_info": {
   "codemirror_mode": {
    "name": "ipython",
    "version": 3
   },
   "file_extension": ".py",
   "mimetype": "text/x-python",
   "name": "python",
   "nbconvert_exporter": "python",
   "pygments_lexer": "ipython3",
   "version": "3.7.6"
  }
 },
 "nbformat": 4,
 "nbformat_minor": 4
}
