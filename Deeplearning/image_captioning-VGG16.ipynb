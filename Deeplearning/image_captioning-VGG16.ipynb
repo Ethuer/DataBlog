{
 "cells": [
  {
   "cell_type": "code",
   "execution_count": 1,
   "metadata": {
    "colab": {},
    "colab_type": "code",
    "id": "U8l4RJ0XRPEm"
   },
   "outputs": [],
   "source": [
    "import tensorflow as tf\n",
    "\n",
    "import seaborn as sns\n",
    "import matplotlib.pyplot as plt\n",
    "\n",
    "from sklearn.model_selection import train_test_split\n",
    "from sklearn.utils import shuffle\n",
    "\n",
    "import re\n",
    "import numpy as np\n",
    "import pandas as pd\n",
    "import os\n",
    "import json\n",
    "from glob import glob\n",
    "from PIL import Image\n",
    "import pickle\n",
    "\n",
    "# image preprocessing\n",
    "from tensorflow.keras.applications.vgg16 import preprocess_input\n",
    "\n",
    "# tf layers\n",
    "from tensorflow.keras.layers import Dense, LSTM, Embedding #, GRU"
   ]
  },
  {
   "cell_type": "code",
   "execution_count": 2,
   "metadata": {
    "colab": {},
    "colab_type": "code",
    "id": "4G3b8x8_RPFD"
   },
   "outputs": [],
   "source": [
    "# Read the json file containing annotations\n",
    "annotation_file = '/home/ethuer/Blog/blogposts/Deeplearning/show-attend-and-tell_tf2/train/captions_train2017.json'\n",
    "PATH = '/home/ethuer/Blog/blogposts/Deeplearning/show-attend-and-tell_tf2/train/' #train2017/\n",
    "with open(annotation_file, 'r') as f:\n",
    "    annotations = json.load(f)\n",
    "\n"
   ]
  },
  {
   "cell_type": "code",
   "execution_count": 3,
   "metadata": {},
   "outputs": [],
   "source": [
    "# Store captions and image names in vectors\n",
    "all_captions = []\n",
    "all_img_name_vector = []\n",
    "\n",
    "for annot in annotations['annotations']:\n",
    "    caption = '<start> ' + annot['caption'] + ' <end>'\n",
    "    filename = '%012d.jpg' %  annot['image_id'] # add to image format\n",
    "    full_coco_image_path = PATH +'train2017/' + filename \n",
    "    \n",
    "    all_img_name_vector.append(full_coco_image_path)\n",
    "    all_captions.append(caption)\n",
    "\n",
    "# Shuffle captions and image_names together\n",
    "train_captions, img_name_vector = shuffle(all_captions,\n",
    "                                          all_img_name_vector,\n",
    "                                          random_state=1)\n"
   ]
  },
  {
   "cell_type": "code",
   "execution_count": 4,
   "metadata": {
    "colab": {},
    "colab_type": "code",
    "id": "mPBMgK34RPFL"
   },
   "outputs": [
    {
     "data": {
      "text/plain": [
       "(591753, 591753)"
      ]
     },
     "execution_count": 4,
     "metadata": {},
     "output_type": "execute_result"
    }
   ],
   "source": [
    "len(train_captions), len(all_captions)"
   ]
  },
  {
   "cell_type": "markdown",
   "metadata": {
    "colab_type": "text",
    "id": "8cSW4u-ORPFQ"
   },
   "source": [
    "## Preprocess the images using VGG16"
   ]
  },
  {
   "cell_type": "code",
   "execution_count": 5,
   "metadata": {
    "colab": {},
    "colab_type": "code",
    "id": "zXR0217aRPFR"
   },
   "outputs": [],
   "source": [
    "IMG_SIZE = 160\n",
    "IMG_SHAPE = (IMG_SIZE, IMG_SIZE, 3)\n",
    "\n",
    "def load_image(image_path):\n",
    "    img = tf.io.read_file(image_path)\n",
    "    img = tf.image.decode_jpeg(img, channels=3)\n",
    "    img = tf.image.resize(img, (IMG_SIZE,IMG_SIZE))\n",
    "    img = preprocess_input(img)\n",
    "    return img, image_path"
   ]
  },
  {
   "cell_type": "code",
   "execution_count": 6,
   "metadata": {
    "colab": {},
    "colab_type": "code",
    "id": "RD3vW4SsRPFW"
   },
   "outputs": [],
   "source": [
    "\n",
    "vgg16_feature_extraction = tf.keras.applications.VGG16(input_shape=IMG_SHAPE,\n",
    "                                               include_top=False,\n",
    "                                               weights='imagenet')\n",
    "\n",
    "\n",
    "\n",
    "#image_features_extract_model = tf.keras.Model(image_model.input, image_model.output)"
   ]
  },
  {
   "cell_type": "code",
   "execution_count": 7,
   "metadata": {
    "scrolled": true
   },
   "outputs": [
    {
     "data": {
      "text/plain": [
       "TensorShape([None, 5, 5, 512])"
      ]
     },
     "execution_count": 7,
     "metadata": {},
     "output_type": "execute_result"
    }
   ],
   "source": [
    "# The model ends in a feature layer of shape 5, 5, 512,  we will turn this into a 25,512 feature tensor\n",
    "vgg16_feature_extraction.layers[-1].output.shape"
   ]
  },
  {
   "cell_type": "code",
   "execution_count": 8,
   "metadata": {},
   "outputs": [],
   "source": [
    "# each image has 5 labels ( 312 images have 6 ). Differently worded descriptions of the same image\n",
    "encode_train = sorted(set(all_img_name_vector))"
   ]
  },
  {
   "cell_type": "code",
   "execution_count": 9,
   "metadata": {},
   "outputs": [
    {
     "data": {
      "text/plain": [
       "['/home/ethuer/Blog/blogposts/Deeplearning/show-attend-and-tell_tf2/train/train2017/000000000009.jpg',\n",
       " '/home/ethuer/Blog/blogposts/Deeplearning/show-attend-and-tell_tf2/train/train2017/000000000025.jpg']"
      ]
     },
     "execution_count": 9,
     "metadata": {},
     "output_type": "execute_result"
    }
   ],
   "source": [
    "encode_train[0:2]"
   ]
  },
  {
   "cell_type": "code",
   "execution_count": 10,
   "metadata": {},
   "outputs": [],
   "source": [
    "\n",
    "# Create a tf. Dataset from the encoded data\n",
    "image_dataset = tf.data.Dataset.from_tensor_slices(encode_train)\n",
    "image_dataset = image_dataset.map(load_image).batch(32)\n"
   ]
  },
  {
   "cell_type": "code",
   "execution_count": 11,
   "metadata": {},
   "outputs": [
    {
     "data": {
      "text/plain": [
       "<TakeDataset shapes: ((None, 160, 160, 3), (None,)), types: (tf.float32, tf.string)>"
      ]
     },
     "execution_count": 11,
     "metadata": {},
     "output_type": "execute_result"
    }
   ],
   "source": [
    "image_dataset.take(1)"
   ]
  },
  {
   "cell_type": "code",
   "execution_count": 12,
   "metadata": {},
   "outputs": [],
   "source": [
    "# test the image dataset\n",
    "for count,(img, path) in enumerate(image_dataset):\n",
    "    if count ==0:\n",
    "        i = img \n",
    "        p = path\n",
    "    else:\n",
    "        break\n",
    "        \n",
    "test_img = vgg16_feature_extraction(i)\n",
    "reshaped_test_batch = tf.reshape(test_img, (test_img.shape[0], -1, test_img.shape[3]))"
   ]
  },
  {
   "cell_type": "code",
   "execution_count": 13,
   "metadata": {},
   "outputs": [
    {
     "name": "stdout",
     "output_type": "stream",
     "text": [
      "The image Model (VGG16) returns tensors of shape (32, 5, 5, 512) , after reshaping we get (32, 25, 512) \n"
     ]
    }
   ],
   "source": [
    "print(f\"The image Model (VGG16) returns tensors of shape {str(test_img.shape)} , after reshaping we get {str(reshaped_test_batch.shape)} \" ) "
   ]
  },
  {
   "cell_type": "code",
   "execution_count": 15,
   "metadata": {
    "colab": {},
    "colab_type": "code",
    "id": "Dx_fvbVgRPGQ",
    "scrolled": false
   },
   "outputs": [],
   "source": [
    "# Daten werden Lokal mittels VGG16 vorbearbeiter und ausgeschrieben.\n",
    "for img, path in image_dataset:\n",
    "    batch_features = vgg16_feature_extraction(img)\n",
    "    batch_features = tf.reshape(batch_features,\n",
    "                              (batch_features.shape[0], -1, batch_features.shape[3]))\n",
    "\n",
    "    # buffer the data in numpy files\n",
    "    for bf, p in zip(batch_features, path):\n",
    "        path_of_feature = p.numpy().decode(\"utf-8\")\n",
    "        np.save(path_of_feature, bf.numpy())"
   ]
  },
  {
   "cell_type": "markdown",
   "metadata": {
    "colab_type": "text",
    "id": "nyqH3zFwRPFi"
   },
   "source": [
    "## Preprocess and tokenize the captions\n",
    "\n",
    "* Zunächst werden die Sätze Tokenisiert ( in Worte zerschnitten)\n",
    "* Unbekannte Worte werden durch UNK Token ersetzt\n",
    "* Tensorflow word tokenizer generiert dann die Sätze in Integer sequenzen\n",
    "* Danach werden die Sätze auf eine gemeinsame Länge gebracht"
   ]
  },
  {
   "cell_type": "code",
   "execution_count": 16,
   "metadata": {},
   "outputs": [],
   "source": [
    "# Analyzing the model text  \n",
    "# train_captions"
   ]
  },
  {
   "cell_type": "code",
   "execution_count": 17,
   "metadata": {},
   "outputs": [],
   "source": [
    "top_k = 6000 \n",
    "unwanted_characters = '!\"#$%&()*+.,-/:;=?@[\\]^_`{|}~ '\n",
    "\n",
    "tokenizer = tf.keras.preprocessing.text.Tokenizer(num_words=top_k,                                              \n",
    "                                                  oov_token=\"<unk>\",\n",
    "                                                  filters=unwanted_characters)\n",
    "tokenizer.fit_on_texts(train_captions)\n",
    "train_seqs = tokenizer.texts_to_sequences(train_captions)\n",
    "\n",
    "# extend word2index and index2word with a padding sequence\n",
    "tokenizer.word_index['<pad>'] = 0\n",
    "tokenizer.index_word[0] = '<pad>'"
   ]
  },
  {
   "cell_type": "code",
   "execution_count": 18,
   "metadata": {},
   "outputs": [],
   "source": [
    "word_data = pd.DataFrame.from_dict( {'count':tokenizer.word_counts}, orient='columns')"
   ]
  },
  {
   "cell_type": "code",
   "execution_count": 19,
   "metadata": {},
   "outputs": [],
   "source": [
    "word_data.sort_values('count', ascending=False, inplace=True)"
   ]
  },
  {
   "cell_type": "code",
   "execution_count": 20,
   "metadata": {},
   "outputs": [
    {
     "name": "stdout",
     "output_type": "stream",
     "text": [
      "Using the top 4000 words, we retain words with a count over 37 Occurances\n",
      "Using the top 5000 words, we retain words with a count over 23 Occurances\n",
      "Using the top 6000 words, we retain words with a count over 15 Occurances\n",
      "Using the top 7000 words, we retain words with a count over 11 Occurances\n"
     ]
    }
   ],
   "source": [
    "#word_data[0].describe( percentiles= [ (1-(6000/word_data.shape[0])), (1-(5000/word_data.shape[0])), (1-(4000/word_data.shape[0]))])\n",
    "# 6000 words includes \n",
    "for n in [4000,5000,6000,7000]:\n",
    "    print(f'Using the top {n} words, we retain words with a count over {word_data.iloc[n][0]} Occurances' )\n",
    "#word_data.loc[word_data[0] > 10].shape[0]\n"
   ]
  },
  {
   "cell_type": "code",
   "execution_count": 21,
   "metadata": {},
   "outputs": [],
   "source": [
    "allowed_vocabulary = word_data[0:top_k].index.tolist()\n",
    "allowed_vocabulary.append('<pad>')"
   ]
  },
  {
   "cell_type": "code",
   "execution_count": 22,
   "metadata": {},
   "outputs": [
    {
     "data": {
      "text/plain": [
       "Text(0.5, 1.0, 'Word count')"
      ]
     },
     "execution_count": 22,
     "metadata": {},
     "output_type": "execute_result"
    },
    {
     "data": {
      "image/png": "[encoded data removed]",
      "text/plain": [
       "<Figure size 1080x504 with 1 Axes>"
      ]
     },
     "metadata": {},
     "output_type": "display_data"
    }
   ],
   "source": [
    "sns.set(rc={'figure.figsize':(15,7)})\n",
    "ax = sns.barplot(x='index',  y='count', data = word_data.reset_index()[:20])\n",
    "ax.ticklabel_format(style='plain', axis='y')\n",
    "ax.set_title('Word count')"
   ]
  },
  {
   "cell_type": "code",
   "execution_count": 23,
   "metadata": {
    "colab": {},
    "colab_type": "code",
    "id": "0fpJb5ojRPFv"
   },
   "outputs": [],
   "source": [
    "# Create the tokenized vectors\n",
    "train_seqs = tokenizer.texts_to_sequences(train_captions)\n",
    "\n",
    "# check lenghts\n",
    "train_length = [len(x) for x in train_seqs]"
   ]
  },
  {
   "cell_type": "code",
   "execution_count": 24,
   "metadata": {},
   "outputs": [
    {
     "data": {
      "text/plain": [
       "[Text(0, 0.5, 'Anzahl'), Text(0.5, 0, 'Satzlänge')]"
      ]
     },
     "execution_count": 24,
     "metadata": {},
     "output_type": "execute_result"
    },
    {
     "data": {
      "image/png": "[encoded data removed]",
      "text/plain": [
       "<Figure size 1080x504 with 1 Axes>"
      ]
     },
     "metadata": {},
     "output_type": "display_data"
    }
   ],
   "source": [
    "ax = sns.distplot( pd.DataFrame({'len':train_length}) , kde=False)\n",
    "ax.set_title('Häufigkeitsverteilung der Satzlänge')\n",
    "ax.set(xlabel='Satzlänge', ylabel='Anzahl')"
   ]
  },
  {
   "cell_type": "code",
   "execution_count": 25,
   "metadata": {},
   "outputs": [
    {
     "data": {
      "text/html": [
       "<div>\n",
       "<style scoped>\n",
       "    .dataframe tbody tr th:only-of-type {\n",
       "        vertical-align: middle;\n",
       "    }\n",
       "\n",
       "    .dataframe tbody tr th {\n",
       "        vertical-align: top;\n",
       "    }\n",
       "\n",
       "    .dataframe thead th {\n",
       "        text-align: right;\n",
       "    }\n",
       "</style>\n",
       "<table border=\"1\" class=\"dataframe\">\n",
       "  <thead>\n",
       "    <tr style=\"text-align: right;\">\n",
       "      <th></th>\n",
       "      <th>len</th>\n",
       "    </tr>\n",
       "  </thead>\n",
       "  <tbody>\n",
       "    <tr>\n",
       "      <th>count</th>\n",
       "      <td>591753.000000</td>\n",
       "    </tr>\n",
       "    <tr>\n",
       "      <th>mean</th>\n",
       "      <td>12.468599</td>\n",
       "    </tr>\n",
       "    <tr>\n",
       "      <th>std</th>\n",
       "      <td>2.400089</td>\n",
       "    </tr>\n",
       "    <tr>\n",
       "      <th>min</th>\n",
       "      <td>7.000000</td>\n",
       "    </tr>\n",
       "    <tr>\n",
       "      <th>50%</th>\n",
       "      <td>12.000000</td>\n",
       "    </tr>\n",
       "    <tr>\n",
       "      <th>90%</th>\n",
       "      <td>15.000000</td>\n",
       "    </tr>\n",
       "    <tr>\n",
       "      <th>98.5%</th>\n",
       "      <td>20.000000</td>\n",
       "    </tr>\n",
       "    <tr>\n",
       "      <th>99%</th>\n",
       "      <td>21.000000</td>\n",
       "    </tr>\n",
       "    <tr>\n",
       "      <th>max</th>\n",
       "      <td>52.000000</td>\n",
       "    </tr>\n",
       "  </tbody>\n",
       "</table>\n",
       "</div>"
      ],
      "text/plain": [
       "                 len\n",
       "count  591753.000000\n",
       "mean       12.468599\n",
       "std         2.400089\n",
       "min         7.000000\n",
       "50%        12.000000\n",
       "90%        15.000000\n",
       "98.5%      20.000000\n",
       "99%        21.000000\n",
       "max        52.000000"
      ]
     },
     "execution_count": 25,
     "metadata": {},
     "output_type": "execute_result"
    }
   ],
   "source": [
    "pd.DataFrame({'len':train_length}).describe(percentiles=[.90,.985,.99])"
   ]
  },
  {
   "cell_type": "code",
   "execution_count": 26,
   "metadata": {},
   "outputs": [],
   "source": [
    "# 98.5% of sequences are less than 20.000000 long.  Use 20 as a maximum lenght"
   ]
  },
  {
   "cell_type": "code",
   "execution_count": 27,
   "metadata": {
    "colab": {},
    "colab_type": "code",
    "id": "AidglIZVRPF4"
   },
   "outputs": [],
   "source": [
    "# Pad each vector to 20\n",
    "train_seqs = tf.keras.preprocessing.sequence.pad_sequences(train_seqs, padding='post', maxlen=20)"
   ]
  },
  {
   "cell_type": "markdown",
   "metadata": {
    "colab_type": "text",
    "id": "M3CD75nDpvTI"
   },
   "source": [
    "## Split the data into training and testing"
   ]
  },
  {
   "cell_type": "code",
   "execution_count": 28,
   "metadata": {
    "colab": {},
    "colab_type": "code",
    "id": "iS7DDMszRPGF"
   },
   "outputs": [],
   "source": [
    "# Create training and validation sets using an 80-20 split\n",
    "img_name_train, img_name_val, train_seqs, val_seqs = train_test_split(img_name_vector,\n",
    "                                                                    train_seqs,\n",
    "                                                                    test_size=0.2,\n",
    "                                                                    random_state=0)"
   ]
  },
  {
   "cell_type": "code",
   "execution_count": 29,
   "metadata": {
    "colab": {},
    "colab_type": "code",
    "id": "XmViPkRFRPGH"
   },
   "outputs": [
    {
     "data": {
      "text/plain": [
       "(473402, 473402, 118351, 118351)"
      ]
     },
     "execution_count": 29,
     "metadata": {},
     "output_type": "execute_result"
    }
   ],
   "source": [
    "len(img_name_train), len(train_seqs), len(img_name_val), len(val_seqs)"
   ]
  },
  {
   "cell_type": "markdown",
   "metadata": {},
   "source": [
    "# Load GLoVe embedding"
   ]
  },
  {
   "cell_type": "code",
   "execution_count": 30,
   "metadata": {},
   "outputs": [],
   "source": [
    "EMBED_DIM  = 300"
   ]
  },
  {
   "cell_type": "code",
   "execution_count": 31,
   "metadata": {},
   "outputs": [],
   "source": [
    "import itertools"
   ]
  },
  {
   "cell_type": "code",
   "execution_count": 32,
   "metadata": {},
   "outputs": [],
   "source": [
    "word2idx_topk = {}\n",
    "for word, vec in tokenizer.word_index.items():\n",
    "    if word in allowed_vocabulary:\n",
    "        word2idx_topk[word] = vec"
   ]
  },
  {
   "cell_type": "code",
   "execution_count": 33,
   "metadata": {},
   "outputs": [
    {
     "data": {
      "text/plain": [
       "{'a': 2,\n",
       " '<start>': 3,\n",
       " '<end>': 4,\n",
       " 'on': 5,\n",
       " 'of': 6,\n",
       " 'the': 7,\n",
       " 'in': 8,\n",
       " 'with': 9,\n",
       " 'and': 10,\n",
       " 'is': 11,\n",
       " 'man': 12,\n",
       " 'to': 13,\n",
       " 'sitting': 14,\n",
       " 'an': 15,\n",
       " 'two': 16,\n",
       " 'at': 17,\n",
       " 'standing': 18,\n",
       " 'people': 19,\n",
       " 'are': 20,\n",
       " 'next': 21,\n",
       " 'white': 22,\n",
       " 'woman': 23,\n",
       " 'street': 24,\n",
       " 'table': 25,\n",
       " 'holding': 26,\n",
       " 'that': 27,\n",
       " 'large': 28,\n",
       " 'it': 29,\n",
       " 'person': 30,\n",
       " 'some': 31,\n",
       " 'down': 32,\n",
       " 'top': 33,\n",
       " 'group': 34,\n",
       " 'up': 35,\n",
       " 'field': 36,\n",
       " 'small': 37,\n",
       " 'tennis': 38,\n",
       " 'near': 39,\n",
       " 'front': 40,\n",
       " 'his': 41,\n",
       " 'black': 42,\n",
       " 'train': 43,\n",
       " 'plate': 44,\n",
       " 'room': 45,\n",
       " 'dog': 46,\n",
       " 'riding': 47,\n",
       " 'red': 48,\n",
       " 'cat': 49,\n",
       " 'young': 50,\n",
       " 'by': 51,\n",
       " 'water': 52,\n",
       " 'baseball': 53,\n",
       " 'has': 54,\n",
       " 'while': 55,\n",
       " 'playing': 56,\n",
       " 'walking': 57,\n",
       " 'bathroom': 58,\n",
       " 'sign': 59,\n",
       " 'blue': 60,\n",
       " 'kitchen': 61,\n",
       " 'food': 62,\n",
       " 'grass': 63,\n",
       " 'there': 64,\n",
       " 'bus': 65,\n",
       " 'green': 66,\n",
       " 'pizza': 67,\n",
       " 'parked': 68,\n",
       " 'side': 69,\n",
       " 'building': 70,\n",
       " 'other': 71,\n",
       " 'bed': 72,\n",
       " 'looking': 73,\n",
       " 'snow': 74,\n",
       " 'beach': 75,\n",
       " 'ball': 76,\n",
       " 'couple': 77,\n",
       " 'three': 78,\n",
       " 'for': 79,\n",
       " 'boy': 80,\n",
       " 'toilet': 81,\n",
       " 'men': 82,\n",
       " 'clock': 83,\n",
       " 'city': 84,\n",
       " 'road': 85,\n",
       " 'flying': 86,\n",
       " 'wearing': 87,\n",
       " 'out': 88,\n",
       " 'her': 89,\n",
       " 'skateboard': 90,\n",
       " 'player': 91,\n",
       " 'over': 92,\n",
       " 'game': 93,\n",
       " 'several': 94,\n",
       " 'laying': 95,\n",
       " 'girl': 96,\n",
       " 'from': 97,\n",
       " 'sits': 98,\n",
       " 'wooden': 99,\n",
       " 'bench': 100,\n",
       " 'picture': 101,\n",
       " 'area': 102,\n",
       " 'bear': 103,\n",
       " 'one': 104,\n",
       " 'their': 105,\n",
       " 'laptop': 106,\n",
       " 'through': 107,\n",
       " 'around': 108,\n",
       " 'eating': 109,\n",
       " 'horse': 110,\n",
       " 'brown': 111,\n",
       " 'yellow': 112,\n",
       " 'cake': 113,\n",
       " 'computer': 114,\n",
       " 'phone': 115,\n",
       " 'frisbee': 116,\n",
       " 'board': 117,\n",
       " 'sink': 118,\n",
       " 'giraffe': 119,\n",
       " 'outside': 120,\n",
       " 'as': 121,\n",
       " 'living': 122,\n",
       " 'air': 123,\n",
       " 'truck': 124,\n",
       " 'desk': 125,\n",
       " 'window': 126,\n",
       " 'close': 127,\n",
       " 'motorcycle': 128,\n",
       " 'covered': 129,\n",
       " 'umbrella': 130,\n",
       " 'trees': 131,\n",
       " 'car': 132,\n",
       " 'tree': 133,\n",
       " 'open': 134,\n",
       " 'wall': 135,\n",
       " 'each': 136,\n",
       " 'many': 137,\n",
       " 'park': 138,\n",
       " 'elephant': 139,\n",
       " 'very': 140,\n",
       " 'this': 141,\n",
       " 'old': 142,\n",
       " 'behind': 143,\n",
       " 'filled': 144,\n",
       " 'under': 145,\n",
       " 'little': 146,\n",
       " 'stop': 147,\n",
       " 'fire': 148,\n",
       " 'court': 149,\n",
       " 'sky': 150,\n",
       " 'into': 151,\n",
       " 'together': 152,\n",
       " 'its': 153,\n",
       " 'surfboard': 154,\n",
       " 'kite': 155,\n",
       " 'child': 156,\n",
       " 'background': 157,\n",
       " 'inside': 158,\n",
       " 'skis': 159,\n",
       " 'boat': 160,\n",
       " 'back': 161,\n",
       " 'bat': 162,\n",
       " 'sheep': 163,\n",
       " 'chair': 164,\n",
       " 'stands': 165,\n",
       " 'big': 166,\n",
       " 'bowl': 167,\n",
       " 'view': 168,\n",
       " 'photo': 169,\n",
       " 'bunch': 170,\n",
       " 'light': 171,\n",
       " 'couch': 172,\n",
       " 'glass': 173,\n",
       " 'ocean': 174,\n",
       " 'cell': 175,\n",
       " 'bird': 176,\n",
       " 'traffic': 177,\n",
       " 'shirt': 178,\n",
       " 'mirror': 179,\n",
       " 'airplane': 180,\n",
       " 'hydrant': 181,\n",
       " 'zebra': 182,\n",
       " 'fence': 183,\n",
       " 'sandwich': 184,\n",
       " 'counter': 185,\n",
       " 'teddy': 186,\n",
       " 'hand': 187,\n",
       " 'orange': 188,\n",
       " 'another': 189,\n",
       " 'women': 190,\n",
       " 'different': 191,\n",
       " 'sidewalk': 192,\n",
       " 'plane': 193,\n",
       " 'floor': 194,\n",
       " 'wave': 195,\n",
       " 'flowers': 196,\n",
       " 'lot': 197,\n",
       " 'tall': 198,\n",
       " 'tracks': 199,\n",
       " 'stand': 200,\n",
       " 'vase': 201,\n",
       " 'parking': 202,\n",
       " 'horses': 203,\n",
       " 'giraffes': 204,\n",
       " 'cars': 205,\n",
       " 'tower': 206,\n",
       " 'baby': 207,\n",
       " 'racket': 208,\n",
       " 'vegetables': 209,\n",
       " 'ground': 210,\n",
       " 'tie': 211,\n",
       " 'grassy': 212,\n",
       " 'being': 213,\n",
       " 'off': 214,\n",
       " 'zebras': 215,\n",
       " 'elephants': 216,\n",
       " 'day': 217,\n",
       " 'bananas': 218,\n",
       " 'middle': 219,\n",
       " 'full': 220,\n",
       " 'along': 221,\n",
       " 'ready': 222,\n",
       " 'station': 223,\n",
       " 'image': 224,\n",
       " 'hill': 225,\n",
       " 'dirt': 226,\n",
       " 'sit': 227,\n",
       " 'taking': 228,\n",
       " 'signs': 229,\n",
       " 'four': 230,\n",
       " 'bike': 231,\n",
       " 'driving': 232,\n",
       " 'slope': 233,\n",
       " 'stuffed': 234,\n",
       " 'head': 235,\n",
       " 'piece': 236,\n",
       " 'above': 237,\n",
       " 'wine': 238,\n",
       " 'broccoli': 239,\n",
       " 'luggage': 240,\n",
       " 'long': 241,\n",
       " 'across': 242,\n",
       " 'grazing': 243,\n",
       " 'cows': 244,\n",
       " 'beside': 245,\n",
       " 'skiing': 246,\n",
       " 'snowy': 247,\n",
       " 'skate': 248,\n",
       " 'them': 249,\n",
       " 'hanging': 250,\n",
       " 'wii': 251,\n",
       " 'hat': 252,\n",
       " 'during': 253,\n",
       " 'refrigerator': 254,\n",
       " 'glasses': 255,\n",
       " 'holds': 256,\n",
       " 'pink': 257,\n",
       " 'camera': 258,\n",
       " 'mountain': 259,\n",
       " 'hot': 260,\n",
       " 'suit': 261,\n",
       " 'doing': 262,\n",
       " 'display': 263,\n",
       " 'ski': 264,\n",
       " 'fruit': 265,\n",
       " 'buildings': 266,\n",
       " 'herd': 267,\n",
       " 'double': 268,\n",
       " 'children': 269,\n",
       " 'pole': 270,\n",
       " 'cow': 271,\n",
       " 'empty': 272,\n",
       " 'corner': 273,\n",
       " 'going': 274,\n",
       " 'umbrellas': 275,\n",
       " 'cutting': 276,\n",
       " 'oven': 277,\n",
       " 'watching': 278,\n",
       " 'pair': 279,\n",
       " 'stove': 280,\n",
       " 'track': 281,\n",
       " 'looks': 282,\n",
       " 'keyboard': 283,\n",
       " 'kites': 284,\n",
       " 'jumping': 285,\n",
       " 'trick': 286,\n",
       " 'smiling': 287,\n",
       " 'chairs': 288,\n",
       " 'television': 289,\n",
       " 'dogs': 290,\n",
       " 'soccer': 291,\n",
       " 'boats': 292,\n",
       " 'door': 293,\n",
       " 'talking': 294,\n",
       " 'box': 295,\n",
       " 'posing': 296,\n",
       " 'traveling': 297,\n",
       " 'airport': 298,\n",
       " 'crowd': 299,\n",
       " 'colorful': 300,\n",
       " 'swinging': 301,\n",
       " 'video': 302,\n",
       " 'tv': 303,\n",
       " 'topped': 304,\n",
       " 'surf': 305,\n",
       " 'birds': 306,\n",
       " 'various': 307,\n",
       " 'animals': 308,\n",
       " 'using': 309,\n",
       " 'getting': 310,\n",
       " 'lady': 311,\n",
       " 'body': 312,\n",
       " 'set': 313,\n",
       " 'plates': 314,\n",
       " 'who': 315,\n",
       " 'against': 316,\n",
       " 'hit': 317,\n",
       " 'all': 318,\n",
       " 'paper': 319,\n",
       " 'coffee': 320,\n",
       " 'guy': 321,\n",
       " 'brick': 322,\n",
       " 'wood': 323,\n",
       " 'carrying': 324,\n",
       " 'cup': 325,\n",
       " 'lots': 326,\n",
       " 'motorcycles': 327,\n",
       " 'river': 328,\n",
       " 'banana': 329,\n",
       " 'cheese': 330,\n",
       " 'bedroom': 331,\n",
       " 'something': 332,\n",
       " 'night': 333,\n",
       " 'be': 334,\n",
       " 'waiting': 335,\n",
       " \"it's\": 336,\n",
       " 'restaurant': 337,\n",
       " 'house': 338,\n",
       " 'bears': 339,\n",
       " 'lights': 340,\n",
       " 'walk': 341,\n",
       " 'remote': 342,\n",
       " 'shower': 343,\n",
       " 'meat': 344,\n",
       " 'metal': 345,\n",
       " 'players': 346,\n",
       " 'snowboard': 347,\n",
       " 'skateboarder': 348,\n",
       " 'runway': 349,\n",
       " 'face': 350,\n",
       " 'home': 351,\n",
       " 'about': 352,\n",
       " 'items': 353,\n",
       " 'bicycle': 354,\n",
       " 'racquet': 355,\n",
       " 'skier': 356,\n",
       " 'decker': 357,\n",
       " 'high': 358,\n",
       " 'running': 359,\n",
       " 'surfer': 360,\n",
       " 'busy': 361,\n",
       " 'jet': 362,\n",
       " 'line': 363,\n",
       " 'ramp': 364,\n",
       " 'someone': 365,\n",
       " 'hands': 366,\n",
       " 'passenger': 367,\n",
       " 'like': 368,\n",
       " 'lying': 369,\n",
       " 'dressed': 370,\n",
       " 'intersection': 371,\n",
       " 'male': 372,\n",
       " 'tray': 373,\n",
       " 'surfing': 374,\n",
       " 'mouth': 375,\n",
       " 'suitcase': 376,\n",
       " 'book': 377,\n",
       " 'animal': 378,\n",
       " 'him': 379,\n",
       " 'cut': 380,\n",
       " 'slice': 381,\n",
       " 'half': 382,\n",
       " 'shown': 383,\n",
       " 'made': 384,\n",
       " 'he': 385,\n",
       " 'preparing': 386,\n",
       " 'store': 387,\n",
       " 'rides': 388,\n",
       " 'screen': 389,\n",
       " 'bottle': 390,\n",
       " 'colored': 391,\n",
       " 'pulling': 392,\n",
       " 'bag': 393,\n",
       " 'scissors': 394,\n",
       " 'gray': 395,\n",
       " 'sleeping': 396,\n",
       " 'bridge': 397,\n",
       " 'batter': 398,\n",
       " 'donuts': 399,\n",
       " 'number': 400,\n",
       " 'dark': 401,\n",
       " 'zoo': 402,\n",
       " 'way': 403,\n",
       " 'look': 404,\n",
       " 'enclosure': 405,\n",
       " 'kids': 406,\n",
       " 'tub': 407,\n",
       " 'knife': 408,\n",
       " 'row': 409,\n",
       " 'surrounded': 410,\n",
       " 'sand': 411,\n",
       " 'microwave': 412,\n",
       " 'between': 413,\n",
       " 'toy': 414,\n",
       " 'play': 415,\n",
       " 'showing': 416,\n",
       " 'jacket': 417,\n",
       " 'adult': 418,\n",
       " 'carrots': 419,\n",
       " 'lined': 420,\n",
       " 'decorated': 421,\n",
       " 'pile': 422,\n",
       " 'few': 423,\n",
       " 'lake': 424,\n",
       " 'silver': 425,\n",
       " 'boys': 426,\n",
       " 'buses': 427,\n",
       " 'cabinets': 428,\n",
       " 'mouse': 429,\n",
       " 'walks': 430,\n",
       " 'meal': 431,\n",
       " 'older': 432,\n",
       " 'forest': 433,\n",
       " 'bread': 434,\n",
       " 'skiers': 435,\n",
       " 'seat': 436,\n",
       " 'purple': 437,\n",
       " 'past': 438,\n",
       " 'furniture': 439,\n",
       " 'hair': 440,\n",
       " 'oranges': 441,\n",
       " 'girls': 442,\n",
       " 'grey': 443,\n",
       " 'swing': 444,\n",
       " 'outdoor': 445,\n",
       " 'kid': 446,\n",
       " 'have': 447,\n",
       " 'cloudy': 448,\n",
       " 'waves': 449,\n",
       " 'throwing': 450,\n",
       " 'displayed': 451,\n",
       " 'coming': 452,\n",
       " 'attached': 453,\n",
       " 'chocolate': 454,\n",
       " 'drink': 455,\n",
       " 'photograph': 456,\n",
       " 'monitor': 457,\n",
       " 'onto': 458,\n",
       " 'fork': 459,\n",
       " 'leaning': 460,\n",
       " 'making': 461,\n",
       " 'crossing': 462,\n",
       " 'can': 463,\n",
       " 'dining': 464,\n",
       " 'cross': 465,\n",
       " 'shelf': 466,\n",
       " 'stone': 467,\n",
       " 'scene': 468,\n",
       " 'pan': 469,\n",
       " 'lit': 470,\n",
       " 'painted': 471,\n",
       " 'cats': 472,\n",
       " '\\n': 473,\n",
       " 'rocks': 474,\n",
       " 'drinking': 475,\n",
       " 'hitting': 476,\n",
       " 'birthday': 477,\n",
       " 'salad': 478,\n",
       " 'seen': 479,\n",
       " 'watch': 480,\n",
       " 'lush': 481,\n",
       " 'meter': 482,\n",
       " 'walls': 483,\n",
       " 'no': 484,\n",
       " 'female': 485,\n",
       " 'resting': 486,\n",
       " 'apples': 487,\n",
       " 'towards': 488,\n",
       " 'fruits': 489,\n",
       " 'market': 490,\n",
       " 'office': 491,\n",
       " 'apple': 492,\n",
       " 'public': 493,\n",
       " 'windows': 494,\n",
       " 'rain': 495,\n",
       " 'tables': 496,\n",
       " 'sunny': 497,\n",
       " 'fries': 498,\n",
       " 'bright': 499,\n",
       " 'dish': 500,\n",
       " 'clean': 501,\n",
       " 'flower': 502,\n",
       " 'plastic': 503,\n",
       " 'blanket': 504,\n",
       " 'leaves': 505,\n",
       " 'sun': 506,\n",
       " 'moving': 507,\n",
       " 'catch': 508,\n",
       " 'stopped': 509,\n",
       " 'surfboards': 510,\n",
       " 'books': 511,\n",
       " 'setting': 512,\n",
       " 'been': 513,\n",
       " 'edge': 514,\n",
       " 'bikes': 515,\n",
       " 'mountains': 516,\n",
       " 'snowboarder': 517,\n",
       " 'clear': 518,\n",
       " 'teeth': 519,\n",
       " 'beautiful': 520,\n",
       " 'pictures': 521,\n",
       " 'rail': 522,\n",
       " 'working': 523,\n",
       " 'donut': 524,\n",
       " 'dress': 525,\n",
       " 'ride': 526,\n",
       " 'statue': 527,\n",
       " 'underneath': 528,\n",
       " 'helmet': 529,\n",
       " 'platform': 530,\n",
       " 'trying': 531,\n",
       " 'slices': 532,\n",
       " 'rock': 533,\n",
       " 'bath': 534,\n",
       " 'uniform': 535,\n",
       " 'branch': 536,\n",
       " 'yard': 537,\n",
       " 'country': 538,\n",
       " 'time': 539,\n",
       " 'shot': 540,\n",
       " 'or': 541,\n",
       " 'controller': 542,\n",
       " 'eat': 543,\n",
       " 'motor': 544,\n",
       " 'pieces': 545,\n",
       " 'having': 546,\n",
       " 'nice': 547,\n",
       " 'skateboarding': 548,\n",
       " 'basket': 549,\n",
       " 'placed': 550,\n",
       " 'wet': 551,\n",
       " 'computers': 552,\n",
       " 'perched': 553,\n",
       " 'shows': 554,\n",
       " 'eaten': 555,\n",
       " 'cellphone': 556,\n",
       " 'case': 557,\n",
       " 'pitch': 558,\n",
       " 'cart': 559,\n",
       " 'passing': 560,\n",
       " 'shore': 561,\n",
       " 'base': 562,\n",
       " 'police': 563,\n",
       " 'path': 564,\n",
       " 'cooking': 565,\n",
       " 'surface': 566,\n",
       " 'sandy': 567,\n",
       " 'vehicle': 568,\n",
       " 'vases': 569,\n",
       " 'catcher': 570,\n",
       " 'hotel': 571,\n",
       " 'dinner': 572,\n",
       " 'family': 573,\n",
       " 'trains': 574,\n",
       " 'laptops': 575,\n",
       " 'modern': 576,\n",
       " 'they': 577,\n",
       " 'doughnut': 578,\n",
       " 'plant': 579,\n",
       " 'lap': 580,\n",
       " 'boards': 581,\n",
       " 'beer': 582,\n",
       " 'tiled': 583,\n",
       " 'pizzas': 584,\n",
       " 'types': 585,\n",
       " 'brushing': 586,\n",
       " 'just': 587,\n",
       " 'reading': 588,\n",
       " 'benches': 589,\n",
       " 'sauce': 590,\n",
       " 'toppings': 591,\n",
       " 'multiple': 592,\n",
       " 'single': 593,\n",
       " 'lamp': 594,\n",
       " 'nintendo': 595,\n",
       " 'watches': 596,\n",
       " 'town': 597,\n",
       " 'others': 598,\n",
       " 'doughnuts': 599,\n",
       " 'engine': 600,\n",
       " 'pitcher': 601,\n",
       " 'plants': 602,\n",
       " 'variety': 603,\n",
       " 'mounted': 604,\n",
       " 'fresh': 605,\n",
       " 'enjoying': 606,\n",
       " 'post': 607,\n",
       " 'guys': 608,\n",
       " 'trucks': 609,\n",
       " 'bowls': 610,\n",
       " 'jump': 611,\n",
       " 'pretty': 612,\n",
       " 'bathtub': 613,\n",
       " 'distance': 614,\n",
       " 'tarmac': 615,\n",
       " 'phones': 616,\n",
       " 'passengers': 617,\n",
       " 'gear': 618,\n",
       " 'end': 619,\n",
       " 'graffiti': 620,\n",
       " 'performing': 621,\n",
       " 'shoes': 622,\n",
       " 'woods': 623,\n",
       " 'appliances': 624,\n",
       " 'gathered': 625,\n",
       " 'cute': 626,\n",
       " 'place': 627,\n",
       " 'rice': 628,\n",
       " 'tricks': 629,\n",
       " 'well': 630,\n",
       " 'curb': 631,\n",
       " 'fenced': 632,\n",
       " 'left': 633,\n",
       " 'containing': 634,\n",
       " 'pen': 635,\n",
       " 'candles': 636,\n",
       " 'five': 637,\n",
       " 'chicken': 638,\n",
       " 'shop': 639,\n",
       " 'bottles': 640,\n",
       " 'carriage': 641,\n",
       " 'flies': 642,\n",
       " 'feeding': 643,\n",
       " 'bags': 644,\n",
       " 'toothbrush': 645,\n",
       " 'railroad': 646,\n",
       " 'dirty': 647,\n",
       " 'pot': 648,\n",
       " 'pasture': 649,\n",
       " 'tile': 650,\n",
       " 'concrete': 651,\n",
       " 'take': 652,\n",
       " 'below': 653,\n",
       " 'poles': 654,\n",
       " 'brush': 655,\n",
       " 'cattle': 656,\n",
       " 'neck': 657,\n",
       " 'dock': 658,\n",
       " 'match': 659,\n",
       " 'right': 660,\n",
       " 'including': 661,\n",
       " 'drinks': 662,\n",
       " 'steel': 663,\n",
       " 'after': 664,\n",
       " 'pillows': 665,\n",
       " 'fireplace': 666,\n",
       " 'control': 667,\n",
       " 'school': 668,\n",
       " 'fly': 669,\n",
       " 'takes': 670,\n",
       " 'shaped': 671,\n",
       " 'sofa': 672,\n",
       " 'striped': 673,\n",
       " 'crowded': 674,\n",
       " 'she': 675,\n",
       " 'vintage': 676,\n",
       " 'bar': 677,\n",
       " 'pulled': 678,\n",
       " 'rack': 679,\n",
       " 'alone': 680,\n",
       " 'dry': 681,\n",
       " 'center': 682,\n",
       " 'nearby': 683,\n",
       " 'boxes': 684,\n",
       " 'sandwiches': 685,\n",
       " 'flat': 686,\n",
       " 'polar': 687,\n",
       " 'beds': 688,\n",
       " 'huge': 689,\n",
       " 'fridge': 690,\n",
       " 'catching': 691,\n",
       " 'skateboards': 692,\n",
       " 'trunk': 693,\n",
       " 'planes': 694,\n",
       " 'sliced': 695,\n",
       " 'feet': 696,\n",
       " 'arm': 697,\n",
       " 'container': 698,\n",
       " 'church': 699,\n",
       " 'sinks': 700,\n",
       " 'style': 701,\n",
       " 'equipment': 702,\n",
       " 'suitcases': 703,\n",
       " 'bicycles': 704,\n",
       " 'vehicles': 705,\n",
       " 'both': 706,\n",
       " 'served': 707,\n",
       " 'reaching': 708,\n",
       " 'putting': 709,\n",
       " 'giant': 710,\n",
       " 'bushes': 711,\n",
       " 'plays': 712,\n",
       " 'where': 713,\n",
       " 'floating': 714,\n",
       " 'asian': 715,\n",
       " 'tomatoes': 716,\n",
       " 'smiles': 717,\n",
       " 'legs': 718,\n",
       " 'poses': 719,\n",
       " 'atop': 720,\n",
       " 'cream': 721,\n",
       " 'surfers': 722,\n",
       " 'away': 723,\n",
       " 'towel': 724,\n",
       " 'clothes': 725,\n",
       " 'sticking': 726,\n",
       " 'serve': 727,\n",
       " 'mid': 728,\n",
       " 'dishes': 729,\n",
       " 'taken': 730,\n",
       " 'professional': 731,\n",
       " 'prepares': 732,\n",
       " 'not': 733,\n",
       " 'lays': 734,\n",
       " 'airplanes': 735,\n",
       " 'hay': 736,\n",
       " 'potatoes': 737,\n",
       " 'space': 738,\n",
       " 'staring': 739,\n",
       " 'commercial': 740,\n",
       " 'wild': 741,\n",
       " 'run': 742,\n",
       " 'work': 743,\n",
       " 'serving': 744,\n",
       " 'foods': 745,\n",
       " 'cabinet': 746,\n",
       " 'pose': 747,\n",
       " 'spoon': 748,\n",
       " 'breakfast': 749,\n",
       " 'which': 750,\n",
       " 'cement': 751,\n",
       " 'trail': 752,\n",
       " 'round': 753,\n",
       " 'shorts': 754,\n",
       " 'subway': 755,\n",
       " 'backpack': 756,\n",
       " 'show': 757,\n",
       " 'christmas': 758,\n",
       " 'stacked': 759,\n",
       " 'painting': 760,\n",
       " 'reflection': 761,\n",
       " 'wire': 762,\n",
       " 'lone': 763,\n",
       " 'square': 764,\n",
       " 'mother': 765,\n",
       " 'pool': 766,\n",
       " 'cooked': 767,\n",
       " 'same': 768,\n",
       " 'toward': 769,\n",
       " 'french': 770,\n",
       " 'dessert': 771,\n",
       " 'cluttered': 772,\n",
       " 'soup': 773,\n",
       " 'throw': 774,\n",
       " 'pillow': 775,\n",
       " 'seated': 776,\n",
       " 'umpire': 777,\n",
       " 'highway': 778,\n",
       " 'swings': 779,\n",
       " 'outdoors': 780,\n",
       " 'games': 781,\n",
       " 'docked': 782,\n",
       " 'swimming': 783,\n",
       " 'flag': 784,\n",
       " 'boarding': 785,\n",
       " 'sunglasses': 786,\n",
       " 'clocks': 787,\n",
       " 'wedding': 788,\n",
       " 'couches': 789,\n",
       " 'rug': 790,\n",
       " 'blender': 791,\n",
       " 'go': 792,\n",
       " 'hotdog': 793,\n",
       " 'get': 794,\n",
       " 'garden': 795,\n",
       " 'assortment': 796,\n",
       " 'adults': 797,\n",
       " 'business': 798,\n",
       " 'van': 799,\n",
       " 'stall': 800,\n",
       " 'drawn': 801,\n",
       " 'controllers': 802,\n",
       " 'foot': 803,\n",
       " 'bun': 804,\n",
       " 'among': 805,\n",
       " 'drives': 806,\n",
       " 'low': 807,\n",
       " 'hillside': 808,\n",
       " 'doors': 809,\n",
       " 'ice': 810,\n",
       " 'team': 811,\n",
       " 'shelves': 812,\n",
       " 'trash': 813,\n",
       " 'military': 814,\n",
       " 'rocky': 815,\n",
       " 'restroom': 816,\n",
       " 'onions': 817,\n",
       " 'flock': 818,\n",
       " 'ledge': 819,\n",
       " 'desktop': 820,\n",
       " 'kitten': 821,\n",
       " 'eyes': 822,\n",
       " 'wooded': 823,\n",
       " 'stainless': 824,\n",
       " 'skies': 825,\n",
       " 'facing': 826,\n",
       " 'jumps': 827,\n",
       " 'lawn': 828,\n",
       " 'stairs': 829,\n",
       " 'see': 830,\n",
       " 'fish': 831,\n",
       " 'eats': 832,\n",
       " 'things': 833,\n",
       " 'desert': 834,\n",
       " 'pointing': 835,\n",
       " 'clouds': 836,\n",
       " 'assorted': 837,\n",
       " 'before': 838,\n",
       " 'gate': 839,\n",
       " 'eggs': 840,\n",
       " 'cups': 841,\n",
       " 'race': 842,\n",
       " 'closeup': 843,\n",
       " 'ceiling': 844,\n",
       " 'event': 845,\n",
       " 'glove': 846,\n",
       " 'steps': 847,\n",
       " 'turn': 848,\n",
       " 'construction': 849,\n",
       " 'fashioned': 850,\n",
       " 'says': 851,\n",
       " 'coat': 852,\n",
       " 'land': 853,\n",
       " 'arms': 854,\n",
       " 'rackets': 855,\n",
       " 'arranged': 856,\n",
       " 'toddler': 857,\n",
       " 'party': 858,\n",
       " 'picnic': 859,\n",
       " 'snowboarding': 860,\n",
       " 'broken': 861,\n",
       " 'curtain': 862,\n",
       " 'lunch': 863,\n",
       " 'landing': 864,\n",
       " 'floors': 865,\n",
       " 'pond': 866,\n",
       " 'electronic': 867,\n",
       " 'monitors': 868,\n",
       " 'closed': 869,\n",
       " 'overlooking': 870,\n",
       " 'friends': 871,\n",
       " 'type': 872,\n",
       " 'vegetable': 873,\n",
       " 'pots': 874,\n",
       " 'tied': 875,\n",
       " 'kneeling': 876,\n",
       " 'new': 877,\n",
       " 'cage': 878,\n",
       " 'graze': 879,\n",
       " 'does': 880,\n",
       " 'boarder': 881,\n",
       " 'tan': 882,\n",
       " 'wide': 883,\n",
       " 'roof': 884,\n",
       " 'bottom': 885,\n",
       " 'narrow': 886,\n",
       " 'pasta': 887,\n",
       " 'messy': 888,\n",
       " 'overhead': 889,\n",
       " 'kind': 890,\n",
       " 'colors': 891,\n",
       " 'skating': 892,\n",
       " 'reads': 893,\n",
       " 'himself': 894,\n",
       " 'machine': 895,\n",
       " 'fancy': 896,\n",
       " 'trailer': 897,\n",
       " 'rider': 898,\n",
       " 'sale': 899,\n",
       " 'sides': 900,\n",
       " 'hold': 901,\n",
       " 'cakes': 902,\n",
       " 'cloth': 903,\n",
       " 'suits': 904,\n",
       " 'gold': 905,\n",
       " 'appears': 906,\n",
       " 'object': 907,\n",
       " 'towels': 908,\n",
       " 'make': 909,\n",
       " 'plain': 910,\n",
       " 'leather': 911,\n",
       " 'ties': 912,\n",
       " 'veggies': 913,\n",
       " 'transit': 914,\n",
       " 'sunset': 915,\n",
       " 'bite': 916,\n",
       " 'walkway': 917,\n",
       " 'features': 918,\n",
       " 'was': 919,\n",
       " 'ear': 920,\n",
       " 'pants': 921,\n",
       " 'foreground': 922,\n",
       " 'partially': 923,\n",
       " 'shade': 924,\n",
       " 'action': 925,\n",
       " 'pastries': 926,\n",
       " 'net': 927,\n",
       " 'antique': 928,\n",
       " 'loaded': 929,\n",
       " 'pie': 930,\n",
       " 'urban': 931,\n",
       " 'short': 932,\n",
       " 'pepperoni': 933,\n",
       " 'rest': 934,\n",
       " 'photos': 935,\n",
       " 'toilets': 936,\n",
       " 'carrot': 937,\n",
       " 'sea': 938,\n",
       " 'held': 939,\n",
       " 'commuter': 940,\n",
       " 'clothing': 941,\n",
       " 'wrapped': 942,\n",
       " 'ship': 943,\n",
       " 'still': 944,\n",
       " 'scooter': 945,\n",
       " 'baked': 946,\n",
       " 'palm': 947,\n",
       " 'toys': 948,\n",
       " 'device': 949,\n",
       " 'hole': 950,\n",
       " 'doorway': 951,\n",
       " 'beneath': 952,\n",
       " 'what': 953,\n",
       " 'leash': 954,\n",
       " 'lies': 955,\n",
       " 'racing': 956,\n",
       " 'signal': 957,\n",
       " 'pastry': 958,\n",
       " 'smoke': 959,\n",
       " 'kinds': 960,\n",
       " 'blurry': 961,\n",
       " 'tour': 962,\n",
       " 'gets': 963,\n",
       " 'chips': 964,\n",
       " 'harbor': 965,\n",
       " 'contains': 966,\n",
       " 'decorative': 967,\n",
       " 'pedestrians': 968,\n",
       " 'tomato': 969,\n",
       " 'bow': 970,\n",
       " 'giving': 971,\n",
       " 'structure': 972,\n",
       " 'fighter': 973,\n",
       " 'grill': 974,\n",
       " 'houses': 975,\n",
       " 'pier': 976,\n",
       " 'model': 977,\n",
       " 'used': 978,\n",
       " 'outfit': 979,\n",
       " 'lettuce': 980,\n",
       " 'petting': 981,\n",
       " 'winter': 982,\n",
       " 'island': 983,\n",
       " 'peppers': 984,\n",
       " 'garage': 985,\n",
       " 'deck': 986,\n",
       " 'part': 987,\n",
       " 'includes': 988,\n",
       " 'sail': 989,\n",
       " 'rests': 990,\n",
       " 'sized': 991,\n",
       " 'farm': 992,\n",
       " 'hard': 993,\n",
       " 'railing': 994,\n",
       " 'containers': 995,\n",
       " 'leading': 996,\n",
       " 'streets': 997,\n",
       " 'opened': 998,\n",
       " 't': 999,\n",
       " 'prepared': 1000,\n",
       " 'apartment': 1001,\n",
       " ...}"
      ]
     },
     "execution_count": 33,
     "metadata": {},
     "output_type": "execute_result"
    }
   ],
   "source": [
    "word2idx_topk"
   ]
  },
  {
   "cell_type": "code",
   "execution_count": null,
   "metadata": {},
   "outputs": [],
   "source": []
  },
  {
   "cell_type": "code",
   "execution_count": 34,
   "metadata": {},
   "outputs": [],
   "source": [
    "\n",
    "# load embedding from file\n",
    "embedded_words = {}\n",
    "with open('embeddings/GloVe.6B.200d/glove.6B.300d.txt', 'r' ) as glove_file:\n",
    "    for (i, line) in enumerate(glove_file):\n",
    "        split = line.split(' ')\n",
    "            \n",
    "        word = split[0]\n",
    "        representation = split[1:]\n",
    "        representation = np.array([float(val) for val in representation] )\n",
    "        \n",
    "        embedded_words[word] = representation\n",
    "\n",
    "\n",
    "# create an embedding matrix from only the known words\n",
    "EMBEDDING_MATRIX = np.zeros((len(word2idx_topk) , EMBED_DIM))\n",
    "\n",
    "\n",
    "for word, idx  in word2idx_topk.items():\n",
    "    if word in embedded_words:\n",
    "        if idx < EMBEDDING_MATRIX.shape[0]:\n",
    "            EMBEDDING_MATRIX[idx] = embedded_words[word]\n",
    "    elif word == '<stop>':\n",
    "        EMBEDDING_MATRIX[idx] = embedded_words['stop']\n",
    "    elif word == '<start>':\n",
    "        EMBEDDING_MATRIX[idx] = embedded_words['start']\n",
    "    elif word == '<pad>':\n",
    "        #EMBEDDING_MATRIX[word] = np.zeros(300)\n",
    "        EMBEDDING_MATRIX[idx] = embedded_words['pad']\n",
    "    elif word == '<unk>':\n",
    "        EMBEDDING_MATRIX[idx] = embedded_words['unknown']\n",
    "    else:\n",
    "        # words not in the embedding matrix are set to zeros\n",
    "        EMBEDDING_MATRIX[idx] = np.zeros(300)"
   ]
  },
  {
   "cell_type": "markdown",
   "metadata": {
    "colab_type": "text",
    "id": "uEWM9xrYcg45"
   },
   "source": [
    "## Create a tf.data dataset for training\n"
   ]
  },
  {
   "cell_type": "code",
   "execution_count": 35,
   "metadata": {
    "colab": {},
    "colab_type": "code",
    "id": "Q3TnZ1ToRPGV"
   },
   "outputs": [],
   "source": [
    "# Feel free to change these parameters according to your system's configuration\n",
    "\n",
    "BATCH_SIZE = 32\n",
    "BUFFER_SIZE = 1000\n",
    "EMBED_DIM = 300\n",
    "\n",
    "units = 512\n",
    "vocab_size = top_k + 1\n",
    "num_steps = len(img_name_train) // BATCH_SIZE\n",
    "\n",
    "# Shape of the vector extracted from VGG is (25 (5x5), 512)\n",
    "features_shape = 512\n",
    "attention_features_shape = 25"
   ]
  },
  {
   "cell_type": "code",
   "execution_count": 36,
   "metadata": {},
   "outputs": [],
   "source": [
    "dataset = tf.data.Dataset.from_tensor_slices((img_name_train, train_seqs))"
   ]
  },
  {
   "cell_type": "code",
   "execution_count": 37,
   "metadata": {
    "colab": {},
    "colab_type": "code",
    "id": "FDF_Nm3tRPGZ"
   },
   "outputs": [],
   "source": [
    "# Load the numpy files\n",
    "def map_image(img_name, sentence):\n",
    "    \"\"\" image name to tensor \"\"\"\n",
    "    img_tensor = np.load(img_name.decode('utf-8')+'.npy')\n",
    "    return img_tensor, sentence\n",
    "\n",
    "\n",
    "# Use map to load the numpy files\n",
    "dataset = dataset.map(lambda image_name, sentence: tf.numpy_function(\n",
    "          map_image, [image_name, sentence], [tf.float32, tf.int32]),\n",
    "          num_parallel_calls=tf.data.experimental.AUTOTUNE) # load in parallel\n",
    "\n",
    "# Shuffle and batch\n",
    "dataset = dataset.shuffle(BUFFER_SIZE).batch(BATCH_SIZE)\n",
    "dataset = dataset.prefetch(buffer_size=tf.data.experimental.AUTOTUNE)"
   ]
  },
  {
   "cell_type": "markdown",
   "metadata": {
    "colab_type": "text",
    "id": "nrvoDphgRPGd"
   },
   "source": [
    "## Model\n",
    "\n",
    "Die Architektur folgt in etwa [Show, Attend and Tell](https://arxiv.org/pdf/1502.03044.pdf) sowie dem Tensorflow [Exposé](https://www.tensorflow.org/tutorials/text/image_captioning) .\n",
    "\n",
    "* Features kommen aus dem letzten convolutional layer des VGG16\n",
    "* Reshape zu (25, 512).\n",
    "* Danach läuft das ganze durch einen CNN Encoder.\n",
    "* The RNN (LSTM) verwendet Attention mapping via [Bahdanau](https://arxiv.org/pdf/1409.0473.pdf)."
   ]
  },
  {
   "cell_type": "code",
   "execution_count": 52,
   "metadata": {
    "colab": {},
    "colab_type": "code",
    "id": "ja2LFTMSdeV3"
   },
   "outputs": [],
   "source": [
    "class BahdanauAttention(tf.keras.Model):\n",
    "    def __init__(self, units):\n",
    "        super(BahdanauAttention, self).__init__()\n",
    "        self.W1 = tf.keras.layers.Dense(units)\n",
    "        self.W2 = tf.keras.layers.Dense(units)\n",
    "        self.V = tf.keras.layers.Dense(1)\n",
    "\n",
    "    def call(self, features, hidden):\n",
    "        # features(CNN_encoder output) shape == (batch_size, feature_size, embedding_dim)\n",
    "\n",
    "        # hidden shape == (batch_size, hidden_size)\n",
    "        \n",
    "        # Bahdanau adds a time axis for orientation\n",
    "        # hidden_with_time_axis shape == (batch_size, 1, hidden_size)\n",
    "        hidden_with_time_axis = tf.expand_dims(hidden, 1)\n",
    "\n",
    "        # And a scoring system\n",
    "        # score shape == (batch_size, 25 , hidden_size)\n",
    "        score = tf.nn.tanh(self.W1(features) + self.W2(hidden_with_time_axis))\n",
    "\n",
    "        # attention_weights shape == (batch_size, 64, 1)\n",
    "        # get the attention weights,  (softmax) apply score to self.V \n",
    "        attention_weights = tf.nn.softmax(self.V(score), axis=1)\n",
    "\n",
    "        # context_vector shape after sum == (batch_size, hidden_size)\n",
    "        context_vector = attention_weights * features\n",
    "        context_vector = tf.reduce_sum(context_vector, axis=1)\n",
    "\n",
    "        return context_vector, attention_weights"
   ]
  },
  {
   "cell_type": "code",
   "execution_count": 53,
   "metadata": {
    "colab": {},
    "colab_type": "code",
    "id": "AZ7R1RxHRPGf"
   },
   "outputs": [],
   "source": [
    "class CNN_Encoder(tf.keras.Model):\n",
    "    # Since you have already extracted the features and dumped it using pickle\n",
    "    # This encoder passes those features through a Fully connected layer\n",
    "    def __init__(self, EMBED_DIM):\n",
    "        super(CNN_Encoder, self).__init__()\n",
    "        # shape after fc == (batch_size, 25, embedding_dim)\n",
    "        self.fc = Dense(EMBED_DIM) #, activation='relu'\n",
    "\n",
    "    def call(self, x):\n",
    "        \n",
    "        \n",
    "        x = self.fc(x)\n",
    "        \n",
    "        \n",
    "        \n",
    "        x = tf.nn.relu(x)\n",
    "        return x"
   ]
  },
  {
   "cell_type": "code",
   "execution_count": 54,
   "metadata": {},
   "outputs": [
    {
     "data": {
      "text/plain": [
       "(6001, 300)"
      ]
     },
     "execution_count": 54,
     "metadata": {},
     "output_type": "execute_result"
    }
   ],
   "source": [
    "EMBEDDING_MATRIX.shape"
   ]
  },
  {
   "cell_type": "code",
   "execution_count": 55,
   "metadata": {
    "colab": {},
    "colab_type": "code",
    "id": "V9UbGQmERPGi"
   },
   "outputs": [],
   "source": [
    "class RNN_Decoder(tf.keras.Model):\n",
    "    def __init__(self, embedding_dim, units, vocab_size):\n",
    "        super(RNN_Decoder, self).__init__()\n",
    "        self.units = units\n",
    "\n",
    "        # Preset the embedding weights\n",
    "        self.embedding = Embedding(vocab_size, \n",
    "                                               embedding_dim,\n",
    "                                               embeddings_initializer =tf.keras.initializers.Constant(EMBEDDING_MATRIX), \n",
    "                                               trainable=False \n",
    "                                  )\n",
    "        \n",
    "        self.LSTM = LSTM(self.units,\n",
    "                                   return_sequences=True,\n",
    "                                   return_state=True,\n",
    "                                   recurrent_initializer='glorot_uniform')\n",
    "        \n",
    "        \n",
    "        \n",
    "        self.fc1 = Dense(self.units)\n",
    "        self.fc2 = Dense(vocab_size)\n",
    "\n",
    "        self.attention = BahdanauAttention(self.units)\n",
    "\n",
    "    def call(self, x, features, hidden):\n",
    "        # defining attention as a separate model\n",
    "        context_vector, attention_weights = self.attention(features, hidden)\n",
    "\n",
    "        # x shape after passing through embedding == (batch_size, 1, embedding_dim)\n",
    "        x = self.embedding(x)\n",
    "\n",
    "        # x shape after concatenation == (batch_size, 1, embedding_dim + hidden_size)\n",
    "        x = tf.concat([tf.expand_dims(context_vector, 1), x], axis=-1)\n",
    "\n",
    "        # passing the concatenated vector to the GRU\n",
    "        output, _ , state = self.LSTM(x)\n",
    "\n",
    "        # shape == (batch_size, max_length, hidden_size)\n",
    "        x = self.fc1(output)\n",
    "\n",
    "        # x shape == (batch_size * max_length, hidden_size)\n",
    "        x = tf.reshape(x, (-1, x.shape[2]))\n",
    "\n",
    "        # output shape == (batch_size * max_length, vocab)\n",
    "        x = self.fc2(x)\n",
    "\n",
    "        return x, state, attention_weights\n",
    "\n",
    "    def reset_state(self, batch_size):\n",
    "        return tf.zeros((batch_size, self.units))"
   ]
  },
  {
   "cell_type": "code",
   "execution_count": 56,
   "metadata": {
    "colab": {},
    "colab_type": "code",
    "id": "Qs_Sr03wRPGk"
   },
   "outputs": [],
   "source": [
    "units = 300\n",
    "encoder = CNN_Encoder(EMBED_DIM)\n",
    "decoder = RNN_Decoder(EMBED_DIM, units, vocab_size)"
   ]
  },
  {
   "cell_type": "code",
   "execution_count": 57,
   "metadata": {
    "colab": {},
    "colab_type": "code",
    "id": "-bYN7xA0RPGl"
   },
   "outputs": [],
   "source": [
    "optimizer = tf.keras.optimizers.Adam(learning_rate=0.0005)\n",
    "loss_object = tf.keras.losses.SparseCategoricalCrossentropy(\n",
    "    from_logits=True, reduction='none')\n",
    "\n",
    "def loss_function(real, pred):\n",
    "    mask = tf.math.logical_not(tf.math.equal(real, 0))\n",
    "    loss_ = loss_object(real, pred)\n",
    "\n",
    "    mask = tf.cast(mask, dtype=loss_.dtype)\n",
    "    loss_ *= mask\n",
    "\n",
    "    return tf.reduce_mean(loss_)"
   ]
  },
  {
   "cell_type": "markdown",
   "metadata": {
    "colab_type": "text",
    "id": "6A3Ni64joyab"
   },
   "source": [
    "## Checkpoint"
   ]
  },
  {
   "cell_type": "code",
   "execution_count": 58,
   "metadata": {
    "colab": {},
    "colab_type": "code",
    "id": "PpJAqPMWo0uE"
   },
   "outputs": [],
   "source": [
    "checkpoint_path = \"./checkpoints/train\"\n",
    "ckpt = tf.train.Checkpoint(encoder=encoder,\n",
    "                           decoder=decoder,\n",
    "                           optimizer = optimizer)\n",
    "ckpt_manager = tf.train.CheckpointManager(ckpt, checkpoint_path, max_to_keep=5)"
   ]
  },
  {
   "cell_type": "code",
   "execution_count": 59,
   "metadata": {
    "colab": {},
    "colab_type": "code",
    "id": "fUkbqhc_uObw"
   },
   "outputs": [],
   "source": [
    "start_epoch = 0\n",
    "#if ckpt_manager.latest_checkpoint:\n",
    "#    start_epoch = int(ckpt_manager.latest_checkpoint.split('-')[-1])\n",
    "    # restoring the latest checkpoint in checkpoint_path\n",
    "#    ckpt.restore(ckpt_manager.latest_checkpoint)"
   ]
  },
  {
   "cell_type": "markdown",
   "metadata": {
    "colab_type": "text",
    "id": "PHod7t72RPGn"
   },
   "source": [
    "## Training\n",
    "\n",
    "Der Output des Encoders , hidden states(initialisiert zu 0) und der Decoder input (start token) werden an den Decoder gereicht.\n",
    "\n",
    "Dieser macht vorhersagen und gibt den hidden state zurück um den Loss zu berechnen.\n",
    "\n",
    "Sogenanntes 'Teacher foring' wird verwendet um den Decoder zu trainieren. Dabei wird dem Decoder das reale nächste Label als Trainingsziel gereicht.\n",
    "\n"
   ]
  },
  {
   "cell_type": "code",
   "execution_count": 60,
   "metadata": {
    "colab": {},
    "colab_type": "code",
    "id": "sqgyz2ANKlpU"
   },
   "outputs": [],
   "source": [
    "@tf.function\n",
    "def train_step(img_tensor, target):\n",
    "    loss = 0\n",
    "\n",
    "    # initializing the hidden state for each batch\n",
    "    hidden = decoder.reset_state(batch_size=target.shape[0])\n",
    "\n",
    "    # create an empty sequence with a start token\n",
    "    dec_input = tf.expand_dims([tokenizer.word_index['<start>']] * target.shape[0], 1)\n",
    "\n",
    "    with tf.GradientTape() as tape:\n",
    "        \n",
    "        # VGG features + 1 dense layer\n",
    "        \n",
    "        features = encoder(img_tensor)\n",
    "\n",
    "        # For every word in the target sentence\n",
    "        for i in range(1, target.shape[1]):\n",
    "            \n",
    "            # passing the features through the decoder\n",
    "            predictions, hidden, _ = decoder(dec_input, features, hidden)\n",
    "\n",
    "            loss += loss_function(target[:, i], predictions)\n",
    "\n",
    "            # Teacher forcing\n",
    "            dec_input = tf.expand_dims(target[:, i], 1)\n",
    "\n",
    "    \n",
    "    total_loss = (loss / int(target.shape[1]))\n",
    "\n",
    "    trainable_variables = encoder.trainable_variables + decoder.trainable_variables\n",
    "\n",
    "    gradients = tape.gradient(loss, trainable_variables)\n",
    "\n",
    "    optimizer.apply_gradients(zip(gradients, trainable_variables))\n",
    "\n",
    "    return loss, total_loss"
   ]
  },
  {
   "cell_type": "code",
   "execution_count": 61,
   "metadata": {},
   "outputs": [],
   "source": [
    "#!pip install --upgrade numpy"
   ]
  },
  {
   "cell_type": "code",
   "execution_count": 62,
   "metadata": {
    "colab": {},
    "colab_type": "code",
    "id": "UlA4VIQpRPGo",
    "scrolled": true
   },
   "outputs": [
    {
     "name": "stdout",
     "output_type": "stream",
     "text": [
      "Epoch 1 Batch 0 Loss 4.819198226928711\n",
      "Epoch 1 Batch 1000 Loss 1.970599365234375\n",
      "Epoch 1 Batch 2000 Loss 1.986009407043457\n",
      "Epoch 1 Batch 3000 Loss 1.9780179977416992\n",
      "Epoch 1 Batch 4000 Loss 1.9057872772216797\n",
      "Epoch 1 Batch 5000 Loss 1.896417999267578\n",
      "Epoch 1 Batch 6000 Loss 2.133236312866211\n",
      "Epoch 1 Batch 7000 Loss 1.6321372985839844\n"
     ]
    },
    {
     "ename": "InvalidArgumentError",
     "evalue": "ValueError: Cannot load file containing pickled data when allow_pickle=False\nTraceback (most recent call last):\n\n  File \"/home/ethuer/anaconda3/envs/tf2/lib/python3.7/site-packages/tensorflow_core/python/ops/script_ops.py\", line 236, in __call__\n    ret = func(*args)\n\n  File \"<ipython-input-37-c51acc346937>\", line 4, in map_image\n    img_tensor = np.load(img_name.decode('utf-8')+'.npy')\n\n  File \"/home/ethuer/anaconda3/envs/tf2/lib/python3.7/site-packages/numpy/lib/npyio.py\", line 457, in load\n    raise ValueError(\"Cannot load file containing pickled data \"\n\nValueError: Cannot load file containing pickled data when allow_pickle=False\n\n\n\t [[{{node PyFunc}}]]",
     "output_type": "error",
     "traceback": [
      "\u001b[0;31m---------------------------------------------------------------------------\u001b[0m",
      "\u001b[0;31mInvalidArgumentError\u001b[0m                      Traceback (most recent call last)",
      "\u001b[0;32m~/anaconda3/envs/tf2/lib/python3.7/site-packages/tensorflow_core/python/eager/context.py\u001b[0m in \u001b[0;36mexecution_mode\u001b[0;34m(mode)\u001b[0m\n\u001b[1;32m   1896\u001b[0m     \u001b[0mctx\u001b[0m\u001b[0;34m.\u001b[0m\u001b[0mexecutor\u001b[0m \u001b[0;34m=\u001b[0m \u001b[0mexecutor_new\u001b[0m\u001b[0;34m\u001b[0m\u001b[0;34m\u001b[0m\u001b[0m\n\u001b[0;32m-> 1897\u001b[0;31m     \u001b[0;32myield\u001b[0m\u001b[0;34m\u001b[0m\u001b[0;34m\u001b[0m\u001b[0m\n\u001b[0m\u001b[1;32m   1898\u001b[0m   \u001b[0;32mfinally\u001b[0m\u001b[0;34m:\u001b[0m\u001b[0;34m\u001b[0m\u001b[0;34m\u001b[0m\u001b[0m\n",
      "\u001b[0;32m~/anaconda3/envs/tf2/lib/python3.7/site-packages/tensorflow_core/python/data/ops/iterator_ops.py\u001b[0m in \u001b[0;36m_next_internal\u001b[0;34m(self)\u001b[0m\n\u001b[1;32m    658\u001b[0m             \u001b[0moutput_types\u001b[0m\u001b[0;34m=\u001b[0m\u001b[0mself\u001b[0m\u001b[0;34m.\u001b[0m\u001b[0m_flat_output_types\u001b[0m\u001b[0;34m,\u001b[0m\u001b[0;34m\u001b[0m\u001b[0;34m\u001b[0m\u001b[0m\n\u001b[0;32m--> 659\u001b[0;31m             output_shapes=self._flat_output_shapes)\n\u001b[0m\u001b[1;32m    660\u001b[0m \u001b[0;34m\u001b[0m\u001b[0m\n",
      "\u001b[0;32m~/anaconda3/envs/tf2/lib/python3.7/site-packages/tensorflow_core/python/ops/gen_dataset_ops.py\u001b[0m in \u001b[0;36miterator_get_next_sync\u001b[0;34m(iterator, output_types, output_shapes, name)\u001b[0m\n\u001b[1;32m   2478\u001b[0m     \u001b[0;32mexcept\u001b[0m \u001b[0m_core\u001b[0m\u001b[0;34m.\u001b[0m\u001b[0m_NotOkStatusException\u001b[0m \u001b[0;32mas\u001b[0m \u001b[0me\u001b[0m\u001b[0;34m:\u001b[0m\u001b[0;34m\u001b[0m\u001b[0;34m\u001b[0m\u001b[0m\n\u001b[0;32m-> 2479\u001b[0;31m       \u001b[0m_ops\u001b[0m\u001b[0;34m.\u001b[0m\u001b[0mraise_from_not_ok_status\u001b[0m\u001b[0;34m(\u001b[0m\u001b[0me\u001b[0m\u001b[0;34m,\u001b[0m \u001b[0mname\u001b[0m\u001b[0;34m)\u001b[0m\u001b[0;34m\u001b[0m\u001b[0;34m\u001b[0m\u001b[0m\n\u001b[0m\u001b[1;32m   2480\u001b[0m   \u001b[0;31m# Add nodes to the TensorFlow graph.\u001b[0m\u001b[0;34m\u001b[0m\u001b[0;34m\u001b[0m\u001b[0;34m\u001b[0m\u001b[0m\n",
      "\u001b[0;32m~/anaconda3/envs/tf2/lib/python3.7/site-packages/tensorflow_core/python/framework/ops.py\u001b[0m in \u001b[0;36mraise_from_not_ok_status\u001b[0;34m(e, name)\u001b[0m\n\u001b[1;32m   6605\u001b[0m   \u001b[0;31m# pylint: disable=protected-access\u001b[0m\u001b[0;34m\u001b[0m\u001b[0;34m\u001b[0m\u001b[0;34m\u001b[0m\u001b[0m\n\u001b[0;32m-> 6606\u001b[0;31m   \u001b[0msix\u001b[0m\u001b[0;34m.\u001b[0m\u001b[0mraise_from\u001b[0m\u001b[0;34m(\u001b[0m\u001b[0mcore\u001b[0m\u001b[0;34m.\u001b[0m\u001b[0m_status_to_exception\u001b[0m\u001b[0;34m(\u001b[0m\u001b[0me\u001b[0m\u001b[0;34m.\u001b[0m\u001b[0mcode\u001b[0m\u001b[0;34m,\u001b[0m \u001b[0mmessage\u001b[0m\u001b[0;34m)\u001b[0m\u001b[0;34m,\u001b[0m \u001b[0;32mNone\u001b[0m\u001b[0;34m)\u001b[0m\u001b[0;34m\u001b[0m\u001b[0;34m\u001b[0m\u001b[0m\n\u001b[0m\u001b[1;32m   6607\u001b[0m   \u001b[0;31m# pylint: enable=protected-access\u001b[0m\u001b[0;34m\u001b[0m\u001b[0;34m\u001b[0m\u001b[0;34m\u001b[0m\u001b[0m\n",
      "\u001b[0;32m~/anaconda3/envs/tf2/lib/python3.7/site-packages/six.py\u001b[0m in \u001b[0;36mraise_from\u001b[0;34m(value, from_value)\u001b[0m\n",
      "\u001b[0;31mInvalidArgumentError\u001b[0m: ValueError: Cannot load file containing pickled data when allow_pickle=False\nTraceback (most recent call last):\n\n  File \"/home/ethuer/anaconda3/envs/tf2/lib/python3.7/site-packages/tensorflow_core/python/ops/script_ops.py\", line 236, in __call__\n    ret = func(*args)\n\n  File \"<ipython-input-37-c51acc346937>\", line 4, in map_image\n    img_tensor = np.load(img_name.decode('utf-8')+'.npy')\n\n  File \"/home/ethuer/anaconda3/envs/tf2/lib/python3.7/site-packages/numpy/lib/npyio.py\", line 457, in load\n    raise ValueError(\"Cannot load file containing pickled data \"\n\nValueError: Cannot load file containing pickled data when allow_pickle=False\n\n\n\t [[{{node PyFunc}}]] [Op:IteratorGetNextSync]",
      "\nDuring handling of the above exception, another exception occurred:\n",
      "\u001b[0;31mInvalidArgumentError\u001b[0m                      Traceback (most recent call last)",
      "\u001b[0;32m<ipython-input-62-c5940f0f396b>\u001b[0m in \u001b[0;36m<module>\u001b[0;34m\u001b[0m\n\u001b[1;32m      5\u001b[0m     \u001b[0mtotal_loss\u001b[0m \u001b[0;34m=\u001b[0m \u001b[0;36m0\u001b[0m\u001b[0;34m\u001b[0m\u001b[0;34m\u001b[0m\u001b[0m\n\u001b[1;32m      6\u001b[0m \u001b[0;34m\u001b[0m\u001b[0m\n\u001b[0;32m----> 7\u001b[0;31m     \u001b[0;32mfor\u001b[0m \u001b[0;34m(\u001b[0m\u001b[0mbatch\u001b[0m\u001b[0;34m,\u001b[0m \u001b[0;34m(\u001b[0m\u001b[0mimg_tensor\u001b[0m\u001b[0;34m,\u001b[0m \u001b[0mtarget\u001b[0m\u001b[0;34m)\u001b[0m\u001b[0;34m)\u001b[0m \u001b[0;32min\u001b[0m \u001b[0menumerate\u001b[0m\u001b[0;34m(\u001b[0m\u001b[0mdataset\u001b[0m\u001b[0;34m)\u001b[0m\u001b[0;34m:\u001b[0m\u001b[0;34m\u001b[0m\u001b[0;34m\u001b[0m\u001b[0m\n\u001b[0m\u001b[1;32m      8\u001b[0m \u001b[0;34m\u001b[0m\u001b[0m\n\u001b[1;32m      9\u001b[0m         \u001b[0mbatch_loss\u001b[0m\u001b[0;34m,\u001b[0m \u001b[0mt_loss\u001b[0m \u001b[0;34m=\u001b[0m \u001b[0mtrain_step\u001b[0m\u001b[0;34m(\u001b[0m\u001b[0mimg_tensor\u001b[0m\u001b[0;34m,\u001b[0m \u001b[0mtarget\u001b[0m\u001b[0;34m)\u001b[0m\u001b[0;34m\u001b[0m\u001b[0;34m\u001b[0m\u001b[0m\n",
      "\u001b[0;32m~/anaconda3/envs/tf2/lib/python3.7/site-packages/tensorflow_core/python/data/ops/iterator_ops.py\u001b[0m in \u001b[0;36m__next__\u001b[0;34m(self)\u001b[0m\n\u001b[1;32m    628\u001b[0m \u001b[0;34m\u001b[0m\u001b[0m\n\u001b[1;32m    629\u001b[0m   \u001b[0;32mdef\u001b[0m \u001b[0m__next__\u001b[0m\u001b[0;34m(\u001b[0m\u001b[0mself\u001b[0m\u001b[0;34m)\u001b[0m\u001b[0;34m:\u001b[0m  \u001b[0;31m# For Python 3 compatibility\u001b[0m\u001b[0;34m\u001b[0m\u001b[0;34m\u001b[0m\u001b[0m\n\u001b[0;32m--> 630\u001b[0;31m     \u001b[0;32mreturn\u001b[0m \u001b[0mself\u001b[0m\u001b[0;34m.\u001b[0m\u001b[0mnext\u001b[0m\u001b[0;34m(\u001b[0m\u001b[0;34m)\u001b[0m\u001b[0;34m\u001b[0m\u001b[0;34m\u001b[0m\u001b[0m\n\u001b[0m\u001b[1;32m    631\u001b[0m \u001b[0;34m\u001b[0m\u001b[0m\n\u001b[1;32m    632\u001b[0m   \u001b[0;32mdef\u001b[0m \u001b[0m_next_internal\u001b[0m\u001b[0;34m(\u001b[0m\u001b[0mself\u001b[0m\u001b[0;34m)\u001b[0m\u001b[0;34m:\u001b[0m\u001b[0;34m\u001b[0m\u001b[0;34m\u001b[0m\u001b[0m\n",
      "\u001b[0;32m~/anaconda3/envs/tf2/lib/python3.7/site-packages/tensorflow_core/python/data/ops/iterator_ops.py\u001b[0m in \u001b[0;36mnext\u001b[0;34m(self)\u001b[0m\n\u001b[1;32m    672\u001b[0m     \u001b[0;34m\"\"\"Returns a nested structure of `Tensor`s containing the next element.\"\"\"\u001b[0m\u001b[0;34m\u001b[0m\u001b[0;34m\u001b[0m\u001b[0m\n\u001b[1;32m    673\u001b[0m     \u001b[0;32mtry\u001b[0m\u001b[0;34m:\u001b[0m\u001b[0;34m\u001b[0m\u001b[0;34m\u001b[0m\u001b[0m\n\u001b[0;32m--> 674\u001b[0;31m       \u001b[0;32mreturn\u001b[0m \u001b[0mself\u001b[0m\u001b[0;34m.\u001b[0m\u001b[0m_next_internal\u001b[0m\u001b[0;34m(\u001b[0m\u001b[0;34m)\u001b[0m\u001b[0;34m\u001b[0m\u001b[0;34m\u001b[0m\u001b[0m\n\u001b[0m\u001b[1;32m    675\u001b[0m     \u001b[0;32mexcept\u001b[0m \u001b[0merrors\u001b[0m\u001b[0;34m.\u001b[0m\u001b[0mOutOfRangeError\u001b[0m\u001b[0;34m:\u001b[0m\u001b[0;34m\u001b[0m\u001b[0;34m\u001b[0m\u001b[0m\n\u001b[1;32m    676\u001b[0m       \u001b[0;32mraise\u001b[0m \u001b[0mStopIteration\u001b[0m\u001b[0;34m\u001b[0m\u001b[0;34m\u001b[0m\u001b[0m\n",
      "\u001b[0;32m~/anaconda3/envs/tf2/lib/python3.7/site-packages/tensorflow_core/python/data/ops/iterator_ops.py\u001b[0m in \u001b[0;36m_next_internal\u001b[0;34m(self)\u001b[0m\n\u001b[1;32m    663\u001b[0m         \u001b[0;32mreturn\u001b[0m \u001b[0mself\u001b[0m\u001b[0;34m.\u001b[0m\u001b[0m_element_spec\u001b[0m\u001b[0;34m.\u001b[0m\u001b[0m_from_compatible_tensor_list\u001b[0m\u001b[0;34m(\u001b[0m\u001b[0mret\u001b[0m\u001b[0;34m)\u001b[0m  \u001b[0;31m# pylint: disable=protected-access\u001b[0m\u001b[0;34m\u001b[0m\u001b[0;34m\u001b[0m\u001b[0m\n\u001b[1;32m    664\u001b[0m       \u001b[0;32mexcept\u001b[0m \u001b[0mAttributeError\u001b[0m\u001b[0;34m:\u001b[0m\u001b[0;34m\u001b[0m\u001b[0;34m\u001b[0m\u001b[0m\n\u001b[0;32m--> 665\u001b[0;31m         \u001b[0;32mreturn\u001b[0m \u001b[0mstructure\u001b[0m\u001b[0;34m.\u001b[0m\u001b[0mfrom_compatible_tensor_list\u001b[0m\u001b[0;34m(\u001b[0m\u001b[0mself\u001b[0m\u001b[0;34m.\u001b[0m\u001b[0m_element_spec\u001b[0m\u001b[0;34m,\u001b[0m \u001b[0mret\u001b[0m\u001b[0;34m)\u001b[0m\u001b[0;34m\u001b[0m\u001b[0;34m\u001b[0m\u001b[0m\n\u001b[0m\u001b[1;32m    666\u001b[0m \u001b[0;34m\u001b[0m\u001b[0m\n\u001b[1;32m    667\u001b[0m   \u001b[0;34m@\u001b[0m\u001b[0mproperty\u001b[0m\u001b[0;34m\u001b[0m\u001b[0;34m\u001b[0m\u001b[0m\n",
      "\u001b[0;32m~/anaconda3/envs/tf2/lib/python3.7/contextlib.py\u001b[0m in \u001b[0;36m__exit__\u001b[0;34m(self, type, value, traceback)\u001b[0m\n\u001b[1;32m    128\u001b[0m                 \u001b[0mvalue\u001b[0m \u001b[0;34m=\u001b[0m \u001b[0mtype\u001b[0m\u001b[0;34m(\u001b[0m\u001b[0;34m)\u001b[0m\u001b[0;34m\u001b[0m\u001b[0;34m\u001b[0m\u001b[0m\n\u001b[1;32m    129\u001b[0m             \u001b[0;32mtry\u001b[0m\u001b[0;34m:\u001b[0m\u001b[0;34m\u001b[0m\u001b[0;34m\u001b[0m\u001b[0m\n\u001b[0;32m--> 130\u001b[0;31m                 \u001b[0mself\u001b[0m\u001b[0;34m.\u001b[0m\u001b[0mgen\u001b[0m\u001b[0;34m.\u001b[0m\u001b[0mthrow\u001b[0m\u001b[0;34m(\u001b[0m\u001b[0mtype\u001b[0m\u001b[0;34m,\u001b[0m \u001b[0mvalue\u001b[0m\u001b[0;34m,\u001b[0m \u001b[0mtraceback\u001b[0m\u001b[0;34m)\u001b[0m\u001b[0;34m\u001b[0m\u001b[0;34m\u001b[0m\u001b[0m\n\u001b[0m\u001b[1;32m    131\u001b[0m             \u001b[0;32mexcept\u001b[0m \u001b[0mStopIteration\u001b[0m \u001b[0;32mas\u001b[0m \u001b[0mexc\u001b[0m\u001b[0;34m:\u001b[0m\u001b[0;34m\u001b[0m\u001b[0;34m\u001b[0m\u001b[0m\n\u001b[1;32m    132\u001b[0m                 \u001b[0;31m# Suppress StopIteration *unless* it's the same exception that\u001b[0m\u001b[0;34m\u001b[0m\u001b[0;34m\u001b[0m\u001b[0;34m\u001b[0m\u001b[0m\n",
      "\u001b[0;32m~/anaconda3/envs/tf2/lib/python3.7/site-packages/tensorflow_core/python/eager/context.py\u001b[0m in \u001b[0;36mexecution_mode\u001b[0;34m(mode)\u001b[0m\n\u001b[1;32m   1898\u001b[0m   \u001b[0;32mfinally\u001b[0m\u001b[0;34m:\u001b[0m\u001b[0;34m\u001b[0m\u001b[0;34m\u001b[0m\u001b[0m\n\u001b[1;32m   1899\u001b[0m     \u001b[0mctx\u001b[0m\u001b[0;34m.\u001b[0m\u001b[0mexecutor\u001b[0m \u001b[0;34m=\u001b[0m \u001b[0mexecutor_old\u001b[0m\u001b[0;34m\u001b[0m\u001b[0;34m\u001b[0m\u001b[0m\n\u001b[0;32m-> 1900\u001b[0;31m     \u001b[0mexecutor_new\u001b[0m\u001b[0;34m.\u001b[0m\u001b[0mwait\u001b[0m\u001b[0;34m(\u001b[0m\u001b[0;34m)\u001b[0m\u001b[0;34m\u001b[0m\u001b[0;34m\u001b[0m\u001b[0m\n\u001b[0m\u001b[1;32m   1901\u001b[0m \u001b[0;34m\u001b[0m\u001b[0m\n\u001b[1;32m   1902\u001b[0m \u001b[0;34m\u001b[0m\u001b[0m\n",
      "\u001b[0;32m~/anaconda3/envs/tf2/lib/python3.7/site-packages/tensorflow_core/python/eager/executor.py\u001b[0m in \u001b[0;36mwait\u001b[0;34m(self)\u001b[0m\n\u001b[1;32m     65\u001b[0m   \u001b[0;32mdef\u001b[0m \u001b[0mwait\u001b[0m\u001b[0;34m(\u001b[0m\u001b[0mself\u001b[0m\u001b[0;34m)\u001b[0m\u001b[0;34m:\u001b[0m\u001b[0;34m\u001b[0m\u001b[0;34m\u001b[0m\u001b[0m\n\u001b[1;32m     66\u001b[0m     \u001b[0;34m\"\"\"Waits for ops dispatched in this executor to finish.\"\"\"\u001b[0m\u001b[0;34m\u001b[0m\u001b[0;34m\u001b[0m\u001b[0m\n\u001b[0;32m---> 67\u001b[0;31m     \u001b[0mpywrap_tensorflow\u001b[0m\u001b[0;34m.\u001b[0m\u001b[0mTFE_ExecutorWaitForAllPendingNodes\u001b[0m\u001b[0;34m(\u001b[0m\u001b[0mself\u001b[0m\u001b[0;34m.\u001b[0m\u001b[0m_handle\u001b[0m\u001b[0;34m)\u001b[0m\u001b[0;34m\u001b[0m\u001b[0;34m\u001b[0m\u001b[0m\n\u001b[0m\u001b[1;32m     68\u001b[0m \u001b[0;34m\u001b[0m\u001b[0m\n\u001b[1;32m     69\u001b[0m   \u001b[0;32mdef\u001b[0m \u001b[0mclear_error\u001b[0m\u001b[0;34m(\u001b[0m\u001b[0mself\u001b[0m\u001b[0;34m)\u001b[0m\u001b[0;34m:\u001b[0m\u001b[0;34m\u001b[0m\u001b[0;34m\u001b[0m\u001b[0m\n",
      "\u001b[0;31mInvalidArgumentError\u001b[0m: ValueError: Cannot load file containing pickled data when allow_pickle=False\nTraceback (most recent call last):\n\n  File \"/home/ethuer/anaconda3/envs/tf2/lib/python3.7/site-packages/tensorflow_core/python/ops/script_ops.py\", line 236, in __call__\n    ret = func(*args)\n\n  File \"<ipython-input-37-c51acc346937>\", line 4, in map_image\n    img_tensor = np.load(img_name.decode('utf-8')+'.npy')\n\n  File \"/home/ethuer/anaconda3/envs/tf2/lib/python3.7/site-packages/numpy/lib/npyio.py\", line 457, in load\n    raise ValueError(\"Cannot load file containing pickled data \"\n\nValueError: Cannot load file containing pickled data when allow_pickle=False\n\n\n\t [[{{node PyFunc}}]]"
     ]
    }
   ],
   "source": [
    "EPOCHS = 2\n",
    "loss_plot = []\n",
    "\n",
    "for epoch in range(start_epoch, EPOCHS):\n",
    "    total_loss = 0\n",
    "\n",
    "    for (batch, (img_tensor, target)) in enumerate(dataset):\n",
    "\n",
    "        batch_loss, t_loss = train_step(img_tensor, target)\n",
    "\n",
    "        total_loss += t_loss\n",
    "\n",
    "        if batch % 100 == 0:\n",
    "            if batch % 1000 == 0:\n",
    "                print (f'Epoch {epoch + 1} Batch {batch} Loss { batch_loss.numpy() / int(target.shape[1])}')\n",
    "            loss_plot.append(batch_loss.numpy() / int(target.shape[1]))\n",
    "                   \n",
    "    # storing the epoch end loss value to plot later\n",
    "    loss_plot.append(total_loss / num_steps)\n",
    "\n",
    "    if epoch % 1 == 0:\n",
    "        ckpt_manager.save()\n",
    "\n",
    "    print ('Epoch {} Loss {:.6f}'.format(epoch + 1,\n",
    "                                         total_loss/num_steps))\n",
    "    print ('Time taken for 1 epoch {} sec\\n'.format(time.time() - start))"
   ]
  },
  {
   "cell_type": "code",
   "execution_count": 68,
   "metadata": {
    "scrolled": true
   },
   "outputs": [],
   "source": [
    "loss = pd.DataFrame({'loss':loss_plot})"
   ]
  },
  {
   "cell_type": "code",
   "execution_count": 72,
   "metadata": {
    "colab": {},
    "colab_type": "code",
    "id": "1Wm83G-ZBPcC"
   },
   "outputs": [
    {
     "data": {
      "text/plain": [
       "Text(0.5, 1.0, 'Loss')"
      ]
     },
     "execution_count": 72,
     "metadata": {},
     "output_type": "execute_result"
    },
    {
     "data": {
      "image/png": "[encoded data removed]",
      "text/plain": [
       "<Figure size 1080x504 with 1 Axes>"
      ]
     },
     "metadata": {},
     "output_type": "display_data"
    }
   ],
   "source": [
    "ax = sns.lineplot(x='index', y='loss',data=loss.reset_index())\n",
    "ax.set_title('Loss')"
   ]
  },
  {
   "cell_type": "markdown",
   "metadata": {
    "colab_type": "text",
    "id": "xGvOcLQKghXN"
   },
   "source": [
    "## Phrasikon\n",
    "\n",
    "Das Modell generiert nun eigenständig Labels zu den Bildern.\n"
   ]
  },
  {
   "cell_type": "code",
   "execution_count": 73,
   "metadata": {},
   "outputs": [],
   "source": [
    "attention_features_shape = 25\n",
    "max_length = 20"
   ]
  },
  {
   "cell_type": "code",
   "execution_count": 74,
   "metadata": {},
   "outputs": [],
   "source": [
    "# Load the numpy files\n",
    "def map_image(img_name, sentence):\n",
    "    \"\"\" image name to tensor \"\"\"\n",
    "    img_tensor = np.load(img_name+'.npy')\n",
    "    return img_tensor, sentence"
   ]
  },
  {
   "cell_type": "code",
   "execution_count": 118,
   "metadata": {},
   "outputs": [],
   "source": [
    "import random\n",
    "def generate_results():\n",
    "    idx = random.randint(0,1000)\n",
    "    img_tensor_val, sent =map_image(img_name_val[idx],val_seqs[idx] ) \n",
    "    \n",
    "    features = encoder(img_tensor_val)\n",
    "    hidden = decoder.reset_state(batch_size=1)\n",
    "\n",
    "    dec_input = tf.expand_dims([tokenizer.word_index['<start>']], 0)\n",
    "    \n",
    "    result = []\n",
    "    for i in range(max_length):\n",
    "        predictions, hidden, attention_weights = decoder(dec_input, features, hidden)\n",
    "        predicted_id = tf.random.categorical(predictions, 1)[0][0].numpy()\n",
    "        if not tokenizer.index_word[predicted_id] == 'a':\n",
    "            result.append(tokenizer.index_word[predicted_id])\n",
    "        \n",
    "    return img_name_val[idx], result"
   ]
  },
  {
   "cell_type": "code",
   "execution_count": 119,
   "metadata": {},
   "outputs": [],
   "source": []
  },
  {
   "cell_type": "code",
   "execution_count": 120,
   "metadata": {},
   "outputs": [],
   "source": [
    "from IPython.display import Image"
   ]
  },
  {
   "cell_type": "code",
   "execution_count": 149,
   "metadata": {},
   "outputs": [
    {
     "data": {
      "image/jpeg": "[encoded data removed]",
      "text/plain": [
       "<IPython.core.display.Image object>"
      ]
     },
     "execution_count": 149,
     "metadata": {},
     "output_type": "execute_result"
    }
   ],
   "source": [
    "img, tags = generate_results()\n",
    "Image(filename=img) \n"
   ]
  },
  {
   "cell_type": "code",
   "execution_count": 150,
   "metadata": {},
   "outputs": [
    {
     "name": "stdout",
     "output_type": "stream",
     "text": [
      "['person', 'there', 'this', 'of', 'skier', 'red']\n"
     ]
    }
   ],
   "source": [
    "print(tags)"
   ]
  }
 ],
 "metadata": {
  "accelerator": "GPU",
  "colab": {
   "collapsed_sections": [],
   "name": "image_captioning.ipynb",
   "private_outputs": true,
   "provenance": [],
   "toc_visible": true
  },
  "kernelspec": {
   "display_name": "Python 3",
   "language": "python",
   "name": "python3"
  },
  "language_info": {
   "codemirror_mode": {
    "name": "ipython",
    "version": 3
   },
   "file_extension": ".py",
   "mimetype": "text/x-python",
   "name": "python",
   "nbconvert_exporter": "python",
   "pygments_lexer": "ipython3",
   "version": "3.7.6"
  }
 },
 "nbformat": 4,
 "nbformat_minor": 1
}
