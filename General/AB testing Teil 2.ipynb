{
 "cells": [
  {
   "cell_type": "code",
   "execution_count": 133,
   "metadata": {},
   "outputs": [],
   "source": [
    "import pandas as pd\n",
    "import scipy\n",
    "import numpy as np\n",
    "from datetime import datetime, timedelta\n",
    "import random\n",
    "import matplotlib.pyplot as plt\n",
    "import seaborn as sns\n",
    "from tqdm import tqdm\n",
    "from utils.generators import UserGenerator"
   ]
  },
  {
   "cell_type": "code",
   "execution_count": 2,
   "metadata": {},
   "outputs": [],
   "source": [
    "%matplotlib inline"
   ]
  },
  {
   "cell_type": "code",
   "execution_count": 3,
   "metadata": {},
   "outputs": [],
   "source": [
    "# A simple generator to simulate userdata\n",
    "ug = UserGenerator(column_label='Clickthrough Rate')"
   ]
  },
  {
   "cell_type": "code",
   "execution_count": 4,
   "metadata": {},
   "outputs": [],
   "source": [
    "# creating a dataframe prelabeled for AB testing\n",
    "# the outcome will contain 2 groups, A with a success rate of 12% B with a success rate of 10 % . \n",
    "df = ug.generate_ab_split_df(nr_of_users=4000,positive_ratio_A=0.12, positive_ratio_B=0.1, nr_of_days=5,AB_user_ratio=0.5)"
   ]
  },
  {
   "cell_type": "code",
   "execution_count": 5,
   "metadata": {},
   "outputs": [
    {
     "data": {
      "text/html": [
       "<div>\n",
       "<style scoped>\n",
       "    .dataframe tbody tr th:only-of-type {\n",
       "        vertical-align: middle;\n",
       "    }\n",
       "\n",
       "    .dataframe tbody tr th {\n",
       "        vertical-align: top;\n",
       "    }\n",
       "\n",
       "    .dataframe thead th {\n",
       "        text-align: right;\n",
       "    }\n",
       "</style>\n",
       "<table border=\"1\" class=\"dataframe\">\n",
       "  <thead>\n",
       "    <tr style=\"text-align: right;\">\n",
       "      <th></th>\n",
       "      <th>user_id</th>\n",
       "      <th>Clickthrough Rate</th>\n",
       "      <th>datetime</th>\n",
       "      <th>group</th>\n",
       "    </tr>\n",
       "  </thead>\n",
       "  <tbody>\n",
       "    <tr>\n",
       "      <th>0</th>\n",
       "      <td>uid_4094</td>\n",
       "      <td>0</td>\n",
       "      <td>2020-01-01 18:57:39</td>\n",
       "      <td>A</td>\n",
       "    </tr>\n",
       "    <tr>\n",
       "      <th>1</th>\n",
       "      <td>uid_4095</td>\n",
       "      <td>0</td>\n",
       "      <td>2020-01-03 11:14:06</td>\n",
       "      <td>A</td>\n",
       "    </tr>\n",
       "  </tbody>\n",
       "</table>\n",
       "</div>"
      ],
      "text/plain": [
       "    user_id  Clickthrough Rate            datetime group\n",
       "0  uid_4094                  0 2020-01-01 18:57:39     A\n",
       "1  uid_4095                  0 2020-01-03 11:14:06     A"
      ]
     },
     "execution_count": 5,
     "metadata": {},
     "output_type": "execute_result"
    }
   ],
   "source": [
    "# looking at the data\n",
    "df.head(2)"
   ]
  },
  {
   "cell_type": "code",
   "execution_count": 7,
   "metadata": {},
   "outputs": [],
   "source": [
    "# creating a label to make a more visual plot\n",
    "df['hour'] =  df.datetime.dt.day.astype(str) + df.datetime.dt.hour.astype(str)"
   ]
  },
  {
   "cell_type": "code",
   "execution_count": 9,
   "metadata": {},
   "outputs": [
    {
     "data": {
      "text/plain": [
       "[Text(0, 0.5, 'Häufigkeit'), Text(0.5, 0, 'Clickthrough Rate')]"
      ]
     },
     "execution_count": 9,
     "metadata": {},
     "output_type": "execute_result"
    },
    {
     "data": {
      "image/png": "[encoded data removed]",
      "text/plain": [
       "<Figure size 432x288 with 1 Axes>"
      ]
     },
     "metadata": {
      "needs_background": "light"
     },
     "output_type": "display_data"
    }
   ],
   "source": [
    "# Plot the hour grouped mean clickthrogh distribution\n",
    "ax = sns.distplot(df.loc[df.group == 'A'].groupby(['hour'])['Clickthrough Rate'].mean(), kde=False)\n",
    "ax = sns.distplot(df.loc[df.group == 'B'].groupby(['hour'])['Clickthrough Rate'].mean(), kde=False)\n",
    "ax.set_title('Verteilung, Werte pro Stunde')\n",
    "ax.set(xlabel='Clickthrough Rate', ylabel='Häufigkeit')"
   ]
  },
  {
   "cell_type": "code",
   "execution_count": null,
   "metadata": {},
   "outputs": [],
   "source": [
    "# NOT THE RIGHT WAY !\n",
    "# simplest approaches with wrong / questionable assumptions.\n",
    "# let's assume normal distributed means. \n",
    "# all we need are the means and standard deviations \n",
    "\n",
    "# compare with Unpaired t- test.  Unpaired because the two datasets are not paired up.\n",
    "df.groupby('group')['Clickthrough Rate'].mean()\n",
    "df.groupby('group')['Clickthrough Rate'].std()"
   ]
  },
  {
   "cell_type": "code",
   "execution_count": 41,
   "metadata": {},
   "outputs": [],
   "source": [
    "group_A_modelassumptions = np.random.normal(loc = df.loc[df.group == 'A']['Clickthrough Rate'].mean()\n",
    "                 , scale=df.loc[df.group == 'A']['Clickthrough Rate'].std()\n",
    "                 , size =100 )\n",
    "\n",
    "group_B_modelassumptions = np.random.normal(loc = df.loc[df.group == 'B']['Clickthrough Rate'].mean()\n",
    "                 , scale=df.loc[df.group == 'A']['Clickthrough Rate'].std()\n",
    "                 , size =100 )"
   ]
  },
  {
   "cell_type": "code",
   "execution_count": 158,
   "metadata": {},
   "outputs": [
    {
     "data": {
      "text/plain": [
       "[Text(0, 0.5, 'Häufigkeit'), Text(0.5, 0, 'Clickthrough Rate')]"
      ]
     },
     "execution_count": 158,
     "metadata": {},
     "output_type": "execute_result"
    },
    {
     "data": {
      "image/png": "[encoded data removed]",
      "text/plain": [
       "<Figure size 432x288 with 1 Axes>"
      ]
     },
     "metadata": {
      "needs_background": "light"
     },
     "output_type": "display_data"
    }
   ],
   "source": [
    "# Plot what the model assumes is happening :\n",
    "ax = sns.distplot(group_A_modelassumptions, kde=True, hist=False, rug=True)\n",
    "ax = sns.distplot(group_B_modelassumptions, kde=True, hist=False, rug= True)\n",
    "ax.set_title('Verteilung, simuliertes Gauss')\n",
    "ax.set(xlabel='Clickthrough Rate', ylabel='Häufigkeit')"
   ]
  },
  {
   "cell_type": "code",
   "execution_count": 66,
   "metadata": {},
   "outputs": [],
   "source": [
    "t_statistic, p_value = scipy.stats.ttest_ind(df.loc[df.group=='A']['Clickthrough Rate'],df.loc[df.group=='B']['Clickthrough Rate'] )"
   ]
  },
  {
   "cell_type": "code",
   "execution_count": 67,
   "metadata": {},
   "outputs": [
    {
     "data": {
      "text/plain": [
       "1.8323762880905794"
      ]
     },
     "execution_count": 67,
     "metadata": {},
     "output_type": "execute_result"
    }
   ],
   "source": [
    "# t statistic\n",
    "t_statistic"
   ]
  },
  {
   "cell_type": "code",
   "execution_count": 68,
   "metadata": {},
   "outputs": [
    {
     "data": {
      "text/plain": [
       "0.0669697179949313"
      ]
     },
     "execution_count": 68,
     "metadata": {},
     "output_type": "execute_result"
    }
   ],
   "source": [
    "# p value\n",
    "p_value #  this is above 0.05   so we assume there is no difference between A and B"
   ]
  },
  {
   "cell_type": "code",
   "execution_count": 69,
   "metadata": {},
   "outputs": [],
   "source": [
    "# proper assumptions Binomial Distribution\n",
    "# Fischers Exact test "
   ]
  },
  {
   "cell_type": "code",
   "execution_count": 114,
   "metadata": {},
   "outputs": [],
   "source": [
    "# 2X2 contingency table\n",
    "def create_contingency(df):\n",
    "    \"\"\"\n",
    "    create a contingency table\n",
    "    \"\"\"\n",
    "    contingency = {'A': {'0': df.loc[df.group=='A'].shape[0] - df.loc[df.group=='A']['Clickthrough Rate'].sum() \n",
    "                     \n",
    "                     ,'1': df.loc[df.group=='A']['Clickthrough Rate'].sum() \n",
    "                    }\n",
    "               \n",
    "               ,'B': {'0': df.loc[df.group=='B'].shape[0] - df.loc[df.group=='B']['Clickthrough Rate'].sum() \n",
    "                     \n",
    "                     ,'1': df.loc[df.group=='B']['Clickthrough Rate'].sum() \n",
    "                    }\n",
    "              }\n",
    "    return pd.DataFrame.from_dict(contingency)\n",
    "\n",
    "\n",
    "\n",
    "contingency_table = create_contingency(df)"
   ]
  },
  {
   "cell_type": "code",
   "execution_count": 115,
   "metadata": {},
   "outputs": [
    {
     "data": {
      "text/html": [
       "<div>\n",
       "<style scoped>\n",
       "    .dataframe tbody tr th:only-of-type {\n",
       "        vertical-align: middle;\n",
       "    }\n",
       "\n",
       "    .dataframe tbody tr th {\n",
       "        vertical-align: top;\n",
       "    }\n",
       "\n",
       "    .dataframe thead th {\n",
       "        text-align: right;\n",
       "    }\n",
       "</style>\n",
       "<table border=\"1\" class=\"dataframe\">\n",
       "  <thead>\n",
       "    <tr style=\"text-align: right;\">\n",
       "      <th></th>\n",
       "      <th>A</th>\n",
       "      <th>B</th>\n",
       "    </tr>\n",
       "  </thead>\n",
       "  <tbody>\n",
       "    <tr>\n",
       "      <th>0</th>\n",
       "      <td>1751</td>\n",
       "      <td>1788</td>\n",
       "    </tr>\n",
       "    <tr>\n",
       "      <th>1</th>\n",
       "      <td>249</td>\n",
       "      <td>212</td>\n",
       "    </tr>\n",
       "  </tbody>\n",
       "</table>\n",
       "</div>"
      ],
      "text/plain": [
       "      A     B\n",
       "0  1751  1788\n",
       "1   249   212"
      ]
     },
     "execution_count": 115,
     "metadata": {},
     "output_type": "execute_result"
    }
   ],
   "source": [
    "contingency_table"
   ]
  },
  {
   "cell_type": "code",
   "execution_count": 83,
   "metadata": {},
   "outputs": [],
   "source": [
    "oddsratio, pvalue = scipy.stats.fisher_exact(table=contingency_table)"
   ]
  },
  {
   "cell_type": "code",
   "execution_count": 85,
   "metadata": {},
   "outputs": [
    {
     "data": {
      "text/plain": [
       "0.07456985796196819"
      ]
     },
     "execution_count": 85,
     "metadata": {},
     "output_type": "execute_result"
    }
   ],
   "source": [
    "pvalue"
   ]
  },
  {
   "cell_type": "markdown",
   "metadata": {},
   "source": [
    "Under the assumption that a 20% lift is significant,  \n",
    "lets test how many sample we need to reliably get the right answer"
   ]
  },
  {
   "cell_type": "code",
   "execution_count": 170,
   "metadata": {},
   "outputs": [],
   "source": [
    "\n",
    "\n",
    "def simulate_ABtest(data_generator, nr_of_users,  lift ):\n",
    "    \"\"\"\n",
    "    takes the \n",
    "    \n",
    "    sample generator: UserGenerator OBJECT, \n",
    "    nr_of_users INT : number of requested users and \n",
    "    lift FLOAT : requested lift\n",
    "    \n",
    "    returns:\n",
    "    p values pair\n",
    "    \n",
    "    calculate the p values for the Gaussian (wrong) and Binomial (right) distribution\n",
    "    \n",
    "    \"\"\"\n",
    "    dat = data_generator.generate_ab_split_df(nr_of_users=nr_of_users\n",
    "                                              ,positive_ratio_A=0.1\n",
    "                                              ,positive_ratio_B=0.1 + lift\n",
    "                                              ,nr_of_days=5 # not relevant here\n",
    "                                              ,AB_user_ratio=0.5 ) # euqual sized groups )\n",
    "    \n",
    "    t_statistic, p_value_norm = scipy.stats.ttest_ind(dat.loc[dat.group=='A']['Clickthrough Rate'],\n",
    "                                                 dat.loc[dat.group=='B']['Clickthrough Rate'] )\n",
    "                                                                                        \n",
    "    contingency = create_contingency(dat)\n",
    "    ddsratio, p_value_binom = scipy.stats.fisher_exact(table=contingency)\n",
    "    \n",
    "    return p_value_norm, p_value_binom"
   ]
  },
  {
   "cell_type": "code",
   "execution_count": 171,
   "metadata": {},
   "outputs": [
    {
     "name": "stdout",
     "output_type": "stream",
     "text": [
      "CPU times: user 16.5 ms, sys: 2 µs, total: 16.5 ms\n",
      "Wall time: 14.4 ms\n"
     ]
    },
    {
     "data": {
      "text/plain": [
       "(0.40593079676003696, 0.5766469929158452)"
      ]
     },
     "execution_count": 171,
     "metadata": {},
     "output_type": "execute_result"
    }
   ],
   "source": [
    "%time simulate_ABtest(ug, 100,0.1)"
   ]
  },
  {
   "cell_type": "code",
   "execution_count": 175,
   "metadata": {},
   "outputs": [],
   "source": [
    "# simulate sensitivitiy to sample size\n",
    "\n",
    "sample_sizes = [n*100 for n in range(1,100) ]\n",
    "\n",
    "p_values_samples_sizes = {}\n",
    "\n",
    "\n",
    "for samle_size in sample_sizes:\n",
    "    _, p_val = simulate_ABtest(ug, samle_size ,0.02)\n",
    "    p_values_samples_sizes[samle_size] = p_val\n"
   ]
  },
  {
   "cell_type": "code",
   "execution_count": 176,
   "metadata": {},
   "outputs": [
    {
     "data": {
      "text/plain": [
       "(0.036624428240684764, 0.039569651447312476)"
      ]
     },
     "execution_count": 176,
     "metadata": {},
     "output_type": "execute_result"
    }
   ],
   "source": [
    "simulate_ABtest(ug, 10000 ,0.02)"
   ]
  },
  {
   "cell_type": "code",
   "execution_count": 189,
   "metadata": {},
   "outputs": [],
   "source": [
    "dat = pd.DataFrame.from_dict({'pval':p_values_samples_sizes}, orient='columns')"
   ]
  },
  {
   "cell_type": "code",
   "execution_count": 192,
   "metadata": {},
   "outputs": [],
   "source": [
    "dat.reset_index(inplace=True)"
   ]
  },
  {
   "cell_type": "code",
   "execution_count": 194,
   "metadata": {},
   "outputs": [],
   "source": [
    "dat['significant'] = 1\n",
    "dat.loc[dat.pval < 0.05,'significant'] = 0"
   ]
  },
  {
   "cell_type": "code",
   "execution_count": 204,
   "metadata": {},
   "outputs": [
    {
     "data": {
      "text/plain": [
       "[Text(0, 0.5, 'p-Value'), Text(0.5, 0, 'Zahl der Proben')]"
      ]
     },
     "execution_count": 204,
     "metadata": {},
     "output_type": "execute_result"
    },
    {
     "data": {
      "image/png": "[encoded data removed]",
      "text/plain": [
       "<Figure size 432x288 with 1 Axes>"
      ]
     },
     "metadata": {
      "needs_background": "light"
     },
     "output_type": "display_data"
    }
   ],
   "source": [
    "ax = sns.regplot(x='index',y='pval', data=dat, x_bins=40)\n",
    "ax.set_title(\"p Value vs Messungsanzahl\")\n",
    "ax.set(xlabel='Zahl der Proben', ylabel='p-Value')"
   ]
  },
  {
   "cell_type": "code",
   "execution_count": 111,
   "metadata": {},
   "outputs": [
    {
     "data": {
      "text/plain": [
       "(8.115456395285687e-05, 0.07456985796196819)"
      ]
     },
     "execution_count": 111,
     "metadata": {},
     "output_type": "execute_result"
    }
   ],
   "source": [
    "simulate_ABtest(ug, 200, .2)"
   ]
  },
  {
   "cell_type": "code",
   "execution_count": 156,
   "metadata": {
    "scrolled": true
   },
   "outputs": [
    {
     "name": "stderr",
     "output_type": "stream",
     "text": [
      "100%|██████████| 200/200 [1:19:50<00:00, 23.95s/it]\n"
     ]
    }
   ],
   "source": [
    "# Add also the dimension of lift to test\n",
    "\n",
    "lifts = np.linspace(0,.3,num=200) # between 0 and 30% increase\n",
    "users = [n*100 for n in range(1, 100)]  # 100 to 10000 users\n",
    "repetitions = 5\n",
    "\n",
    "count = 0\n",
    "\n",
    "p_val_norm = pd.DataFrame()\n",
    "p_val_binom = pd.DataFrame()\n",
    "\n",
    "\n",
    "for lift in tqdm(lifts):\n",
    "    for user in users:\n",
    "        for repetition in range(repetitions):\n",
    "            count +=1\n",
    "            \n",
    "            pn, pb = simulate_ABtest(ug, user,lift)\n",
    "            \n",
    "#            p_val_norm_dict[f'{lift}-{user}-{repetition}'] = pn\n",
    "#            p_val_binom_dict[f'{lift}-{user}-{repetition}'] = pb\n",
    "            \n",
    "            \n",
    "            p_val_norm = p_val_norm.append(pd.Series({'lift':lift, 'users':user,'rep': repetition, 'pval':pn}),ignore_index=True )\n",
    "            p_val_binom = p_val_norm.append(pd.Series({'lift':lift, 'users':user,'rep':repetition, 'pval':pb}),ignore_index=True )"
   ]
  },
  {
   "cell_type": "code",
   "execution_count": 157,
   "metadata": {},
   "outputs": [],
   "source": [
    "p_val_binom.to_csv('pvalues_binom_table.csv')\n",
    "p_val_norm.to_csv('pvalues_norm_table.csv')"
   ]
  },
  {
   "cell_type": "code",
   "execution_count": 148,
   "metadata": {},
   "outputs": [
    {
     "data": {
      "text/plain": [
       "lift\n",
       "0.000000    0.286347\n",
       "0.001508    0.267419\n",
       "0.003015    0.282347\n",
       "0.004523    0.293667\n",
       "0.006030    0.276073\n",
       "              ...   \n",
       "0.293970    0.297401\n",
       "0.295477    0.275073\n",
       "0.296985    0.271366\n",
       "0.298492    0.287270\n",
       "0.300000    0.287207\n",
       "Name: pval, Length: 200, dtype: float64"
      ]
     },
     "execution_count": 148,
     "metadata": {},
     "output_type": "execute_result"
    }
   ],
   "source": [
    "p_val_norm.groupby('lift')['pval'].std()"
   ]
  },
  {
   "cell_type": "code",
   "execution_count": 154,
   "metadata": {},
   "outputs": [
    {
     "data": {
      "text/plain": [
       "<matplotlib.axes._subplots.AxesSubplot at 0x7f3265c0b5c0>"
      ]
     },
     "execution_count": 154,
     "metadata": {},
     "output_type": "execute_result"
    },
    {
     "data": {
      "image/png": "[encoded data removed]",
      "text/plain": [
       "<Figure size 432x288 with 1 Axes>"
      ]
     },
     "metadata": {
      "needs_background": "light"
     },
     "output_type": "display_data"
    }
   ],
   "source": [
    "p_val_norm.plot(kind='line',x='lift', y='pval')"
   ]
  },
  {
   "cell_type": "code",
   "execution_count": 155,
   "metadata": {},
   "outputs": [
    {
     "data": {
      "text/plain": [
       "<matplotlib.axes._subplots.AxesSubplot at 0x7f32a1e18eb8>"
      ]
     },
     "execution_count": 155,
     "metadata": {},
     "output_type": "execute_result"
    },
    {
     "data": {
      "image/png": "[encoded data removed]",
      "text/plain": [
       "<Figure size 432x288 with 1 Axes>"
      ]
     },
     "metadata": {
      "needs_background": "light"
     },
     "output_type": "display_data"
    }
   ],
   "source": [
    "sns.lineplot(x=\"lift\", y=\"pval\", data=p_val_norm)"
   ]
  },
  {
   "cell_type": "code",
   "execution_count": 138,
   "metadata": {},
   "outputs": [
    {
     "data": {
      "text/html": [
       "<div>\n",
       "<style scoped>\n",
       "    .dataframe tbody tr th:only-of-type {\n",
       "        vertical-align: middle;\n",
       "    }\n",
       "\n",
       "    .dataframe tbody tr th {\n",
       "        vertical-align: top;\n",
       "    }\n",
       "\n",
       "    .dataframe thead th {\n",
       "        text-align: right;\n",
       "    }\n",
       "</style>\n",
       "<table border=\"1\" class=\"dataframe\">\n",
       "  <thead>\n",
       "    <tr style=\"text-align: right;\">\n",
       "      <th></th>\n",
       "      <th>lift</th>\n",
       "      <th>pval</th>\n",
       "      <th>rep</th>\n",
       "      <th>users</th>\n",
       "    </tr>\n",
       "  </thead>\n",
       "  <tbody>\n",
       "    <tr>\n",
       "      <th>0</th>\n",
       "      <td>0.0</td>\n",
       "      <td>0.029176</td>\n",
       "      <td>0.0</td>\n",
       "      <td>100.0</td>\n",
       "    </tr>\n",
       "    <tr>\n",
       "      <th>1</th>\n",
       "      <td>0.0</td>\n",
       "      <td>0.206349</td>\n",
       "      <td>1.0</td>\n",
       "      <td>100.0</td>\n",
       "    </tr>\n",
       "    <tr>\n",
       "      <th>2</th>\n",
       "      <td>0.0</td>\n",
       "      <td>1.000000</td>\n",
       "      <td>2.0</td>\n",
       "      <td>100.0</td>\n",
       "    </tr>\n",
       "    <tr>\n",
       "      <th>3</th>\n",
       "      <td>0.0</td>\n",
       "      <td>0.429601</td>\n",
       "      <td>3.0</td>\n",
       "      <td>100.0</td>\n",
       "    </tr>\n",
       "    <tr>\n",
       "      <th>4</th>\n",
       "      <td>0.0</td>\n",
       "      <td>0.021674</td>\n",
       "      <td>4.0</td>\n",
       "      <td>100.0</td>\n",
       "    </tr>\n",
       "    <tr>\n",
       "      <th>...</th>\n",
       "      <td>...</td>\n",
       "      <td>...</td>\n",
       "      <td>...</td>\n",
       "      <td>...</td>\n",
       "    </tr>\n",
       "    <tr>\n",
       "      <th>98996</th>\n",
       "      <td>0.3</td>\n",
       "      <td>0.029176</td>\n",
       "      <td>1.0</td>\n",
       "      <td>9900.0</td>\n",
       "    </tr>\n",
       "    <tr>\n",
       "      <th>98997</th>\n",
       "      <td>0.3</td>\n",
       "      <td>0.466447</td>\n",
       "      <td>2.0</td>\n",
       "      <td>9900.0</td>\n",
       "    </tr>\n",
       "    <tr>\n",
       "      <th>98998</th>\n",
       "      <td>0.3</td>\n",
       "      <td>0.136334</td>\n",
       "      <td>3.0</td>\n",
       "      <td>9900.0</td>\n",
       "    </tr>\n",
       "    <tr>\n",
       "      <th>98999</th>\n",
       "      <td>0.3</td>\n",
       "      <td>0.279874</td>\n",
       "      <td>4.0</td>\n",
       "      <td>9900.0</td>\n",
       "    </tr>\n",
       "    <tr>\n",
       "      <th>99000</th>\n",
       "      <td>0.3</td>\n",
       "      <td>0.074570</td>\n",
       "      <td>4.0</td>\n",
       "      <td>9900.0</td>\n",
       "    </tr>\n",
       "  </tbody>\n",
       "</table>\n",
       "<p>99001 rows × 4 columns</p>\n",
       "</div>"
      ],
      "text/plain": [
       "       lift      pval  rep   users\n",
       "0       0.0  0.029176  0.0   100.0\n",
       "1       0.0  0.206349  1.0   100.0\n",
       "2       0.0  1.000000  2.0   100.0\n",
       "3       0.0  0.429601  3.0   100.0\n",
       "4       0.0  0.021674  4.0   100.0\n",
       "...     ...       ...  ...     ...\n",
       "98996   0.3  0.029176  1.0  9900.0\n",
       "98997   0.3  0.466447  2.0  9900.0\n",
       "98998   0.3  0.136334  3.0  9900.0\n",
       "98999   0.3  0.279874  4.0  9900.0\n",
       "99000   0.3  0.074570  4.0  9900.0\n",
       "\n",
       "[99001 rows x 4 columns]"
      ]
     },
     "execution_count": 138,
     "metadata": {},
     "output_type": "execute_result"
    }
   ],
   "source": [
    "p_val_binom.loc['']"
   ]
  },
  {
   "cell_type": "code",
   "execution_count": null,
   "metadata": {},
   "outputs": [],
   "source": []
  }
 ],
 "metadata": {
  "kernelspec": {
   "display_name": "Python 3",
   "language": "python",
   "name": "python3"
  },
  "language_info": {
   "codemirror_mode": {
    "name": "ipython",
    "version": 3
   },
   "file_extension": ".py",
   "mimetype": "text/x-python",
   "name": "python",
   "nbconvert_exporter": "python",
   "pygments_lexer": "ipython3",
   "version": "3.6.9"
  }
 },
 "nbformat": 4,
 "nbformat_minor": 4
}
