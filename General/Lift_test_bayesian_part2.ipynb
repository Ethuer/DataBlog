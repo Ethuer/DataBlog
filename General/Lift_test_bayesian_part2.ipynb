{
 "cells": [
  {
   "cell_type": "code",
   "execution_count": 1,
   "metadata": {},
   "outputs": [
    {
     "name": "stderr",
     "output_type": "stream",
     "text": [
      "WARNING (theano.tensor.blas): Using NumPy C-API based implementation for BLAS functions.\n"
     ]
    }
   ],
   "source": [
    "import pandas as pd\n",
    "import pymc3 as pm\n",
    "import theano.tensor as tt\n",
    "import numpy as np\n",
    "from collections import Counter\n",
    "\n",
    "import seaborn as sns\n",
    "import matplotlib.pyplot as plt"
   ]
  },
  {
   "cell_type": "code",
   "execution_count": 2,
   "metadata": {},
   "outputs": [],
   "source": [
    "from utils.generators import UserGenerator"
   ]
  },
  {
   "cell_type": "code",
   "execution_count": 3,
   "metadata": {},
   "outputs": [],
   "source": [
    "# Automate the process from part 1\n",
    "\n",
    "def calculate_posterior(ug, n_samples , initial_rate, lift,user_ratio=0.5 ):\n",
    "    nr_of_days = 1\n",
    "    hour_split = int((nr_of_days*24) * user_ratio )\n",
    "    \n",
    "    # create dataset\n",
    "    dat = ug.generate_lift_data(n_samples,initial_rate,lift,nr_of_days, user_ratio=user_ratio)\n",
    "    \n",
    "    \n",
    "    # parse_time\n",
    "    dat['hour'] = dat.datetime.dt.hour\n",
    "    dat = dat.reset_index()[['user_id','datetime','purchased','hour']]\n",
    "    #return dat\n",
    "    # sample it\n",
    "    trace_sampled = run_sampler(dat)\n",
    "    \n",
    "    tau_post = trace_sampled['tau'][:5000]\n",
    "    \n",
    "    dat_time = dat[['hour']]\n",
    "    dat_time['posterior_split'] = dat_time.index.to_series().map(Counter(tau_post))\n",
    "    \n",
    "    time_split = dat_time.groupby('hour')['posterior_split'].sum()\n",
    "    lambda_1_trace = trace_sampled['lambda_1'] * dat.shape[0]\n",
    "    lambda_2_trace = trace_sampled['lambda_2'] * dat.shape[0]\n",
    "    \n",
    "    # accuracy for time prediction\n",
    "    try:\n",
    "        print(\"timecalc\", hour_split, time_split[hour_split],  time_split.sum())\n",
    "    except:\n",
    "        print(time_split)\n",
    "    \n",
    "    time_accuracy = time_split[hour_split] / time_split.sum()\n",
    "    \n",
    "    return lambda_1_trace, lambda_2_trace, time_accuracy\n",
    "    # return accuracy\n",
    "    \n",
    "\n",
    "def run_sampler(dat):\n",
    "    \n",
    "    with pm.Model() as model:\n",
    "    \n",
    "        lambda_1 = pm.Uniform(\"lambda_1\",  lower=0, upper=1)\n",
    "        lambda_2 = pm.Uniform(\"lambda_2\",  lower=0, upper=1)\n",
    "    \n",
    "        tau = pm.DiscreteUniform(\"tau\", lower=0, upper=dat.shape[0] - 1)\n",
    "    \n",
    "        # to be able to tell the index point of change we need to add an index\n",
    "        index = np.arange(dat.shape[0])\n",
    "    \n",
    "        # a switch to find the point of interest\n",
    "        lambda_ = pm.math.switch(tau > index, lambda_1, lambda_2)\n",
    "    \n",
    "        observation = pm.Binomial(\"obs\", p=lambda_, n=dat.shape[0], observed=dat.purchased)\n",
    "\n",
    "        # initializer \n",
    "        start = pm.find_MAP()\n",
    "        # NUTS sampler\n",
    "        step = pm.NUTS()\n",
    "        trace = pm.sample(15000, tune=7000,step=step, discard_tuned_samples=True)\n",
    "        \n",
    "        \n",
    "    return trace[:20000] # return burned trace\n",
    "    "
   ]
  },
  {
   "cell_type": "code",
   "execution_count": null,
   "metadata": {},
   "outputs": [],
   "source": [
    "user_numbers = [100, 500, 1000, 5000,10000]\n",
    "lift_detection = {}\n",
    "dataframe = pd.DataFrame()\n",
    "for n_users in user_numbers:\n",
    "    lift_detection = {}\n",
    "    for lift in np.linspace(0.05,0.5,num=10):\n",
    "        \n",
    "        base_p = 0.1\n",
    "    \n",
    "        lambda_1, lambda_2, time_accuracy = calculate_posterior(ug, n_users, base_p , lift, user_ratio=0.25 )\n",
    "        \n",
    "        lift_detection[f'{n_users}-{lift}'] = {'lift':lift,\n",
    "                                'l1':lambda_1.mean(), \n",
    "                                'l2':lambda_2.mean(), \n",
    "                                \"time_accuracy\":time_accuracy,\n",
    "                                'user':n_users}\n",
    "        \n",
    "        \n",
    "    dat = pd.DataFrame.from_dict(lift_detection, orient='index')\n",
    "    #dat['usernumber'] = n_users\n",
    "    \n",
    "    dataframe = dataframe.append(dat)\n",
    "    "
   ]
  }
 ],
 "metadata": {
  "kernelspec": {
   "display_name": "Python 3",
   "language": "python",
   "name": "python3"
  },
  "language_info": {
   "codemirror_mode": {
    "name": "ipython",
    "version": 3
   },
   "file_extension": ".py",
   "mimetype": "text/x-python",
   "name": "python",
   "nbconvert_exporter": "python",
   "pygments_lexer": "ipython3",
   "version": "3.6.9"
  }
 },
 "nbformat": 4,
 "nbformat_minor": 4
}
