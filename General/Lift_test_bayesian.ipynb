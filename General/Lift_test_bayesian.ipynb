{
 "cells": [
  {
   "cell_type": "code",
   "execution_count": 1,
   "metadata": {},
   "outputs": [
    {
     "name": "stderr",
     "output_type": "stream",
     "text": [
      "WARNING (theano.tensor.blas): Using NumPy C-API based implementation for BLAS functions.\n"
     ]
    }
   ],
   "source": [
    "import pandas as pd\n",
    "import pymc3 as pm\n",
    "import theano.tensor as tt\n",
    "import numpy as np\n",
    "from collections import Counter\n",
    "\n",
    "import seaborn as sns\n",
    "import matplotlib.pyplot as plt"
   ]
  },
  {
   "cell_type": "code",
   "execution_count": 2,
   "metadata": {},
   "outputs": [],
   "source": [
    "from utils.generators import UserGenerator"
   ]
  },
  {
   "cell_type": "code",
   "execution_count": 3,
   "metadata": {},
   "outputs": [],
   "source": [
    "ug = UserGenerator()"
   ]
  },
  {
   "cell_type": "code",
   "execution_count": 4,
   "metadata": {},
   "outputs": [],
   "source": [
    "dat = ug.generate_lift_data(1000,0.1,0.5,1)"
   ]
  },
  {
   "cell_type": "code",
   "execution_count": 8,
   "metadata": {},
   "outputs": [],
   "source": [
    "# extract and sort by time\n",
    "\n",
    "dat['hour'] = dat.datetime.dt.hour\n",
    "\n",
    "dat = dat.reset_index()[['user_id','datetime','purchased','hour']]"
   ]
  },
  {
   "cell_type": "code",
   "execution_count": 9,
   "metadata": {},
   "outputs": [
    {
     "data": {
      "image/png": "[encoded data removed]",
      "text/plain": [
       "<Figure size 720x360 with 1 Axes>"
      ]
     },
     "metadata": {
      "needs_background": "light"
     },
     "output_type": "display_data"
    }
   ],
   "source": [
    "fig = plt.figure(figsize=(10,5))\n",
    "sns.set_context(\"paper\")\n",
    "ax = sns.lineplot( data=dat.groupby('hour')['purchased'].mean() )\n",
    "ax.set_title(\"Verkaufsratios pro Stunde\")\n",
    "ax.set(xlabel='Stunde', ylabel='Ratio')\n",
    "sns.despine()"
   ]
  },
  {
   "cell_type": "code",
   "execution_count": 10,
   "metadata": {},
   "outputs": [
    {
     "data": {
      "text/html": [
       "<div>\n",
       "<style scoped>\n",
       "    .dataframe tbody tr th:only-of-type {\n",
       "        vertical-align: middle;\n",
       "    }\n",
       "\n",
       "    .dataframe tbody tr th {\n",
       "        vertical-align: top;\n",
       "    }\n",
       "\n",
       "    .dataframe thead th {\n",
       "        text-align: right;\n",
       "    }\n",
       "</style>\n",
       "<table border=\"1\" class=\"dataframe\">\n",
       "  <thead>\n",
       "    <tr style=\"text-align: right;\">\n",
       "      <th></th>\n",
       "      <th>user_id</th>\n",
       "      <th>datetime</th>\n",
       "      <th>purchased</th>\n",
       "      <th>hour</th>\n",
       "    </tr>\n",
       "  </thead>\n",
       "  <tbody>\n",
       "    <tr>\n",
       "      <th>826</th>\n",
       "      <td>uid_6306</td>\n",
       "      <td>2020-01-01 19:58:33</td>\n",
       "      <td>0</td>\n",
       "      <td>19</td>\n",
       "    </tr>\n",
       "    <tr>\n",
       "      <th>321</th>\n",
       "      <td>uid_6652</td>\n",
       "      <td>2020-01-01 07:37:17</td>\n",
       "      <td>0</td>\n",
       "      <td>7</td>\n",
       "    </tr>\n",
       "    <tr>\n",
       "      <th>134</th>\n",
       "      <td>uid_5889</td>\n",
       "      <td>2020-01-01 03:12:07</td>\n",
       "      <td>0</td>\n",
       "      <td>3</td>\n",
       "    </tr>\n",
       "    <tr>\n",
       "      <th>613</th>\n",
       "      <td>uid_6347</td>\n",
       "      <td>2020-01-01 15:06:29</td>\n",
       "      <td>1</td>\n",
       "      <td>15</td>\n",
       "    </tr>\n",
       "    <tr>\n",
       "      <th>220</th>\n",
       "      <td>uid_6800</td>\n",
       "      <td>2020-01-01 05:14:52</td>\n",
       "      <td>0</td>\n",
       "      <td>5</td>\n",
       "    </tr>\n",
       "    <tr>\n",
       "      <th>945</th>\n",
       "      <td>uid_6565</td>\n",
       "      <td>2020-01-01 22:48:10</td>\n",
       "      <td>0</td>\n",
       "      <td>22</td>\n",
       "    </tr>\n",
       "    <tr>\n",
       "      <th>651</th>\n",
       "      <td>uid_6811</td>\n",
       "      <td>2020-01-01 16:00:20</td>\n",
       "      <td>0</td>\n",
       "      <td>16</td>\n",
       "    </tr>\n",
       "    <tr>\n",
       "      <th>133</th>\n",
       "      <td>uid_6675</td>\n",
       "      <td>2020-01-01 03:11:14</td>\n",
       "      <td>0</td>\n",
       "      <td>3</td>\n",
       "    </tr>\n",
       "    <tr>\n",
       "      <th>498</th>\n",
       "      <td>uid_6821</td>\n",
       "      <td>2020-01-01 12:22:27</td>\n",
       "      <td>0</td>\n",
       "      <td>12</td>\n",
       "    </tr>\n",
       "    <tr>\n",
       "      <th>750</th>\n",
       "      <td>uid_6524</td>\n",
       "      <td>2020-01-01 18:22:05</td>\n",
       "      <td>1</td>\n",
       "      <td>18</td>\n",
       "    </tr>\n",
       "  </tbody>\n",
       "</table>\n",
       "</div>"
      ],
      "text/plain": [
       "      user_id            datetime  purchased  hour\n",
       "826  uid_6306 2020-01-01 19:58:33          0    19\n",
       "321  uid_6652 2020-01-01 07:37:17          0     7\n",
       "134  uid_5889 2020-01-01 03:12:07          0     3\n",
       "613  uid_6347 2020-01-01 15:06:29          1    15\n",
       "220  uid_6800 2020-01-01 05:14:52          0     5\n",
       "945  uid_6565 2020-01-01 22:48:10          0    22\n",
       "651  uid_6811 2020-01-01 16:00:20          0    16\n",
       "133  uid_6675 2020-01-01 03:11:14          0     3\n",
       "498  uid_6821 2020-01-01 12:22:27          0    12\n",
       "750  uid_6524 2020-01-01 18:22:05          1    18"
      ]
     },
     "execution_count": 10,
     "metadata": {},
     "output_type": "execute_result"
    }
   ],
   "source": [
    "dat.sample(10)"
   ]
  },
  {
   "cell_type": "code",
   "execution_count": null,
   "metadata": {},
   "outputs": [],
   "source": []
  },
  {
   "cell_type": "code",
   "execution_count": 17,
   "metadata": {},
   "outputs": [
    {
     "name": "stderr",
     "output_type": "stream",
     "text": [
      "logp = -768.67, ||grad|| = 225.96: 100%|██████████| 19/19 [00:00<00:00, 3624.17it/s]  \n",
      "Multiprocess sampling (4 chains in 4 jobs)\n",
      "CompoundStep\n",
      ">NUTS: [lambda_2, lambda_1]\n",
      ">Metropolis: [tau]\n",
      "Sampling 4 chains, 0 divergences: 100%|██████████| 60000/60000 [00:10<00:00, 5473.32draws/s]\n",
      "The number of effective samples is smaller than 25% for some parameters.\n"
     ]
    }
   ],
   "source": [
    "with pm.Model() as model:\n",
    "    \n",
    "    lambda_1 = pm.Uniform(\"lambda_1\",  lower=0, upper=1)\n",
    "    lambda_2 = pm.Uniform(\"lambda_2\",  lower=0, upper=1)\n",
    "    \n",
    "    tau = pm.DiscreteUniform(\"tau\", lower=0, upper=dat.shape[0] - 1)\n",
    "    \n",
    "    # to be able to tell the index point of change we need to add an index\n",
    "    index = np.arange(dat.shape[0])\n",
    "    \n",
    "    # a switch to find the point of interest\n",
    "    lambda_ = pm.math.switch(tau > index, lambda_1, lambda_2)\n",
    "    \n",
    "    observation = pm.Binomial(\"obs\", p=lambda_, n=dat.shape[0], observed=dat.purchased)\n",
    "\n",
    "    # initializer \n",
    "    start = pm.find_MAP()\n",
    "    # NUTS sampler\n",
    "    step = pm.NUTS()\n",
    "    trace = pm.sample(10000, tune=5000, step=step, discard_tuned_samples=True)"
   ]
  },
  {
   "cell_type": "code",
   "execution_count": 18,
   "metadata": {},
   "outputs": [
    {
     "data": {
      "text/plain": [
       "40000"
      ]
     },
     "execution_count": 18,
     "metadata": {},
     "output_type": "execute_result"
    }
   ],
   "source": [
    "#len(trace['tau'])"
   ]
  },
  {
   "cell_type": "code",
   "execution_count": 12,
   "metadata": {},
   "outputs": [],
   "source": [
    "tau_post = trace['tau'][:5000]\n",
    "\n",
    "lambda_1 = trace['lambda_1'][:5000] * dat.shape[0]\n",
    "lambda_2 = trace['lambda_2'][:5000] * dat.shape[0]\n"
   ]
  },
  {
   "cell_type": "markdown",
   "metadata": {},
   "source": [
    "Clean up the date time inference"
   ]
  },
  {
   "cell_type": "code",
   "execution_count": 23,
   "metadata": {},
   "outputs": [
    {
     "name": "stderr",
     "output_type": "stream",
     "text": [
      "/home/ethuer/.local/lib/python3.6/site-packages/ipykernel_launcher.py:2: SettingWithCopyWarning: \n",
      "A value is trying to be set on a copy of a slice from a DataFrame.\n",
      "Try using .loc[row_indexer,col_indexer] = value instead\n",
      "\n",
      "See the caveats in the documentation: https://pandas.pydata.org/pandas-docs/stable/user_guide/indexing.html#returning-a-view-versus-a-copy\n",
      "  \n"
     ]
    },
    {
     "data": {
      "text/plain": [
       "<matplotlib.axes._subplots.AxesSubplot at 0x7f857a2f7d68>"
      ]
     },
     "execution_count": 23,
     "metadata": {},
     "output_type": "execute_result"
    },
    {
     "data": {
      "image/png": "[encoded data removed]",
      "text/plain": [
       "<Figure size 432x288 with 1 Axes>"
      ]
     },
     "metadata": {
      "needs_background": "light"
     },
     "output_type": "display_data"
    }
   ],
   "source": [
    "dat_time = dat[['hour']]\n",
    "dat_time['posterior_split'] = dat_time.index.to_series().map(Counter(tau_post))\n",
    "dat_time.groupby('hour')['posterior_split'].sum().plot(kind='bar')"
   ]
  },
  {
   "cell_type": "code",
   "execution_count": 64,
   "metadata": {},
   "outputs": [
    {
     "data": {
      "text/plain": [
       "[Text(0, 0.5, 'Relative Häufigkeit'), Text(0.5, 0, 'Index')]"
      ]
     },
     "execution_count": 64,
     "metadata": {},
     "output_type": "execute_result"
    },
    {
     "data": {
      "image/png": "[encoded data removed]",
      "text/plain": [
       "<Figure size 720x360 with 1 Axes>"
      ]
     },
     "metadata": {
      "needs_background": "light"
     },
     "output_type": "display_data"
    }
   ],
   "source": [
    "fig = plt.figure(figsize=(10,5))\n",
    "ax = sns.distplot(tau_post,color='g', hist=False)\n",
    "ax.set_title(\"Verteilung für Umstieg Lambda 1 zu Lambda 2\")\n",
    "ax.set(xlabel='Index', ylabel='Relative Häufigkeit')"
   ]
  },
  {
   "cell_type": "code",
   "execution_count": 71,
   "metadata": {},
   "outputs": [
    {
     "data": {
      "image/png": "[encoded data removed]",
      "text/plain": [
       "<Figure size 720x360 with 1 Axes>"
      ]
     },
     "metadata": {
      "needs_background": "light"
     },
     "output_type": "display_data"
    }
   ],
   "source": [
    "\n",
    "fig = plt.figure(figsize=(10,5))\n",
    "ax = sns.distplot(lambda_1)\n",
    "sns.distplot(lambda_2)\n",
    "ax.set_title(\"Posteriore Wahrscheinlichkeiten Vor und Nach Lift\")\n",
    "ax.set(xlabel='Wahrscheinlichkeit', ylabel='Relative Häufigkeit')\n",
    "legend = ax.legend(labels=[\"Erste Gruppe\",\"Nach Lift\"])\n",
    "legend.legendHandles[1].set_color('orange')\n"
   ]
  },
  {
   "cell_type": "code",
   "execution_count": 99,
   "metadata": {},
   "outputs": [],
   "source": [
    "# Automate the process\n",
    "\n",
    "def calculate_posterior(ug, n_samples , initial_rate, lift,user_ratio=0.5 ):\n",
    "    nr_of_days = 1\n",
    "    hour_split = int((nr_of_days*24) * user_ratio )\n",
    "    \n",
    "    # create dataset\n",
    "    dat = ug.generate_lift_data(n_samples,initial_rate,lift,nr_of_days, user_ratio=user_ratio)\n",
    "    \n",
    "    \n",
    "    # parse_time\n",
    "    dat['hour'] = dat.datetime.dt.hour\n",
    "    dat = dat.reset_index()[['user_id','datetime','purchased','hour']]\n",
    "    #return dat\n",
    "    # sample it\n",
    "    trace_sampled = run_sampler(dat)\n",
    "    \n",
    "    tau_post = trace_sampled['tau'][:5000]\n",
    "    \n",
    "    dat_time = dat[['hour']]\n",
    "    dat_time['posterior_split'] = dat_time.index.to_series().map(Counter(tau_post))\n",
    "    \n",
    "    time_split = dat_time.groupby('hour')['posterior_split'].sum()\n",
    "    lambda_1_trace = trace_sampled['lambda_1'] * dat.shape[0]\n",
    "    lambda_2_trace = trace_sampled['lambda_2'] * dat.shape[0]\n",
    "    \n",
    "    # accuracy for time prediction\n",
    "    time_accuracy = time_split[hour_split] / time_split.sum()\n",
    "    \n",
    "\n",
    "    return lambda_1_trace, lambda_2_trace, time_accuracy\n",
    "    # return accuracy\n",
    "    \n",
    "\n",
    "def run_sampler(dat):\n",
    "    \n",
    "    with pm.Model() as model:\n",
    "    \n",
    "        lambda_1 = pm.Uniform(\"lambda_1\",  lower=0, upper=1)\n",
    "        lambda_2 = pm.Uniform(\"lambda_2\",  lower=0, upper=1)\n",
    "    \n",
    "        tau = pm.DiscreteUniform(\"tau\", lower=0, upper=dat.shape[0] - 1)\n",
    "    \n",
    "        # to be able to tell the index point of change we need to add an index\n",
    "        index = np.arange(dat.shape[0])\n",
    "    \n",
    "        # a switch to find the point of interest\n",
    "        lambda_ = pm.math.switch(tau > index, lambda_1, lambda_2)\n",
    "    \n",
    "        observation = pm.Binomial(\"obs\", p=lambda_, n=dat.shape[0], observed=dat.purchased)\n",
    "\n",
    "        # initializer \n",
    "        start = pm.find_MAP()\n",
    "        # NUTS sampler\n",
    "        step = pm.NUTS()\n",
    "        trace = pm.sample(15000, tune=7000,step=step, discard_tuned_samples=True)\n",
    "        \n",
    "    return trace"
   ]
  },
  {
   "cell_type": "code",
   "execution_count": null,
   "metadata": {},
   "outputs": [],
   "source": []
  },
  {
   "cell_type": "code",
   "execution_count": 101,
   "metadata": {},
   "outputs": [
    {
     "name": "stderr",
     "output_type": "stream",
     "text": [
      "logp = -606.36, ||grad|| = 267.84: 100%|██████████| 19/19 [00:00<00:00, 3350.22it/s]  \n",
      "Multiprocess sampling (4 chains in 4 jobs)\n",
      "CompoundStep\n",
      ">NUTS: [lambda_2, lambda_1]\n",
      ">Metropolis: [tau]\n",
      "Sampling 4 chains, 654 divergences: 100%|██████████| 88000/88000 [00:18<00:00, 4850.15draws/s]\n",
      "There were 7 divergences after tuning. Increase `target_accept` or reparameterize.\n",
      "There were 3 divergences after tuning. Increase `target_accept` or reparameterize.\n",
      "There were 5 divergences after tuning. Increase `target_accept` or reparameterize.\n",
      "The acceptance probability does not match the target. It is 0.8919081150583968, but should be close to 0.8. Try to increase the number of tuning steps.\n",
      "There were 639 divergences after tuning. Increase `target_accept` or reparameterize.\n",
      "The acceptance probability does not match the target. It is 0.6899322778454049, but should be close to 0.8. Try to increase the number of tuning steps.\n",
      "The rhat statistic is larger than 1.05 for some parameters. This indicates slight problems during sampling.\n",
      "The estimated number of effective samples is smaller than 200 for some parameters.\n",
      "/home/ethuer/.local/lib/python3.6/site-packages/ipykernel_launcher.py:21: SettingWithCopyWarning: \n",
      "A value is trying to be set on a copy of a slice from a DataFrame.\n",
      "Try using .loc[row_indexer,col_indexer] = value instead\n",
      "\n",
      "See the caveats in the documentation: https://pandas.pydata.org/pandas-docs/stable/user_guide/indexing.html#returning-a-view-versus-a-copy\n",
      "logp = -660.62, ||grad|| = 254.93: 100%|██████████| 19/19 [00:00<00:00, 3373.05it/s]  \n",
      "Multiprocess sampling (4 chains in 4 jobs)\n",
      "CompoundStep\n",
      ">NUTS: [lambda_2, lambda_1]\n",
      ">Metropolis: [tau]\n",
      "Sampling 4 chains, 2,920 divergences: 100%|██████████| 88000/88000 [00:27<00:00, 3216.62draws/s]\n",
      "There were 68 divergences after tuning. Increase `target_accept` or reparameterize.\n",
      "The acceptance probability does not match the target. It is 0.9050712582736258, but should be close to 0.8. Try to increase the number of tuning steps.\n",
      "There were 19 divergences after tuning. Increase `target_accept` or reparameterize.\n",
      "The acceptance probability does not match the target. It is 0.5071759257572394, but should be close to 0.8. Try to increase the number of tuning steps.\n",
      "There were 57 divergences after tuning. Increase `target_accept` or reparameterize.\n",
      "There were 2776 divergences after tuning. Increase `target_accept` or reparameterize.\n",
      "The acceptance probability does not match the target. It is 0.5822787488000674, but should be close to 0.8. Try to increase the number of tuning steps.\n",
      "The rhat statistic is larger than 1.4 for some parameters. The sampler did not converge.\n",
      "The estimated number of effective samples is smaller than 200 for some parameters.\n",
      "/home/ethuer/.local/lib/python3.6/site-packages/ipykernel_launcher.py:21: SettingWithCopyWarning: \n",
      "A value is trying to be set on a copy of a slice from a DataFrame.\n",
      "Try using .loc[row_indexer,col_indexer] = value instead\n",
      "\n",
      "See the caveats in the documentation: https://pandas.pydata.org/pandas-docs/stable/user_guide/indexing.html#returning-a-view-versus-a-copy\n",
      "logp = -691.07, ||grad|| = 247.41: 100%|██████████| 19/19 [00:00<00:00, 3710.39it/s]  \n",
      "Multiprocess sampling (4 chains in 4 jobs)\n",
      "CompoundStep\n",
      ">NUTS: [lambda_2, lambda_1]\n",
      ">Metropolis: [tau]\n",
      "Sampling 4 chains, 5 divergences: 100%|██████████| 88000/88000 [00:16<00:00, 5286.73draws/s]\n",
      "There was 1 divergence after tuning. Increase `target_accept` or reparameterize.\n",
      "There were 4 divergences after tuning. Increase `target_accept` or reparameterize.\n",
      "The number of effective samples is smaller than 10% for some parameters.\n",
      "/home/ethuer/.local/lib/python3.6/site-packages/ipykernel_launcher.py:21: SettingWithCopyWarning: \n",
      "A value is trying to be set on a copy of a slice from a DataFrame.\n",
      "Try using .loc[row_indexer,col_indexer] = value instead\n",
      "\n",
      "See the caveats in the documentation: https://pandas.pydata.org/pandas-docs/stable/user_guide/indexing.html#returning-a-view-versus-a-copy\n",
      "logp = -725.57, ||grad|| = 238.6: 100%|██████████| 19/19 [00:00<00:00, 3514.37it/s]  \n",
      "Multiprocess sampling (4 chains in 4 jobs)\n",
      "CompoundStep\n",
      ">NUTS: [lambda_2, lambda_1]\n",
      ">Metropolis: [tau]\n",
      "Sampling 4 chains, 0 divergences: 100%|██████████| 88000/88000 [00:17<00:00, 5109.73draws/s]\n",
      "The number of effective samples is smaller than 25% for some parameters.\n",
      "/home/ethuer/.local/lib/python3.6/site-packages/ipykernel_launcher.py:21: SettingWithCopyWarning: \n",
      "A value is trying to be set on a copy of a slice from a DataFrame.\n",
      "Try using .loc[row_indexer,col_indexer] = value instead\n",
      "\n",
      "See the caveats in the documentation: https://pandas.pydata.org/pandas-docs/stable/user_guide/indexing.html#returning-a-view-versus-a-copy\n",
      "logp = -729.6, ||grad|| = 237.54: 100%|██████████| 19/19 [00:00<00:00, 4141.98it/s]  \n",
      "Multiprocess sampling (4 chains in 4 jobs)\n",
      "CompoundStep\n",
      ">NUTS: [lambda_2, lambda_1]\n",
      ">Metropolis: [tau]\n",
      "Sampling 4 chains, 0 divergences: 100%|██████████| 88000/88000 [00:17<00:00, 5042.44draws/s]\n",
      "The number of effective samples is smaller than 10% for some parameters.\n",
      "/home/ethuer/.local/lib/python3.6/site-packages/ipykernel_launcher.py:21: SettingWithCopyWarning: \n",
      "A value is trying to be set on a copy of a slice from a DataFrame.\n",
      "Try using .loc[row_indexer,col_indexer] = value instead\n",
      "\n",
      "See the caveats in the documentation: https://pandas.pydata.org/pandas-docs/stable/user_guide/indexing.html#returning-a-view-versus-a-copy\n",
      "logp = -798.95, ||grad|| = 218.61: 100%|██████████| 18/18 [00:00<00:00, 4085.58it/s]  \n",
      "Multiprocess sampling (4 chains in 4 jobs)\n",
      "CompoundStep\n",
      ">NUTS: [lambda_2, lambda_1]\n",
      ">Metropolis: [tau]\n",
      "Sampling 4 chains, 0 divergences: 100%|██████████| 88000/88000 [00:17<00:00, 4996.70draws/s]\n",
      "The number of effective samples is smaller than 25% for some parameters.\n",
      "/home/ethuer/.local/lib/python3.6/site-packages/ipykernel_launcher.py:21: SettingWithCopyWarning: \n",
      "A value is trying to be set on a copy of a slice from a DataFrame.\n",
      "Try using .loc[row_indexer,col_indexer] = value instead\n",
      "\n",
      "See the caveats in the documentation: https://pandas.pydata.org/pandas-docs/stable/user_guide/indexing.html#returning-a-view-versus-a-copy\n",
      "logp = -796.25, ||grad|| = 219.25: 100%|██████████| 18/18 [00:00<00:00, 3850.14it/s]  \n",
      "Multiprocess sampling (4 chains in 4 jobs)\n",
      "CompoundStep\n",
      ">NUTS: [lambda_2, lambda_1]\n",
      ">Metropolis: [tau]\n",
      "Sampling 4 chains, 0 divergences: 100%|██████████| 88000/88000 [00:17<00:00, 5033.68draws/s]\n",
      "The number of effective samples is smaller than 25% for some parameters.\n",
      "/home/ethuer/.local/lib/python3.6/site-packages/ipykernel_launcher.py:21: SettingWithCopyWarning: \n",
      "A value is trying to be set on a copy of a slice from a DataFrame.\n",
      "Try using .loc[row_indexer,col_indexer] = value instead\n",
      "\n",
      "See the caveats in the documentation: https://pandas.pydata.org/pandas-docs/stable/user_guide/indexing.html#returning-a-view-versus-a-copy\n",
      "logp = -844.02, ||grad|| = 205.05: 100%|██████████| 18/18 [00:00<00:00, 3997.96it/s]  \n",
      "Multiprocess sampling (4 chains in 4 jobs)\n",
      "CompoundStep\n",
      ">NUTS: [lambda_2, lambda_1]\n",
      ">Metropolis: [tau]\n",
      "Sampling 4 chains, 0 divergences: 100%|██████████| 88000/88000 [00:17<00:00, 5145.97draws/s]\n",
      "The number of effective samples is smaller than 25% for some parameters.\n",
      "/home/ethuer/.local/lib/python3.6/site-packages/ipykernel_launcher.py:21: SettingWithCopyWarning: \n",
      "A value is trying to be set on a copy of a slice from a DataFrame.\n",
      "Try using .loc[row_indexer,col_indexer] = value instead\n",
      "\n",
      "See the caveats in the documentation: https://pandas.pydata.org/pandas-docs/stable/user_guide/indexing.html#returning-a-view-versus-a-copy\n",
      "logp = -865.01, ||grad|| = 198.22: 100%|██████████| 18/18 [00:00<00:00, 3685.86it/s]  \n",
      "Multiprocess sampling (4 chains in 4 jobs)\n",
      "CompoundStep\n",
      ">NUTS: [lambda_2, lambda_1]\n",
      ">Metropolis: [tau]\n",
      "Sampling 4 chains, 0 divergences: 100%|██████████| 88000/88000 [00:17<00:00, 4978.83draws/s]\n",
      "The number of effective samples is smaller than 10% for some parameters.\n",
      "/home/ethuer/.local/lib/python3.6/site-packages/ipykernel_launcher.py:21: SettingWithCopyWarning: \n",
      "A value is trying to be set on a copy of a slice from a DataFrame.\n",
      "Try using .loc[row_indexer,col_indexer] = value instead\n",
      "\n",
      "See the caveats in the documentation: https://pandas.pydata.org/pandas-docs/stable/user_guide/indexing.html#returning-a-view-versus-a-copy\n"
     ]
    },
    {
     "name": "stderr",
     "output_type": "stream",
     "text": [
      "logp = -878.69, ||grad|| = 193.58: 100%|██████████| 18/18 [00:00<00:00, 3900.67it/s]  \n",
      "Multiprocess sampling (4 chains in 4 jobs)\n",
      "CompoundStep\n",
      ">NUTS: [lambda_2, lambda_1]\n",
      ">Metropolis: [tau]\n",
      "Sampling 4 chains, 0 divergences: 100%|██████████| 88000/88000 [00:17<00:00, 5102.19draws/s]\n",
      "The number of effective samples is smaller than 25% for some parameters.\n",
      "/home/ethuer/.local/lib/python3.6/site-packages/ipykernel_launcher.py:21: SettingWithCopyWarning: \n",
      "A value is trying to be set on a copy of a slice from a DataFrame.\n",
      "Try using .loc[row_indexer,col_indexer] = value instead\n",
      "\n",
      "See the caveats in the documentation: https://pandas.pydata.org/pandas-docs/stable/user_guide/indexing.html#returning-a-view-versus-a-copy\n"
     ]
    }
   ],
   "source": [
    "user_numbers = [1000]\n",
    "lift_detection = {}\n",
    "dataframe = pd.DataFrame()\n",
    "for n_users in user_numbers:\n",
    "    for lift in np.linspace(0.05,0.5,num=10):\n",
    "    \n",
    "        lambda_1, lambda_2, time_accuracy = calculate_posterior(ug, 1000, 0.1, lift, user_ratio=0.25 )\n",
    "    \n",
    "    \n",
    "        lift_detection[lift] = {'l1':lambda_1.mean(), \n",
    "                                'l2':lambda_2.mean(), \n",
    "                                \"time_accuracy\":time_accuracy }\n",
    "        \n",
    "        \n",
    "    dat = pd.DataFrame.from_dict(lift_detection, orient='index')\n",
    "    dat['usernumber'] = n_users\n",
    "    \n",
    "    dataframe = dataframe.append(dat)\n",
    "    "
   ]
  },
  {
   "cell_type": "code",
   "execution_count": 100,
   "metadata": {},
   "outputs": [
    {
     "ename": "NameError",
     "evalue": "name 'lift_detection' is not defined",
     "output_type": "error",
     "traceback": [
      "\u001b[0;31m---------------------------------------------------------------------------\u001b[0m",
      "\u001b[0;31mNameError\u001b[0m                                 Traceback (most recent call last)",
      "\u001b[0;32m<ipython-input-100-0539dc151fe6>\u001b[0m in \u001b[0;36m<module>\u001b[0;34m\u001b[0m\n\u001b[0;32m----> 1\u001b[0;31m \u001b[0mlift_detection\u001b[0m\u001b[0;34m\u001b[0m\u001b[0;34m\u001b[0m\u001b[0m\n\u001b[0m",
      "\u001b[0;31mNameError\u001b[0m: name 'lift_detection' is not defined"
     ]
    }
   ],
   "source": []
  },
  {
   "cell_type": "code",
   "execution_count": null,
   "metadata": {},
   "outputs": [],
   "source": []
  }
 ],
 "metadata": {
  "kernelspec": {
   "display_name": "Python 3",
   "language": "python",
   "name": "python3"
  },
  "language_info": {
   "codemirror_mode": {
    "name": "ipython",
    "version": 3
   },
   "file_extension": ".py",
   "mimetype": "text/x-python",
   "name": "python",
   "nbconvert_exporter": "python",
   "pygments_lexer": "ipython3",
   "version": "3.6.9"
  }
 },
 "nbformat": 4,
 "nbformat_minor": 4
}
